{
 "cells": [
  {
   "cell_type": "code",
   "execution_count": 97,
   "metadata": {},
   "outputs": [],
   "source": [
    "from collections import defaultdict\n",
    "from functools import reduce\n",
    "class Node:\n",
    "    def __init__(self):\n",
    "        self.state = 0\n",
    "        self.input_history = defaultdict(int)\n",
    "        self.destinations = []\n",
    "\n",
    "class Board:\n",
    "    def __init__(self):\n",
    "        self.broadcast = [] #List of destination nodes\n",
    "        self.flip_flop = defaultdict(Node)\n",
    "        self.conjunction = defaultdict(Node)\n"
   ]
  },
  {
   "cell_type": "code",
   "execution_count": 40,
   "metadata": {},
   "outputs": [],
   "source": [
    "def read_file(filename='test'):\n",
    "    b = Board()\n",
    "    input_file = open(f'data/{filename}_20', 'r')\n",
    "    data = input_file.read().splitlines()\n",
    "    for n in data:\n",
    "        node_name, destinations = n.split(' -> ')\n",
    "        if node_name == 'broadcaster':\n",
    "            b.broadcast = destinations.split(', ')\n",
    "        elif node_name.startswith(\"%\"):\n",
    "            b.flip_flop[node_name[1:]].destinations = destinations.split(', ')\n",
    "        else:\n",
    "            b.conjunction[node_name[1:]].destinations = destinations.split(', ')\n",
    "    for n in b.flip_flop:\n",
    "        for d in b.flip_flop[n].destinations:\n",
    "            if d in b.conjunction:\n",
    "                b.conjunction[d].input_history[n] = 0\n",
    "    for n in b.conjunction:\n",
    "        for d in b.conjunction[n].destinations:\n",
    "            if d in b.conjunction:\n",
    "                b.conjunction[d].input_history[n] = 0\n",
    "    return b"
   ]
  },
  {
   "cell_type": "code",
   "execution_count": 66,
   "metadata": {},
   "outputs": [],
   "source": [
    "def push_button(b, pulse_counter):\n",
    "    pulses = []\n",
    "    pulses.append(('button', 'broadcaster', 0))\n",
    "    while pulses:\n",
    "        current_pulse = pulses.pop(0)\n",
    "        from_node, node_name, pulse = current_pulse\n",
    "        pulse_counter[pulse] += 1\n",
    "        if node_name == 'broadcaster':\n",
    "            for n in b.broadcast:\n",
    "                pulses.append((node_name, n, pulse))\n",
    "        elif node_name in b.flip_flop:\n",
    "            if pulse == 1:\n",
    "                continue\n",
    "            else:\n",
    "                b.flip_flop[node_name].state = (b.flip_flop[node_name].state + 1) % 2\n",
    "                for n in b.flip_flop[node_name].destinations:\n",
    "                    pulses.append((node_name, n, b.flip_flop[node_name].state))\n",
    "        else:\n",
    "            b.conjunction[node_name].input_history[from_node] = pulse\n",
    "            new_pulse = (int(all(b.conjunction[node_name].input_history.values())) + 1) % 2\n",
    "            for n in b.conjunction[node_name].destinations:\n",
    "                pulses.append((node_name, n, new_pulse))\n",
    "    return (b, pulse_counter)"
   ]
  },
  {
   "cell_type": "code",
   "execution_count": 89,
   "metadata": {},
   "outputs": [],
   "source": [
    "def push_button_earlystop(b, cancel_node_name = 'rx', cancel_signal = 0, cancel_signal_from_node = None):\n",
    "    pulses = []\n",
    "    pulses.append(('button', 'broadcaster', 0))\n",
    "    while pulses:\n",
    "        current_pulse = pulses.pop(0)\n",
    "        from_node, node_name, pulse = current_pulse\n",
    "        if cancel_signal_from_node == None:\n",
    "            cancel_signal_from_node = from_node\n",
    "        if (node_name == cancel_node_name) and (pulse == cancel_signal) and (from_node == cancel_signal_from_node):\n",
    "            return (b, True)\n",
    "        if node_name == 'broadcaster':\n",
    "            for n in b.broadcast:\n",
    "                pulses.append((node_name, n, pulse))\n",
    "        elif node_name in b.flip_flop:\n",
    "            if pulse == 1:\n",
    "                continue\n",
    "            else:\n",
    "                b.flip_flop[node_name].state = (b.flip_flop[node_name].state + 1) % 2\n",
    "                for n in b.flip_flop[node_name].destinations:\n",
    "                    pulses.append((node_name, n, b.flip_flop[node_name].state))\n",
    "        else:\n",
    "            b.conjunction[node_name].input_history[from_node] = pulse\n",
    "            new_pulse = (int(all(b.conjunction[node_name].input_history.values())) + 1) % 2\n",
    "            for n in b.conjunction[node_name].destinations:\n",
    "                pulses.append((node_name, n, new_pulse))\n",
    "    return (b, False)"
   ]
  },
  {
   "cell_type": "code",
   "execution_count": 100,
   "metadata": {},
   "outputs": [
    {
     "data": {
      "text/plain": [
       "680278040"
      ]
     },
     "execution_count": 100,
     "metadata": {},
     "output_type": "execute_result"
    }
   ],
   "source": [
    "def first_star(filename='test'):\n",
    "    b = read_file('input')\n",
    "    pulse_counter = defaultdict(int)\n",
    "\n",
    "    for i in range(1000):\n",
    "        b, pulse_counter = push_button(b, pulse_counter)\n",
    "\n",
    "    return pulse_counter[0]*pulse_counter[1]\n",
    "\n",
    "first_star('input')"
   ]
  },
  {
   "cell_type": "code",
   "execution_count": 85,
   "metadata": {},
   "outputs": [
    {
     "ename": "KeyboardInterrupt",
     "evalue": "",
     "output_type": "error",
     "traceback": [
      "\u001b[0;31m---------------------------------------------------------------------------\u001b[0m",
      "\u001b[0;31mKeyboardInterrupt\u001b[0m                         Traceback (most recent call last)",
      "\u001b[1;32m/Users/dziekonski/Documents/Learning/code/aoc/2023/Day_20.ipynb Cell 12\u001b[0m line \u001b[0;36m<cell line: 3>\u001b[0;34m()\u001b[0m\n\u001b[1;32m      <a href='vscode-notebook-cell:/Users/dziekonski/Documents/Learning/code/aoc/2023/Day_20.ipynb#X36sZmlsZQ%3D%3D?line=1'>2</a>\u001b[0m b \u001b[39m=\u001b[39m read_file(\u001b[39m'\u001b[39m\u001b[39minput\u001b[39m\u001b[39m'\u001b[39m)\n\u001b[1;32m      <a href='vscode-notebook-cell:/Users/dziekonski/Documents/Learning/code/aoc/2023/Day_20.ipynb#X36sZmlsZQ%3D%3D?line=2'>3</a>\u001b[0m \u001b[39mfor\u001b[39;00m i \u001b[39min\u001b[39;00m \u001b[39mrange\u001b[39m(\u001b[39m1000000000000\u001b[39m):\n\u001b[0;32m----> <a href='vscode-notebook-cell:/Users/dziekonski/Documents/Learning/code/aoc/2023/Day_20.ipynb#X36sZmlsZQ%3D%3D?line=3'>4</a>\u001b[0m     b, res \u001b[39m=\u001b[39m push_button_earlystop(b, cancel_node_name \u001b[39m=\u001b[39;49m \u001b[39m'\u001b[39;49m\u001b[39mrx\u001b[39;49m\u001b[39m'\u001b[39;49m, cancel_signal \u001b[39m=\u001b[39;49m \u001b[39m0\u001b[39;49m)\n\u001b[1;32m      <a href='vscode-notebook-cell:/Users/dziekonski/Documents/Learning/code/aoc/2023/Day_20.ipynb#X36sZmlsZQ%3D%3D?line=4'>5</a>\u001b[0m     \u001b[39mif\u001b[39;00m res:\n\u001b[1;32m      <a href='vscode-notebook-cell:/Users/dziekonski/Documents/Learning/code/aoc/2023/Day_20.ipynb#X36sZmlsZQ%3D%3D?line=5'>6</a>\u001b[0m         \u001b[39mprint\u001b[39m(i)\n",
      "\u001b[1;32m/Users/dziekonski/Documents/Learning/code/aoc/2023/Day_20.ipynb Cell 12\u001b[0m line \u001b[0;36mpush_button_earlystop\u001b[0;34m(b, cancel_node_name, cancel_signal)\u001b[0m\n\u001b[1;32m     <a href='vscode-notebook-cell:/Users/dziekonski/Documents/Learning/code/aoc/2023/Day_20.ipynb#X36sZmlsZQ%3D%3D?line=20'>21</a>\u001b[0m         new_pulse \u001b[39m=\u001b[39m (\u001b[39mint\u001b[39m(\u001b[39mall\u001b[39m(b\u001b[39m.\u001b[39mconjunction[node_name]\u001b[39m.\u001b[39minput_history\u001b[39m.\u001b[39mvalues())) \u001b[39m+\u001b[39m \u001b[39m1\u001b[39m) \u001b[39m%\u001b[39m \u001b[39m2\u001b[39m\n\u001b[1;32m     <a href='vscode-notebook-cell:/Users/dziekonski/Documents/Learning/code/aoc/2023/Day_20.ipynb#X36sZmlsZQ%3D%3D?line=21'>22</a>\u001b[0m         \u001b[39mfor\u001b[39;00m n \u001b[39min\u001b[39;00m b\u001b[39m.\u001b[39mconjunction[node_name]\u001b[39m.\u001b[39mdestinations:\n\u001b[0;32m---> <a href='vscode-notebook-cell:/Users/dziekonski/Documents/Learning/code/aoc/2023/Day_20.ipynb#X36sZmlsZQ%3D%3D?line=22'>23</a>\u001b[0m             pulses\u001b[39m.\u001b[39mappend((node_name, n, new_pulse))\n\u001b[1;32m     <a href='vscode-notebook-cell:/Users/dziekonski/Documents/Learning/code/aoc/2023/Day_20.ipynb#X36sZmlsZQ%3D%3D?line=23'>24</a>\u001b[0m \u001b[39mreturn\u001b[39;00m (b, \u001b[39mFalse\u001b[39;00m)\n",
      "\u001b[0;31mKeyboardInterrupt\u001b[0m: "
     ]
    }
   ],
   "source": [
    "#Brute Force - takes too long time\n",
    "b = read_file('input')\n",
    "for i in range(1000000000000):\n",
    "    b, res = push_button_earlystop(b, cancel_node_name = 'rx', cancel_signal = 0)\n",
    "    if res:\n",
    "        print(i)\n",
    "        break"
   ]
  },
  {
   "cell_type": "markdown",
   "metadata": {},
   "source": [
    "# Reverse Engineering\n",
    "\n",
    "## General info from input file\n",
    "RX gets signal from &vf\n",
    "VF gets signal from &hf, &pm, &mk, &pk\n",
    "\n",
    "## Chain of thought\n",
    "So RX gets a LOW signal only when all inputs from VF sent recently HIGH signal.\n",
    "There are 4 inputs to VF, which are also conjunction. We need to find separate the button clicks number, when those 4 send HIGH signal."
   ]
  },
  {
   "cell_type": "code",
   "execution_count": 101,
   "metadata": {},
   "outputs": [
    {
     "data": {
      "text/plain": [
       "243548140870057"
      ]
     },
     "execution_count": 101,
     "metadata": {},
     "output_type": "execute_result"
    }
   ],
   "source": [
    "def second_star(filename='test'):\n",
    "    res = {}\n",
    "    for n in ['hf','pm', 'mk', 'pk']:\n",
    "        b = read_file('input')\n",
    "        for i in range(1000000000):\n",
    "            b, flound = push_button_earlystop(b, cancel_node_name = 'vf', cancel_signal = 1, cancel_signal_from_node=n)\n",
    "            if flound:\n",
    "                res[n] = (i+1)\n",
    "                break\n",
    "    return reduce((lambda x, y: x * y), res.values())\n",
    "\n",
    "second_star('input')"
   ]
  }
 ],
 "metadata": {
  "kernelspec": {
   "display_name": "andres",
   "language": "python",
   "name": "python3"
  },
  "language_info": {
   "codemirror_mode": {
    "name": "ipython",
    "version": 3
   },
   "file_extension": ".py",
   "mimetype": "text/x-python",
   "name": "python",
   "nbconvert_exporter": "python",
   "pygments_lexer": "ipython3",
   "version": "3.9.12"
  },
  "orig_nbformat": 4
 },
 "nbformat": 4,
 "nbformat_minor": 2
}
