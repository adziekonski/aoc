{
 "cells": [
  {
   "cell_type": "code",
   "execution_count": 4,
   "metadata": {},
   "outputs": [],
   "source": [
    "from collections import Counter"
   ]
  },
  {
   "cell_type": "code",
   "execution_count": 5,
   "metadata": {},
   "outputs": [],
   "source": [
    "def read_file(filename='test'):\n",
    "    input_file = open(f'data/{filename}_07', 'r')\n",
    "    data = [[row.split()[0],int(row.split()[1])] for row in  input_file.read().splitlines()]\n",
    "    return data"
   ]
  },
  {
   "cell_type": "code",
   "execution_count": 52,
   "metadata": {},
   "outputs": [],
   "source": [
    "cards_importance = \"AKQJT98765432\"[::-1]\n",
    "cards_importance_joker = \"AKQT98765432J\"[::-1]"
   ]
  },
  {
   "cell_type": "code",
   "execution_count": 44,
   "metadata": {},
   "outputs": [],
   "source": [
    "def hand_type(hand):\n",
    "    count = Counter(hand).values()\n",
    "    if max(count)==5:\n",
    "        return 6\n",
    "    elif max(count)==4:\n",
    "        return 5\n",
    "    elif (3 in count) and (2 in count):\n",
    "        return 4\n",
    "    elif (3 in count):\n",
    "        return 3\n",
    "    elif len([c for c in count if c==2])==2:\n",
    "        return 2\n",
    "    elif (2 in count):\n",
    "        return 1\n",
    "    else:\n",
    "        return 0"
   ]
  },
  {
   "cell_type": "code",
   "execution_count": 61,
   "metadata": {},
   "outputs": [],
   "source": [
    "def hand_type_joker(hand):\n",
    "    jokers = len([c for c in hand if c=='J'])\n",
    "    hand = [c for c in hand if c!='J']\n",
    "    count = Counter(hand).values()\n",
    "    if jokers==5:\n",
    "        return 6\n",
    "    if (max(count)+jokers)==5:\n",
    "        return 6\n",
    "    elif (max(count)+jokers)==4:\n",
    "        return 5\n",
    "    elif (3 in count) and (2 in count): \n",
    "        return 4\n",
    "    elif (max(count)>1) and (jokers==2): \n",
    "        return 4\n",
    "    elif (len([c for c in count if c==2])==2) and (jokers==1):\n",
    "        return 4\n",
    "    elif (jokers==2):\n",
    "        return 3\n",
    "    elif (3 in count):\n",
    "        return 3\n",
    "    elif (2 in count) and (jokers==1):\n",
    "        return 3\n",
    "    elif jokers==1:\n",
    "        return 1\n",
    "    elif len([c for c in count if c==2])==2:\n",
    "        return 2\n",
    "    elif (2 in count):\n",
    "        return 1\n",
    "    else:\n",
    "        return 0"
   ]
  },
  {
   "cell_type": "code",
   "execution_count": 45,
   "metadata": {},
   "outputs": [],
   "source": [
    "def first_star(filename='test'):\n",
    "    data = read_file(filename)\n",
    "    res = 0\n",
    "    data = [(r[0], r[1], hand_type(r[0]), *[cards_importance.find(card) for card in r[0]] ) for r in data]\n",
    "    for k in range(len(data[0])-1, 1, -1):\n",
    "        data = sorted(data, key = lambda x: x[k], reverse=False)\n",
    "    for i,row in enumerate(data):\n",
    "        res += (i+1)*row[1]\n",
    "    return (res,data)"
   ]
  },
  {
   "cell_type": "code",
   "execution_count": 62,
   "metadata": {},
   "outputs": [],
   "source": [
    "def second_star(filename='test'):\n",
    "    data = read_file(filename)\n",
    "    res = 0\n",
    "    data = [(r[0], r[1], hand_type_joker(r[0]), *[cards_importance_joker.find(card) for card in r[0]] ) for r in data]\n",
    "    for k in range(len(data[0])-1, 1, -1):\n",
    "        data = sorted(data, key = lambda x: x[k], reverse=False)\n",
    "    for i,row in enumerate(data):\n",
    "        res += (i+1)*row[1]\n",
    "    return (res,data)"
   ]
  },
  {
   "cell_type": "code",
   "execution_count": 66,
   "metadata": {},
   "outputs": [
    {
     "data": {
      "text/plain": [
       "254024898"
      ]
     },
     "execution_count": 66,
     "metadata": {},
     "output_type": "execute_result"
    }
   ],
   "source": [
    "r,d = first_star(filename='input')\n",
    "r"
   ]
  },
  {
   "cell_type": "code",
   "execution_count": 67,
   "metadata": {},
   "outputs": [
    {
     "data": {
      "text/plain": [
       "254115617"
      ]
     },
     "execution_count": 67,
     "metadata": {},
     "output_type": "execute_result"
    }
   ],
   "source": [
    "r,d = second_star(filename='input')\n",
    "r"
   ]
  },
  {
   "cell_type": "code",
   "execution_count": null,
   "metadata": {},
   "outputs": [],
   "source": []
  }
 ],
 "metadata": {
  "kernelspec": {
   "display_name": "andres",
   "language": "python",
   "name": "python3"
  },
  "language_info": {
   "codemirror_mode": {
    "name": "ipython",
    "version": 3
   },
   "file_extension": ".py",
   "mimetype": "text/x-python",
   "name": "python",
   "nbconvert_exporter": "python",
   "pygments_lexer": "ipython3",
   "version": "3.9.12"
  },
  "orig_nbformat": 4
 },
 "nbformat": 4,
 "nbformat_minor": 2
}
