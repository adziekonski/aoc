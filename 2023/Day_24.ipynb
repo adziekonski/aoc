{
 "cells": [
  {
   "cell_type": "code",
   "execution_count": 192,
   "metadata": {},
   "outputs": [],
   "source": [
    "from collections import Counter"
   ]
  },
  {
   "cell_type": "code",
   "execution_count": null,
   "metadata": {},
   "outputs": [],
   "source": [
    "def read_file(filename='test'):\n",
    "    input_file = open(f'data/{filename}_24', 'r')\n",
    "    data = input_file.read().splitlines()\n",
    "    data = [\",\".join(r.split(\"@\")) for r in data]\n",
    "    data = [[int(v) for v in r.split(\",\")] for r in data]\n",
    "    res = []\n",
    "    for d in data:\n",
    "        res.append({\"x\":d[0], \"y\":d[1], \"z\":d[2], \"dx\":d[3], \"dy\":d[4], \"dz\":d[5]})\n",
    "    return res"
   ]
  },
  {
   "cell_type": "code",
   "execution_count": null,
   "metadata": {},
   "outputs": [],
   "source": [
    "def calc_formula_2d(r):\n",
    "    a = r[\"dy\"]/r[\"dx\"]\n",
    "    b = r[\"y\"]+r[\"dy\"] - a*(r[\"x\"]+r[\"dx\"])\n",
    "    return (a,b)\n",
    "\n",
    "def is_in_past_2d(r, crossing):\n",
    "    x_diff = (r[\"x\"] - crossing[\"x\"]) >= 0\n",
    "    y_diff = (r[\"y\"] - crossing[\"y\"]) >= 0\n",
    "    x_dir = r[\"dx\"] >= 0\n",
    "    y_dir = r[\"dy\"] >= 0\n",
    "    \n",
    "    return (x_diff == x_dir) and (y_diff == y_dir)\n",
    "\n",
    "def find_intersections_2d(data):\n",
    "    intersections_past = []\n",
    "    intersections_future = []\n",
    "    parallels = []\n",
    "    for h1 in range(len(data)):\n",
    "        for h2 in range(h1+1, len(data)):\n",
    "            if data[h1]['a'] == data[h2]['a']:\n",
    "                parallels.append((h1,h2))\n",
    "                continue\n",
    "            cross_x = (data[h2]['b'] - data[h1]['b'])/(data[h1]['a'] - data[h2]['a'])\n",
    "            cross_y = data[h1]['a']*cross_x + data[h1]['b']\n",
    "            if is_in_past_2d(data[h1], {\"x\":cross_x, \"y\":cross_y}) | is_in_past_2d(data[h2], {\"x\":cross_x, \"y\":cross_y}):\n",
    "                intersections_past.append((h1,h2,cross_x,cross_y))\n",
    "            else:\n",
    "                intersections_future.append((h1,h2,cross_x,cross_y))\n",
    "    return intersections_past,intersections_future,parallels"
   ]
  },
  {
   "cell_type": "code",
   "execution_count": null,
   "metadata": {},
   "outputs": [],
   "source": []
  },
  {
   "cell_type": "code",
   "execution_count": null,
   "metadata": {},
   "outputs": [],
   "source": [
    "def first_star(filename='test'):\n",
    "    BOUNDRIES_RANGE =  (200000000000000, 400000000000000)\n",
    "    data = read_file(filename)\n",
    "    for r in data:\n",
    "        formula = calc_formula_2d(r)\n",
    "        r['a'] = formula[0]\n",
    "        r['b'] = formula[1]\n",
    "    intersections_past,intersections_future,parallels = find_intersections_2d(data)\n",
    "    res = 0\n",
    "    for int_future in intersections_future:\n",
    "        if (int_future[2] >= BOUNDRIES_RANGE[0]) & (int_future[2] <= BOUNDRIES_RANGE[1]) & (int_future[3] >= BOUNDRIES_RANGE[0]) & (int_future[3] <= BOUNDRIES_RANGE[1]):\n",
    "            res += 1\n",
    "    return res"
   ]
  },
  {
   "cell_type": "code",
   "execution_count": 215,
   "metadata": {},
   "outputs": [],
   "source": [
    "def second_star(filename='test'):\n",
    "    data = read_file(filename)\n",
    "\n",
    "    #Get the dimension for which there is more than one rock going exactly in the same coordinate in each timepoint\n",
    "    known_dim = None\n",
    "    for dim in (\"x\",\"y\",\"z\"):\n",
    "        ctr = Counter([(x[dim],x[f'd{dim}']) for x in data]).most_common(1)\n",
    "        if ctr[0][1] > 1:\n",
    "            known_dim = (ctr[0][0], dim)\n",
    "    res = {}\n",
    "    res[known_dim[1]] = known_dim[0][0]\n",
    "\n",
    "    #Caclulate t1, t2 and t3 using the known dimension\n",
    "    dim = known_dim[1]\n",
    "    v1  = data[0][dim]\n",
    "    dv1 = data[0][f\"d{dim}\"]\n",
    "    v2  = data[1][dim]\n",
    "    dv2 = data[1][f\"d{dim}\"]\n",
    "    v3  = data[2][dim]\n",
    "    dv3 = data[2][f\"d{dim}\"]\n",
    "    vr = known_dim[0][0]\n",
    "    dvr = known_dim[0][1]\n",
    "\n",
    "    t1 = (vr-v1) / (dv1-dvr)\n",
    "    t2 = (vr-v2) / (dv2-dvr)\n",
    "    t3 = (vr-v3) / (dv3-dvr)\n",
    "\n",
    "    #Calculate the other dimensions using the t1, t2 and t3\n",
    "    for dim in (\"x\",\"y\",\"z\"):\n",
    "        if dim in res:\n",
    "            continue\n",
    "        v1  = data[0][dim]\n",
    "        dv1 = data[0][f\"d{dim}\"]\n",
    "        v2  = data[1][dim]\n",
    "        dv2 = data[1][f\"d{dim}\"]\n",
    "        v3  = data[2][dim]\n",
    "        dv3 = data[2][f\"d{dim}\"]\n",
    "\n",
    "        dvr = (v2 + dv2*t2 - v1 - dv1*t1)/(t2 - t1)\n",
    "        vr = v1 + dv1*t1 - t1*dvr\n",
    "\n",
    "        res[dim] = vr\n",
    "    return int(sum(res.values()))"
   ]
  },
  {
   "cell_type": "code",
   "execution_count": 216,
   "metadata": {},
   "outputs": [
    {
     "data": {
      "text/plain": [
       "13910"
      ]
     },
     "execution_count": 216,
     "metadata": {},
     "output_type": "execute_result"
    }
   ],
   "source": [
    "first_star('input')"
   ]
  },
  {
   "cell_type": "code",
   "execution_count": 217,
   "metadata": {},
   "outputs": [
    {
     "data": {
      "text/plain": [
       "618534564836937"
      ]
     },
     "execution_count": 217,
     "metadata": {},
     "output_type": "execute_result"
    }
   ],
   "source": [
    "second_star('input')"
   ]
  },
  {
   "cell_type": "code",
   "execution_count": null,
   "metadata": {},
   "outputs": [],
   "source": []
  },
  {
   "cell_type": "code",
   "execution_count": null,
   "metadata": {},
   "outputs": [],
   "source": []
  },
  {
   "cell_type": "code",
   "execution_count": null,
   "metadata": {},
   "outputs": [],
   "source": []
  },
  {
   "cell_type": "code",
   "execution_count": null,
   "metadata": {},
   "outputs": [],
   "source": []
  },
  {
   "cell_type": "code",
   "execution_count": null,
   "metadata": {},
   "outputs": [],
   "source": [
    "#Second star without the trick - could not solve in time - t3 calculated using formula from three rocks. The formula for t1,t2 could also be extracted but it would be very complex\n",
    "def calculate_times(data, max_range=100000):\n",
    "    for t1 in range(1,max_range):\n",
    "        for t2 in range(1,max_range):\n",
    "            if t1==t2:\n",
    "                continue\n",
    "            res = []\n",
    "            for dim in (\"x\",\"y\",\"z\"):\n",
    "                v1  = data[0][dim]\n",
    "                dv1 = data[0][f\"d{dim}\"]\n",
    "                v2  = data[1][dim]\n",
    "                dv2 = data[1][f\"d{dim}\"]\n",
    "                v3  = data[2][dim]\n",
    "                dv3 = data[2][f\"d{dim}\"]\n",
    "\n",
    "                A = (v2 - v1 + dv2*t2 - dv1*t1)/(t2 - t1)\n",
    "                if dv3-A == 0:\n",
    "                    continue\n",
    "                t3 = (v1 + dv1*t1 - t1*A - v3)/(dv3 - A)\n",
    "                res.append(t3)\n",
    "            if len(res)==3 and len(set(res))==1:\n",
    "                return (t1,t2,t3)"
   ]
  }
 ],
 "metadata": {
  "kernelspec": {
   "display_name": "andres",
   "language": "python",
   "name": "python3"
  },
  "language_info": {
   "codemirror_mode": {
    "name": "ipython",
    "version": 3
   },
   "file_extension": ".py",
   "mimetype": "text/x-python",
   "name": "python",
   "nbconvert_exporter": "python",
   "pygments_lexer": "ipython3",
   "version": "3.9.12"
  },
  "orig_nbformat": 4
 },
 "nbformat": 4,
 "nbformat_minor": 2
}
