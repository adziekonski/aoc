{
 "cells": [
  {
   "cell_type": "code",
   "execution_count": 30,
   "metadata": {},
   "outputs": [],
   "source": [
    "def read_file(filename='test'):\n",
    "    input_file = open(f'data/{filename}_08', 'r')\n",
    "    data = input_file.read().splitlines()\n",
    "    instructions = data[0]\n",
    "    data = [d.replace(\"(\",\"\").replace(\")\",\"\").replace(\"=\",\"\").replace(\",\",\"\").split() for d in data[2:]]\n",
    "    data = {d[0]:{\"L\":d[1], \"R\":d[2]} for d in data}\n",
    "    return instructions, data"
   ]
  },
  {
   "cell_type": "code",
   "execution_count": 47,
   "metadata": {},
   "outputs": [],
   "source": [
    "def first_star(filename='test'):\n",
    "    instructions, data = read_file(filename)\n",
    "    current = \"AAA\"\n",
    "    steps = 0\n",
    "    while(current != \"ZZZ\"):\n",
    "        direction = instructions[steps%len(instructions)]\n",
    "        current = data[current][direction]\n",
    "        steps += 1\n",
    "    return steps"
   ]
  },
  {
   "cell_type": "code",
   "execution_count": 3,
   "metadata": {},
   "outputs": [],
   "source": [
    "def second_star(filename='test'):\n",
    "    data = read_file(filename)\n",
    "    return data"
   ]
  },
  {
   "cell_type": "code",
   "execution_count": 49,
   "metadata": {},
   "outputs": [],
   "source": [
    "instructions, data = read_file(filename='input')"
   ]
  },
  {
   "cell_type": "code",
   "execution_count": 58,
   "metadata": {},
   "outputs": [
    {
     "name": "stdout",
     "output_type": "stream",
     "text": [
      "3\n",
      "['QLK', 'XDZ', 'HLR', 'SRZ', 'JVZ', 'PHP']\n",
      "3\n",
      "['RJV', 'XDZ', 'BMS', 'FNP', 'JVZ', 'THZ']\n"
     ]
    },
    {
     "ename": "KeyboardInterrupt",
     "evalue": "",
     "output_type": "error",
     "traceback": [
      "\u001b[0;31m---------------------------------------------------------------------------\u001b[0m",
      "\u001b[0;31mKeyboardInterrupt\u001b[0m                         Traceback (most recent call last)",
      "\u001b[1;32m/Users/dziekonski/Documents/Learning/code/aoc/2023/Day_08.ipynb Cell 5\u001b[0m line \u001b[0;36m<cell line: 4>\u001b[0;34m()\u001b[0m\n\u001b[1;32m      <a href='vscode-notebook-cell:/Users/dziekonski/Documents/Learning/code/aoc/2023/Day_08.ipynb#X12sZmlsZQ%3D%3D?line=2'>3</a>\u001b[0m \u001b[39mwhile\u001b[39;00m(\u001b[39mTrue\u001b[39;00m):\n\u001b[1;32m      <a href='vscode-notebook-cell:/Users/dziekonski/Documents/Learning/code/aoc/2023/Day_08.ipynb#X12sZmlsZQ%3D%3D?line=3'>4</a>\u001b[0m     direction \u001b[39m=\u001b[39m instructions[steps\u001b[39m%\u001b[39m\u001b[39mlen\u001b[39m(instructions)]\n\u001b[0;32m----> <a href='vscode-notebook-cell:/Users/dziekonski/Documents/Learning/code/aoc/2023/Day_08.ipynb#X12sZmlsZQ%3D%3D?line=4'>5</a>\u001b[0m     starts \u001b[39m=\u001b[39m [data[s][direction] \u001b[39mfor\u001b[39;00m s \u001b[39min\u001b[39;00m starts]\n\u001b[1;32m      <a href='vscode-notebook-cell:/Users/dziekonski/Documents/Learning/code/aoc/2023/Day_08.ipynb#X12sZmlsZQ%3D%3D?line=5'>6</a>\u001b[0m     steps \u001b[39m+\u001b[39m\u001b[39m=\u001b[39m \u001b[39m1\u001b[39m\n\u001b[1;32m      <a href='vscode-notebook-cell:/Users/dziekonski/Documents/Learning/code/aoc/2023/Day_08.ipynb#X12sZmlsZQ%3D%3D?line=6'>7</a>\u001b[0m     num_z \u001b[39m=\u001b[39m \u001b[39mlen\u001b[39m([k \u001b[39mfor\u001b[39;00m k \u001b[39min\u001b[39;00m starts \u001b[39mif\u001b[39;00m k[\u001b[39m-\u001b[39m\u001b[39m1\u001b[39m]\u001b[39m==\u001b[39m\u001b[39m'\u001b[39m\u001b[39mZ\u001b[39m\u001b[39m'\u001b[39m])\n",
      "\u001b[1;32m/Users/dziekonski/Documents/Learning/code/aoc/2023/Day_08.ipynb Cell 5\u001b[0m line \u001b[0;36m<listcomp>\u001b[0;34m(.0)\u001b[0m\n\u001b[1;32m      <a href='vscode-notebook-cell:/Users/dziekonski/Documents/Learning/code/aoc/2023/Day_08.ipynb#X12sZmlsZQ%3D%3D?line=2'>3</a>\u001b[0m \u001b[39mwhile\u001b[39;00m(\u001b[39mTrue\u001b[39;00m):\n\u001b[1;32m      <a href='vscode-notebook-cell:/Users/dziekonski/Documents/Learning/code/aoc/2023/Day_08.ipynb#X12sZmlsZQ%3D%3D?line=3'>4</a>\u001b[0m     direction \u001b[39m=\u001b[39m instructions[steps\u001b[39m%\u001b[39m\u001b[39mlen\u001b[39m(instructions)]\n\u001b[0;32m----> <a href='vscode-notebook-cell:/Users/dziekonski/Documents/Learning/code/aoc/2023/Day_08.ipynb#X12sZmlsZQ%3D%3D?line=4'>5</a>\u001b[0m     starts \u001b[39m=\u001b[39m [data[s][direction] \u001b[39mfor\u001b[39;00m s \u001b[39min\u001b[39;00m starts]\n\u001b[1;32m      <a href='vscode-notebook-cell:/Users/dziekonski/Documents/Learning/code/aoc/2023/Day_08.ipynb#X12sZmlsZQ%3D%3D?line=5'>6</a>\u001b[0m     steps \u001b[39m+\u001b[39m\u001b[39m=\u001b[39m \u001b[39m1\u001b[39m\n\u001b[1;32m      <a href='vscode-notebook-cell:/Users/dziekonski/Documents/Learning/code/aoc/2023/Day_08.ipynb#X12sZmlsZQ%3D%3D?line=6'>7</a>\u001b[0m     num_z \u001b[39m=\u001b[39m \u001b[39mlen\u001b[39m([k \u001b[39mfor\u001b[39;00m k \u001b[39min\u001b[39;00m starts \u001b[39mif\u001b[39;00m k[\u001b[39m-\u001b[39m\u001b[39m1\u001b[39m]\u001b[39m==\u001b[39m\u001b[39m'\u001b[39m\u001b[39mZ\u001b[39m\u001b[39m'\u001b[39m])\n",
      "\u001b[0;31mKeyboardInterrupt\u001b[0m: "
     ]
    }
   ],
   "source": [
    "starts = [k for k in data.keys() if k[-1]=='A']\n",
    "steps = 0\n",
    "while(True):\n",
    "    direction = instructions[steps%len(instructions)]\n",
    "    starts = [data[s][direction] for s in starts]\n",
    "    steps += 1\n",
    "    num_z = len([k for k in starts if k[-1]=='Z'])\n",
    "    if len(starts)==num_z:\n",
    "        break\n",
    "steps"
   ]
  },
  {
   "cell_type": "code",
   "execution_count": null,
   "metadata": {},
   "outputs": [],
   "source": []
  }
 ],
 "metadata": {
  "kernelspec": {
   "display_name": "andres",
   "language": "python",
   "name": "python3"
  },
  "language_info": {
   "codemirror_mode": {
    "name": "ipython",
    "version": 3
   },
   "file_extension": ".py",
   "mimetype": "text/x-python",
   "name": "python",
   "nbconvert_exporter": "python",
   "pygments_lexer": "ipython3",
   "version": "3.9.12"
  },
  "orig_nbformat": 4
 },
 "nbformat": 4,
 "nbformat_minor": 2
}
