{
 "cells": [
  {
   "cell_type": "code",
   "execution_count": null,
   "metadata": {},
   "outputs": [],
   "source": [
    "from collections import defaultdict"
   ]
  },
  {
   "cell_type": "code",
   "execution_count": 21,
   "metadata": {},
   "outputs": [],
   "source": [
    "def read_file(filename='test'):\n",
    "    input_file = open(f'data/{filename}_04', 'r')\n",
    "    data = []\n",
    "    for row in input_file.read().splitlines():\n",
    "        card = int(row.split(':')[0].replace('Card ',''))\n",
    "        winning, scratched = row.split(':')[1].split(\"|\")\n",
    "        winning =  [int(n) for n in winning.strip().split(\" \") if n != '']\n",
    "        scratched =  [int(n) for n in scratched.strip().split(\" \") if n != '']\n",
    "        data.append((card, winning, scratched))\n",
    "    \n",
    "    return data"
   ]
  },
  {
   "cell_type": "code",
   "execution_count": 50,
   "metadata": {},
   "outputs": [],
   "source": [
    "def first_star(filename='test'):\n",
    "    data = read_file('input')\n",
    "    win = 0\n",
    "    for card in data:\n",
    "        matches = list(set(card[1]) & set(card[2]))\n",
    "        if len(matches)==0:\n",
    "            continue\n",
    "        else:\n",
    "            win += 2**(len(matches)-1)\n",
    "    return win"
   ]
  },
  {
   "cell_type": "code",
   "execution_count": 53,
   "metadata": {},
   "outputs": [],
   "source": [
    "def second_star(filename='test'):\n",
    "    data = read_file(filename)\n",
    "    card_counter = defaultdict(int)\n",
    "    winners = defaultdict(int)\n",
    "    for card in data:\n",
    "        winners[card[0]] = len(list(set(card[1]) & set(card[2])))\n",
    "        card_counter[card[0]] = 1\n",
    "    for k,v in card_counter.items():\n",
    "        for i in range(k+1, k+1+winners[k]):\n",
    "            card_counter[i] += card_counter[k]\n",
    "    return sum(card_counter.values())"
   ]
  },
  {
   "cell_type": "code",
   "execution_count": 54,
   "metadata": {},
   "outputs": [
    {
     "data": {
      "text/plain": [
       "28750"
      ]
     },
     "execution_count": 54,
     "metadata": {},
     "output_type": "execute_result"
    }
   ],
   "source": [
    "first_star(filename='input')"
   ]
  },
  {
   "cell_type": "code",
   "execution_count": 55,
   "metadata": {},
   "outputs": [
    {
     "data": {
      "text/plain": [
       "10212704"
      ]
     },
     "execution_count": 55,
     "metadata": {},
     "output_type": "execute_result"
    }
   ],
   "source": [
    "second_star(filename='input')"
   ]
  },
  {
   "cell_type": "code",
   "execution_count": null,
   "metadata": {},
   "outputs": [],
   "source": []
  }
 ],
 "metadata": {
  "kernelspec": {
   "display_name": "andres",
   "language": "python",
   "name": "python3"
  },
  "language_info": {
   "codemirror_mode": {
    "name": "ipython",
    "version": 3
   },
   "file_extension": ".py",
   "mimetype": "text/x-python",
   "name": "python",
   "nbconvert_exporter": "python",
   "pygments_lexer": "ipython3",
   "version": "3.9.12"
  },
  "orig_nbformat": 4
 },
 "nbformat": 4,
 "nbformat_minor": 2
}
