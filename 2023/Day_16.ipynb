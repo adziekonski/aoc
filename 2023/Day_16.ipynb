{
 "cells": [
  {
   "cell_type": "code",
   "execution_count": 24,
   "metadata": {},
   "outputs": [],
   "source": [
    "def read_file(filename='test'):\n",
    "    input_file = open(f'data/{filename}_16', 'r')\n",
    "    data = [[\"X\"]+list(r)+[\"X\"] for r in input_file.read().splitlines()]\n",
    "    data = [[\"X\"]*len(data[0])] + data + [[\"X\"]*len(data[0])]\n",
    "    return data"
   ]
  },
  {
   "cell_type": "code",
   "execution_count": null,
   "metadata": {},
   "outputs": [],
   "source": [
    "def add_step(beam, direction):\n",
    "    return ((beam[0]+direction[0], beam[1]+direction[1]),direction)"
   ]
  },
  {
   "cell_type": "code",
   "execution_count": null,
   "metadata": {},
   "outputs": [],
   "source": [
    "def calculate_energy(data, starting_beam_dir):\n",
    "    beams = [starting_beam_dir]\n",
    "    history = []\n",
    "    res = [[0]*len(x) for x in data]\n",
    "    while(beams):\n",
    "        beam, prev_direction = beams.pop(0)\n",
    "        if (beam,prev_direction) in history:\n",
    "            continue\n",
    "        else:\n",
    "            history.append((beam,prev_direction))\n",
    "        if (beam[0] == 0) or (beam[0] == len(data)-1) or (beam[1] == 0) or (beam[1] == len(data[0])-1):\n",
    "            continue\n",
    "        res[beam[0]][beam[1]] += 1\n",
    "        if data[beam[0]][beam[1]] == \".\":\n",
    "            beams.append(add_step(beam, prev_direction))\n",
    "        elif data[beam[0]][beam[1]] == \"/\":\n",
    "            if prev_direction == (0,1):\n",
    "                beams.append(add_step(beam,(-1,0)))\n",
    "            elif prev_direction == (1,0):\n",
    "                beams.append(add_step(beam,(0,-1)))\n",
    "            elif prev_direction == (0,-1):\n",
    "                beams.append(add_step(beam,(1,0)))\n",
    "            else:\n",
    "                beams.append(add_step(beam,(0,1)))\n",
    "        elif data[beam[0]][beam[1]] == \"\\\\\":\n",
    "            if prev_direction == (0,1):\n",
    "                beams.append(add_step(beam,(1,0)))\n",
    "            elif prev_direction == (1,0):\n",
    "                beams.append(add_step(beam,(0,1)))\n",
    "            elif prev_direction == (0,-1):\n",
    "                beams.append(add_step(beam,(-1,0)))\n",
    "            else:\n",
    "                beams.append(add_step(beam,(0,-1)))\n",
    "        elif data[beam[0]][beam[1]] == \"-\":\n",
    "            if prev_direction[1]!=0:\n",
    "                beams.append(add_step(beam, prev_direction))\n",
    "            else:\n",
    "                beams.append(add_step(beam, (0,-1)))\n",
    "                beams.append(add_step(beam, (0,1)))\n",
    "        elif data[beam[0]][beam[1]] == \"|\":\n",
    "            if prev_direction[0]!=0:\n",
    "                beams.append(add_step(beam, prev_direction))\n",
    "            else:\n",
    "                beams.append(add_step(beam, (-1,0)))\n",
    "                beams.append(add_step(beam, (1,0)))\n",
    "    return sum([int(c>0)for r in res for c in r])\n",
    "        "
   ]
  },
  {
   "cell_type": "code",
   "execution_count": 104,
   "metadata": {},
   "outputs": [],
   "source": [
    "def first_star(filename='test'):\n",
    "    data = read_file(filename)\n",
    "    res = calculate_energy(data, ((1,1),(0,1)))\n",
    "    return res"
   ]
  },
  {
   "cell_type": "code",
   "execution_count": 105,
   "metadata": {},
   "outputs": [],
   "source": [
    "def second_star(filename='test'):\n",
    "    data = read_file(filename)\n",
    "    options = []\n",
    "    for r in range(1,len(data)-2):\n",
    "        options.append( ( (r,1) , (0,1) ) )\n",
    "        options.append( ( (r,len(data[0])-2) , (0,-1) ) )\n",
    "    for c in range(1, len(data[0])-2):\n",
    "        options.append( ( (1,c) , (1,0) ) )\n",
    "        options.append( ( (len(data)-2,c) , (-1,0) ) )\n",
    "\n",
    "    max_energy = 0\n",
    "    for o in options:\n",
    "        energy = calculate_energy(data,o)\n",
    "        max_energy = max(max_energy, energy)\n",
    "    return max_energy"
   ]
  },
  {
   "cell_type": "code",
   "execution_count": 101,
   "metadata": {},
   "outputs": [],
   "source": []
  },
  {
   "cell_type": "code",
   "execution_count": 108,
   "metadata": {},
   "outputs": [
    {
     "data": {
      "text/plain": [
       "6795"
      ]
     },
     "execution_count": 108,
     "metadata": {},
     "output_type": "execute_result"
    }
   ],
   "source": [
    "first_star('input')"
   ]
  },
  {
   "cell_type": "code",
   "execution_count": 109,
   "metadata": {},
   "outputs": [
    {
     "data": {
      "text/plain": [
       "7154"
      ]
     },
     "execution_count": 109,
     "metadata": {},
     "output_type": "execute_result"
    }
   ],
   "source": [
    "second_star('input')"
   ]
  }
 ],
 "metadata": {
  "kernelspec": {
   "display_name": "andres",
   "language": "python",
   "name": "python3"
  },
  "language_info": {
   "codemirror_mode": {
    "name": "ipython",
    "version": 3
   },
   "file_extension": ".py",
   "mimetype": "text/x-python",
   "name": "python",
   "nbconvert_exporter": "python",
   "pygments_lexer": "ipython3",
   "version": "3.9.12"
  },
  "orig_nbformat": 4
 },
 "nbformat": 4,
 "nbformat_minor": 2
}
