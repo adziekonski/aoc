{
 "cells": [
  {
   "cell_type": "code",
   "execution_count": 14,
   "metadata": {},
   "outputs": [],
   "source": [
    "def read_file(filename='test'):\n",
    "    input_file = open(f'data/{filename}_10', 'r')\n",
    "    data = [list(c) for c in input_file.read().splitlines()]\n",
    "    return data"
   ]
  },
  {
   "cell_type": "code",
   "execution_count": 99,
   "metadata": {},
   "outputs": [],
   "source": [
    "directions_dict = {\n",
    "    \"|\": [(-1,0),(1,0)],\n",
    "    \"-\": [(0,-1),(0,1)],\n",
    "    \"L\": [(-1,0), (0,1)],\n",
    "    \"J\": [(-1,0), (0,-1)],\n",
    "    \"7\": [(0,-1), (1,0)],\n",
    "    \"F\": [(0,1), (1,0)]\n",
    "}\n",
    "\n",
    "def find_start(data):\n",
    "    for r,row in enumerate(data):\n",
    "        for c,col in enumerate(row):\n",
    "            if data[r][c]=='S':\n",
    "                return (r,c)\n",
    "def find_start_step(data, start):\n",
    "    options = []\n",
    "    for dirs in ((0,1),(1,0),(0,-1),(-1,0)):\n",
    "        revert_dirs = ((-1)*dirs[0],(-1)*dirs[1])\n",
    "        opt_coor = (start[0]+dirs[0], start[1]+dirs[1])\n",
    "        opt_sign = data[opt_coor[0]][opt_coor[1]]\n",
    "        if opt_sign not in directions_dict.keys():\n",
    "            continue\n",
    "        opt_dirs = directions_dict[opt_sign]\n",
    "        if revert_dirs in opt_dirs:\n",
    "            options.append((opt_coor,dirs))\n",
    "    return options[0]"
   ]
  },
  {
   "cell_type": "code",
   "execution_count": 100,
   "metadata": {},
   "outputs": [],
   "source": [
    "def first_star(filename='test'):\n",
    "    data = read_file(filename)\n",
    "    start = find_start(data)\n",
    "    \n",
    "    #Follow the path\n",
    "    steps = 1\n",
    "    current,prev_step = find_start_step(data, start)\n",
    "    while current!=start:\n",
    "        steps += 1\n",
    "        current_pipe = data[current[0]][current[1]]\n",
    "        prev_step = ((-1)*prev_step[0],(-1)*prev_step[1])\n",
    "        prev_step = directions_dict[current_pipe][0] if directions_dict[current_pipe][0]!=prev_step else directions_dict[current_pipe][1]\n",
    "        current = (current[0]+prev_step[0], current[1]+prev_step[1])\n",
    "    return steps//2\n"
   ]
  },
  {
   "cell_type": "code",
   "execution_count": 205,
   "metadata": {},
   "outputs": [],
   "source": [
    "def second_star(filename='test'):\n",
    "    data = read_file('input')\n",
    "    start = find_start(data)\n",
    "\n",
    "    #Widen the grid to see paths between pipes\n",
    "    res  = [[0 for _ in range(2*len(data[0]))] for __ in range(2*len(data))]\n",
    "    res[2*start[0]][2*start[1]] = 2\n",
    "\n",
    "    #Follow the path in the widened grid\n",
    "    current,prev_step = find_start_step(data, start)\n",
    "    while current!=start:\n",
    "        res[2*current[0]][2*current[1]] = 1\n",
    "        res[2*current[0]-prev_step[0]][2*current[1]-prev_step[1]] = 1\n",
    "        current_pipe = data[current[0]][current[1]]\n",
    "        prev_step = ((-1)*prev_step[0],(-1)*prev_step[1])\n",
    "        prev_step = directions_dict[current_pipe][0] if directions_dict[current_pipe][0]!=prev_step else directions_dict[current_pipe][1]\n",
    "        current = (current[0]+prev_step[0], current[1]+prev_step[1])\n",
    "    res[2*current[0]-prev_step[0]][2*current[1]-prev_step[1]] = 1\n",
    "\n",
    "    #Add borders to the grid\n",
    "    add_row = [[0 for _ in range(len(res[0]))]]\n",
    "    res = add_row + res + add_row\n",
    "    res = [[0] + r + [0] for r in res]\n",
    "\n",
    "    #Mark all outside cells\n",
    "    outside = [(0,0)]\n",
    "    while len(outside)>0:\n",
    "        cell = outside.pop()\n",
    "        res[cell[0]][cell[1]] = 9\n",
    "        for dirs in ((0,1),(1,0),(0,-1),(-1,0)):\n",
    "            if ((cell[0]+dirs[0])<0) or ((cell[1]+dirs[1])<0) or ((cell[0]+dirs[0])>=len(res)) or ((cell[1]+dirs[1])>=len(res[0])):\n",
    "                continue\n",
    "            if (res[cell[0]+dirs[0]][cell[1]+dirs[1]]==0):\n",
    "                outside.append((cell[0]+dirs[0],cell[1]+dirs[1]))\n",
    "    \n",
    "    #Count the number of tiles inside the grid (tile is a 2x2 square)\n",
    "    tiles = 0\n",
    "    for i in range(1,len(res)-1,2):\n",
    "        for j in range(1,len(res[0])-1,2):\n",
    "            if (res[i][j]==0)&(res[i+1][j]==0)&(res[i][j+1]==0)&(res[i+1][j+1]==0):\n",
    "                tiles += 1\n",
    "    return tiles\n"
   ]
  },
  {
   "cell_type": "code",
   "execution_count": null,
   "metadata": {},
   "outputs": [],
   "source": [
    "\n"
   ]
  },
  {
   "cell_type": "code",
   "execution_count": 206,
   "metadata": {},
   "outputs": [
    {
     "data": {
      "text/plain": [
       "6951"
      ]
     },
     "execution_count": 206,
     "metadata": {},
     "output_type": "execute_result"
    }
   ],
   "source": [
    "first_star('input')"
   ]
  },
  {
   "cell_type": "code",
   "execution_count": 207,
   "metadata": {},
   "outputs": [
    {
     "data": {
      "text/plain": [
       "563"
      ]
     },
     "execution_count": 207,
     "metadata": {},
     "output_type": "execute_result"
    }
   ],
   "source": [
    "second_star('input')"
   ]
  }
 ],
 "metadata": {
  "kernelspec": {
   "display_name": "andres",
   "language": "python",
   "name": "python3"
  },
  "language_info": {
   "codemirror_mode": {
    "name": "ipython",
    "version": 3
   },
   "file_extension": ".py",
   "mimetype": "text/x-python",
   "name": "python",
   "nbconvert_exporter": "python",
   "pygments_lexer": "ipython3",
   "version": "3.9.12"
  },
  "orig_nbformat": 4
 },
 "nbformat": 4,
 "nbformat_minor": 2
}
