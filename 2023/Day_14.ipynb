{
 "cells": [
  {
   "cell_type": "code",
   "execution_count": 242,
   "metadata": {},
   "outputs": [],
   "source": [
    "from copy import deepcopy"
   ]
  },
  {
   "cell_type": "code",
   "execution_count": 243,
   "metadata": {},
   "outputs": [],
   "source": [
    "def read_file(filename='test'):\n",
    "    input_file = open(f'data/{filename}_14', 'r')\n",
    "    data = [list(r) for r in input_file.read().splitlines()]\n",
    "    return data"
   ]
  },
  {
   "cell_type": "code",
   "execution_count": 244,
   "metadata": {},
   "outputs": [],
   "source": [
    "def calculate_load(data):\n",
    "    res = 0\n",
    "    round_rock = 'O'\n",
    "    for i,row in enumerate(data):\n",
    "        points = len(data)-i\n",
    "        for c in row:\n",
    "            if c == round_rock:\n",
    "                res += points\n",
    "    return res\n",
    "\n",
    "def calculate_final_position_load(prev_cycles, data, NUM_CYCLES):\n",
    "    start_of_cycle = [i for i,x in enumerate(prev_cycles) if x == data][0]\n",
    "    end_of_cycle = len(prev_cycles)\n",
    "    cycle_length = end_of_cycle - start_of_cycle\n",
    "    cycle_position_at_finish = (NUM_CYCLES - start_of_cycle)%cycle_length\n",
    "    return calculate_load(prev_cycles[start_of_cycle+cycle_position_at_finish-1])"
   ]
  },
  {
   "cell_type": "code",
   "execution_count": 245,
   "metadata": {},
   "outputs": [],
   "source": [
    "def tilt(data):\n",
    "    round_rock = 'O'\n",
    "    wall = '#'\n",
    "    empty = '.'\n",
    "\n",
    "    candidate = 0\n",
    "    for c in range(len(data[0])):\n",
    "        candidate = 0\n",
    "        for r in range(len(data)):\n",
    "            if candidate >= len(data):\n",
    "                break\n",
    "            if data[r][c] == wall:\n",
    "                candidate = r + 1\n",
    "            elif data[r][c] == empty:\n",
    "                continue\n",
    "            elif data[r][c] == round_rock:\n",
    "                if r!=candidate:\n",
    "                    data[candidate][c] = round_rock\n",
    "                    data[r][c] = empty\n",
    "                candidate += 1\n",
    "    return data\n",
    "\n",
    "def rotate(data):\n",
    "    return [list(x) for x in list(zip(*reversed(data)))]\n",
    "\n",
    "def cycle_tilt(data):\n",
    "    for i in range(4):\n",
    "        data = tilt(data)\n",
    "        data = rotate(data)\n",
    "    return data\n",
    "    "
   ]
  },
  {
   "cell_type": "code",
   "execution_count": 248,
   "metadata": {},
   "outputs": [],
   "source": [
    "def first_star(filename='test'):\n",
    "    data = read_file(filename)\n",
    "    data = tilt(data)\n",
    "    res = calculate_load(data)\n",
    "    return res"
   ]
  },
  {
   "cell_type": "code",
   "execution_count": 251,
   "metadata": {},
   "outputs": [],
   "source": [
    "def second_star(filename='test'):\n",
    "    data = read_file(filename)\n",
    "    NUM_CYCLES = 1000000000\n",
    "    prev_cycles = []\n",
    "    for i in range(NUM_CYCLES):\n",
    "        data = cycle_tilt(data)\n",
    "        if data in prev_cycles:\n",
    "            break\n",
    "        prev_cycles.append(deepcopy(data))\n",
    "    return calculate_final_position_load(prev_cycles, data, NUM_CYCLES)"
   ]
  },
  {
   "cell_type": "code",
   "execution_count": null,
   "metadata": {},
   "outputs": [],
   "source": []
  },
  {
   "cell_type": "code",
   "execution_count": 252,
   "metadata": {},
   "outputs": [
    {
     "data": {
      "text/plain": [
       "109833"
      ]
     },
     "execution_count": 252,
     "metadata": {},
     "output_type": "execute_result"
    }
   ],
   "source": [
    "first_star(filename='input')"
   ]
  },
  {
   "cell_type": "code",
   "execution_count": 253,
   "metadata": {},
   "outputs": [
    {
     "data": {
      "text/plain": [
       "99875"
      ]
     },
     "execution_count": 253,
     "metadata": {},
     "output_type": "execute_result"
    }
   ],
   "source": [
    "second_star(filename='input')"
   ]
  }
 ],
 "metadata": {
  "kernelspec": {
   "display_name": "andres",
   "language": "python",
   "name": "python3"
  },
  "language_info": {
   "codemirror_mode": {
    "name": "ipython",
    "version": 3
   },
   "file_extension": ".py",
   "mimetype": "text/x-python",
   "name": "python",
   "nbconvert_exporter": "python",
   "pygments_lexer": "ipython3",
   "version": "3.9.12"
  },
  "orig_nbformat": 4
 },
 "nbformat": 4,
 "nbformat_minor": 2
}
