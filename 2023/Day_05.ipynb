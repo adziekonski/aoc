{
 "cells": [
  {
   "cell_type": "code",
   "execution_count": 145,
   "metadata": {},
   "outputs": [],
   "source": [
    "import itertools"
   ]
  },
  {
   "cell_type": "code",
   "execution_count": 44,
   "metadata": {},
   "outputs": [],
   "source": [
    "def read_file(filename='test'):\n",
    "    input_file = open(f'data/{filename}_05', 'r')\n",
    "    data = input_file.read().split(\"\\n\\n\")\n",
    "    data = [r.split(\"\\n\") for r in data]\n",
    "    seeds = [int(d) for d in data[0][0].split(\" \")[1:]]\n",
    "    mappings = [[[int(d) for d in m.split(\" \")] for m in r[1:]] for r in data[1:]]\n",
    "    return (seeds, mappings)"
   ]
  },
  {
   "cell_type": "code",
   "execution_count": 92,
   "metadata": {},
   "outputs": [],
   "source": [
    "def first_star(filename='test'):\n",
    "    seeds, mappings = read_file(filename)\n",
    "    res = []\n",
    "    for seed in seeds:\n",
    "        for mapping in mappings:\n",
    "            for condition in mapping:\n",
    "                if (seed>=condition[1]) and (seed<(condition[1]+condition[2])):\n",
    "                    seed = condition[0] + seed - condition[1]\n",
    "                    break\n",
    "        res.append(seed)\n",
    "    return min(res)"
   ]
  },
  {
   "cell_type": "code",
   "execution_count": 3,
   "metadata": {},
   "outputs": [],
   "source": [
    "def second_star(filename='test'):\n",
    "    data = read_file(filename)\n",
    "    return data"
   ]
  },
  {
   "cell_type": "code",
   "execution_count": 109,
   "metadata": {},
   "outputs": [],
   "source": []
  },
  {
   "cell_type": "code",
   "execution_count": 182,
   "metadata": {},
   "outputs": [],
   "source": [
    "seeds, mappings = read_file(filename='input')\n",
    "current_step = []\n",
    "for i in range(len(seeds)//2):\n",
    "    current_step.append([seeds[2*i], seeds[2*i]+seeds[2*i+1]-1])\n",
    "current_step.sort(key=lambda x: x[1])"
   ]
  },
  {
   "cell_type": "code",
   "execution_count": 183,
   "metadata": {},
   "outputs": [
    {
     "name": "stdout",
     "output_type": "stream",
     "text": [
      "84206669\n"
     ]
    }
   ],
   "source": [
    "next_step = []\n",
    "mapping_id = 0\n",
    "while mapping_id<len(mappings):\n",
    "    while len(current_step)>0:\n",
    "        cs = current_step.pop(0)\n",
    "        for mapping in mappings[mapping_id]:\n",
    "            min_cur_step = cs[0]\n",
    "            max_cur_step = cs[1]\n",
    "            min_map = mapping[1]\n",
    "            max_map = mapping[1]+mapping[2]\n",
    "            #Both outside\n",
    "            if (min_cur_step<min_map) and (max_cur_step>=max_map):\n",
    "                next_step.append([mapping[0], mapping[0] + max_map - 1 - min_map])\n",
    "                current_step.append([min_cur_step, min_map-1])\n",
    "                current_step.append([max_map, max_cur_step])\n",
    "                cs = None\n",
    "                break\n",
    "            #Both less than minimum or more then maximum\n",
    "            if ((min_cur_step<min_map) and (max_cur_step<min_map)) | ((min_cur_step>=max_map) and (max_cur_step>=max_map)):\n",
    "                continue\n",
    "            #Whole seed range inside\n",
    "            if (min_cur_step>=min_map) and (max_cur_step<max_map):\n",
    "                next_step.append([mapping[0] + min_cur_step - min_map, mapping[0] + max_cur_step - min_map])\n",
    "                cs = None\n",
    "                break\n",
    "            #Lower range inside, upper range outside\n",
    "            if (min_cur_step>=min_map) and (max_cur_step>=max_map):\n",
    "                next_step.append([mapping[0] + min_cur_step - min_map, mapping[0] + max_map - 1 - min_map])\n",
    "                cs[0] = max_map\n",
    "            #Upper range inside, lower range outside\n",
    "            if (min_cur_step<min_map) and (max_cur_step<max_map):\n",
    "                next_step.append([mapping[0], mapping[0] + max_cur_step - min_map])\n",
    "                cs[1] = min_map - 1\n",
    "        if cs is not None:\n",
    "            next_step.append(cs)\n",
    "    next_step.sort()\n",
    "    next_step = list(k for k,_ in itertools.groupby(next_step))\n",
    "    mapping_id += 1\n",
    "    current_step = next_step\n",
    "    next_step = []\n",
    "print(current_step[0][0])"
   ]
  },
  {
   "cell_type": "code",
   "execution_count": null,
   "metadata": {},
   "outputs": [],
   "source": []
  }
 ],
 "metadata": {
  "kernelspec": {
   "display_name": "andres",
   "language": "python",
   "name": "python3"
  },
  "language_info": {
   "codemirror_mode": {
    "name": "ipython",
    "version": 3
   },
   "file_extension": ".py",
   "mimetype": "text/x-python",
   "name": "python",
   "nbconvert_exporter": "python",
   "pygments_lexer": "ipython3",
   "version": "3.9.12"
  },
  "orig_nbformat": 4
 },
 "nbformat": 4,
 "nbformat_minor": 2
}
