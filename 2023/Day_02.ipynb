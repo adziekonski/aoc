{
 "cells": [
  {
   "cell_type": "code",
   "execution_count": 55,
   "metadata": {},
   "outputs": [],
   "source": [
    "def read_file(filename='test'):\n",
    "    input_file = open(f'data/{filename}_02', 'r')\n",
    "    data = input_file.read().splitlines()\n",
    "    data = [d.split(\":\") for d in data]\n",
    "    res = []\n",
    "    for single_game in data:\n",
    "        id = int(single_game[0].split(\" \")[-1])\n",
    "        draws = [[d.strip().split(\" \") for d in ds.split(\",\")] for ds in single_game[1].split(\";\")]\n",
    "        draws = [{c[1]: int(c[0]) for c in d} for d in draws]\n",
    "        res.append([id, draws])\n",
    "    return res"
   ]
  },
  {
   "cell_type": "code",
   "execution_count": 66,
   "metadata": {},
   "outputs": [],
   "source": [
    "def first_star(filename='test'):\n",
    "    data = read_file(filename)\n",
    "    LIMITS = {'red':12, 'green': 13, 'blue':14}\n",
    "    res = 0\n",
    "    for game_id, draws in data:\n",
    "        for c in LIMITS.keys():\n",
    "            max_val = max([d[c] for d in draws if c in d.keys()])\n",
    "            if max_val > LIMITS[c]:\n",
    "                res-=game_id\n",
    "                break\n",
    "        res += game_id\n",
    "    return res"
   ]
  },
  {
   "cell_type": "code",
   "execution_count": 76,
   "metadata": {},
   "outputs": [],
   "source": [
    "def second_star(filename='test'):\n",
    "    data = read_file(filename)\n",
    "    COLORS = ['red','green','blue']\n",
    "    res = 0\n",
    "    for _, draws in data:\n",
    "        game_power = 1\n",
    "        for c in COLORS:\n",
    "            max_val = max([d[c] for d in draws if c in d.keys()])\n",
    "            game_power *= max_val\n",
    "        res += game_power\n",
    "    return res"
   ]
  },
  {
   "cell_type": "code",
   "execution_count": 77,
   "metadata": {},
   "outputs": [
    {
     "data": {
      "text/plain": [
       "2369"
      ]
     },
     "execution_count": 77,
     "metadata": {},
     "output_type": "execute_result"
    }
   ],
   "source": [
    "first_star('input')"
   ]
  },
  {
   "cell_type": "code",
   "execution_count": 78,
   "metadata": {},
   "outputs": [
    {
     "data": {
      "text/plain": [
       "66363"
      ]
     },
     "execution_count": 78,
     "metadata": {},
     "output_type": "execute_result"
    }
   ],
   "source": [
    "second_star('input')"
   ]
  }
 ],
 "metadata": {
  "kernelspec": {
   "display_name": "andres",
   "language": "python",
   "name": "python3"
  },
  "language_info": {
   "codemirror_mode": {
    "name": "ipython",
    "version": 3
   },
   "file_extension": ".py",
   "mimetype": "text/x-python",
   "name": "python",
   "nbconvert_exporter": "python",
   "pygments_lexer": "ipython3",
   "version": "3.9.12"
  },
  "orig_nbformat": 4
 },
 "nbformat": 4,
 "nbformat_minor": 2
}
