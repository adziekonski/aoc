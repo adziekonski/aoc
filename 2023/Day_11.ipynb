{
 "cells": [
  {
   "cell_type": "code",
   "execution_count": 2,
   "metadata": {},
   "outputs": [],
   "source": [
    "def read_file(filename='test'):\n",
    "    input_file = open(f'data/{filename}_11', 'r')\n",
    "    data = [list(l) for l in input_file.read().splitlines()]\n",
    "    return data"
   ]
  },
  {
   "cell_type": "code",
   "execution_count": 4,
   "metadata": {},
   "outputs": [],
   "source": [
    "def get_distance(data, expansion_size):\n",
    "    #Find all galaxies coordinates\n",
    "    galaxies = {}\n",
    "    id = 0\n",
    "    for r in range(len(data)):\n",
    "        for c in range(len(data[0])):\n",
    "            if data[r][c] == '#':\n",
    "                galaxies[id] = (r,c)\n",
    "                id+=1\n",
    "\n",
    "    #Find empty rows ids\n",
    "    empty_rows = []\n",
    "    for i,r in enumerate(data):\n",
    "        if all(c=='.' for c in r):\n",
    "            empty_rows.append(i)\n",
    "\n",
    "    #Find empty rows ids\n",
    "    empty_cols = []\n",
    "    for i in range(len(data[0])):\n",
    "        if all(data[r][i]=='.' for r in range(len(data))):\n",
    "            empty_cols.append(i)\n",
    "\n",
    "    #Calculate distances between galaxies\n",
    "    dist = 0\n",
    "    for i in galaxies.keys():\n",
    "        for j in galaxies.keys():\n",
    "            if i>=j:\n",
    "                continue\n",
    "            dist += abs(galaxies[i][0]-galaxies[j][0]) + abs(galaxies[i][1]-galaxies[j][1])\n",
    "            additional_cols = len([x for x in empty_cols if (x>min(galaxies[i][1],galaxies[j][1])) and (x<max(galaxies[i][1],galaxies[j][1]))])\n",
    "            additional_rows = len([x for x in empty_rows if (x>min(galaxies[i][0],galaxies[j][0])) and (x<max(galaxies[i][0],galaxies[j][0]))])\n",
    "            dist += additional_cols*(expansion_size-1) + additional_rows*(expansion_size-1) \n",
    "    return dist\n",
    "\n",
    "    "
   ]
  },
  {
   "cell_type": "code",
   "execution_count": 5,
   "metadata": {},
   "outputs": [],
   "source": [
    "def first_star(filename='test'):\n",
    "    data = read_file(filename)\n",
    "    return get_distance(data,2)"
   ]
  },
  {
   "cell_type": "code",
   "execution_count": 6,
   "metadata": {},
   "outputs": [],
   "source": [
    "def second_star(filename='test'):\n",
    "    data = read_file(filename)\n",
    "    return get_distance(data,1000000)"
   ]
  },
  {
   "cell_type": "code",
   "execution_count": null,
   "metadata": {},
   "outputs": [],
   "source": []
  },
  {
   "cell_type": "code",
   "execution_count": 11,
   "metadata": {},
   "outputs": [
    {
     "data": {
      "text/plain": [
       "9623138"
      ]
     },
     "execution_count": 11,
     "metadata": {},
     "output_type": "execute_result"
    }
   ],
   "source": [
    "first_star('input')"
   ]
  },
  {
   "cell_type": "code",
   "execution_count": 12,
   "metadata": {},
   "outputs": [
    {
     "data": {
      "text/plain": [
       "726820169514"
      ]
     },
     "execution_count": 12,
     "metadata": {},
     "output_type": "execute_result"
    }
   ],
   "source": [
    "second_star('input')"
   ]
  },
  {
   "cell_type": "code",
   "execution_count": null,
   "metadata": {},
   "outputs": [],
   "source": []
  }
 ],
 "metadata": {
  "kernelspec": {
   "display_name": "andres",
   "language": "python",
   "name": "python3"
  },
  "language_info": {
   "codemirror_mode": {
    "name": "ipython",
    "version": 3
   },
   "file_extension": ".py",
   "mimetype": "text/x-python",
   "name": "python",
   "nbconvert_exporter": "python",
   "pygments_lexer": "ipython3",
   "version": "3.9.12"
  },
  "orig_nbformat": 4
 },
 "nbformat": 4,
 "nbformat_minor": 2
}
