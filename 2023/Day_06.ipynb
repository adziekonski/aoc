{
 "cells": [
  {
   "cell_type": "code",
   "execution_count": 27,
   "metadata": {},
   "outputs": [],
   "source": [
    "from functools import reduce"
   ]
  },
  {
   "cell_type": "code",
   "execution_count": 21,
   "metadata": {},
   "outputs": [],
   "source": [
    "def read_file(filename='test'):\n",
    "    input_file = open(f'data/{filename}_06', 'r')\n",
    "    data = [r.split()[1:] for r in input_file.read().splitlines()]\n",
    "    data = [[int(d) for d in r] for r in data]\n",
    "    return list(zip(data[0], data[1]))"
   ]
  },
  {
   "cell_type": "code",
   "execution_count": 52,
   "metadata": {},
   "outputs": [],
   "source": [
    "def calculate_result(data):\n",
    "    options = []\n",
    "    for t,d in data:\n",
    "        race_options = 0\n",
    "        for i in range(1, t+1):\n",
    "            if (t-i)*i>d:\n",
    "                race_options += 1\n",
    "        options.append(race_options)\n",
    "    return reduce((lambda x, y: x * y), options)"
   ]
  },
  {
   "cell_type": "code",
   "execution_count": 53,
   "metadata": {},
   "outputs": [],
   "source": [
    "def first_star(filename='test'):\n",
    "    data = read_file(filename)\n",
    "    return calculate_result(data)"
   ]
  },
  {
   "cell_type": "code",
   "execution_count": 57,
   "metadata": {},
   "outputs": [],
   "source": [
    "def second_star(filename='test'):\n",
    "    data = read_file(filename)\n",
    "    time = int(\"\".join([str(x[0]) for x in data]))\n",
    "    distance = int(\"\".join([str(x[1]) for x in data]))\n",
    "    data = [(time,distance)]\n",
    "    return calculate_result(data)"
   ]
  },
  {
   "cell_type": "code",
   "execution_count": null,
   "metadata": {},
   "outputs": [],
   "source": []
  }
 ],
 "metadata": {
  "kernelspec": {
   "display_name": "andres",
   "language": "python",
   "name": "python3"
  },
  "language_info": {
   "codemirror_mode": {
    "name": "ipython",
    "version": 3
   },
   "file_extension": ".py",
   "mimetype": "text/x-python",
   "name": "python",
   "nbconvert_exporter": "python",
   "pygments_lexer": "ipython3",
   "version": "3.9.12"
  },
  "orig_nbformat": 4
 },
 "nbformat": 4,
 "nbformat_minor": 2
}
