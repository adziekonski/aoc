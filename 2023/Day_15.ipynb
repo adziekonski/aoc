{
 "cells": [
  {
   "cell_type": "code",
   "execution_count": 97,
   "metadata": {},
   "outputs": [],
   "source": [
    "import re"
   ]
  },
  {
   "cell_type": "code",
   "execution_count": 98,
   "metadata": {},
   "outputs": [],
   "source": [
    "def read_file(filename='test'):\n",
    "    input_file = open(f'data/{filename}_15', 'r')\n",
    "    data = input_file.read().split(',')\n",
    "    return data"
   ]
  },
  {
   "cell_type": "code",
   "execution_count": 99,
   "metadata": {},
   "outputs": [],
   "source": [
    "def calc_hash(entry):\n",
    "    entry_res = 0\n",
    "    for c in entry:\n",
    "        entry_res += ord(c)\n",
    "        entry_res *= 17\n",
    "        entry_res = entry_res % 256\n",
    "    return entry_res\n",
    "\n",
    "def calculate_boxes(boxes):\n",
    "    res = 0\n",
    "    for box_id, lenses in enumerate(boxes):\n",
    "        for position, lens in enumerate(lenses):\n",
    "            res += (box_id + 1) * (position + 1) * lens[1]\n",
    "    return res"
   ]
  },
  {
   "cell_type": "code",
   "execution_count": 100,
   "metadata": {},
   "outputs": [],
   "source": [
    "def first_star(filename='test'):\n",
    "    data = read_file(filename)\n",
    "    res = 0\n",
    "    for entry in data:\n",
    "        res += calc_hash(entry)\n",
    "    res\n",
    "    return res"
   ]
  },
  {
   "cell_type": "code",
   "execution_count": 101,
   "metadata": {},
   "outputs": [],
   "source": [
    "def second_star(filename='test'):\n",
    "    data = read_file(filename)\n",
    "    boxes = [[] for _ in range(256)]\n",
    "    for entry in data:\n",
    "        label = re.split(\"[-=]+\",entry)[0]\n",
    "        box_id = calc_hash(label)\n",
    "        if \"-\" in entry:\n",
    "            for i,lens in enumerate(boxes[box_id]):\n",
    "                if lens[0] == label:\n",
    "                    del boxes[box_id][i]\n",
    "                    break\n",
    "            if label in [l[0] for l in boxes[box_id]]:\n",
    "                print(boxes[:5])\n",
    "                boxes[box_id].remove(label)\n",
    "                print(boxes[:5])\n",
    "        else:\n",
    "            focal_length = int(entry[len(label)+1:])\n",
    "            is_update = False\n",
    "            for i,lens in enumerate(boxes[box_id]):\n",
    "                if lens[0] == label:\n",
    "                    boxes[box_id][i][1] = focal_length\n",
    "                    is_update = True\n",
    "                    break\n",
    "            if is_update == False:\n",
    "                boxes[box_id].append([label,focal_length])\n",
    "    return calculate_boxes(boxes)"
   ]
  },
  {
   "cell_type": "code",
   "execution_count": null,
   "metadata": {},
   "outputs": [],
   "source": []
  },
  {
   "cell_type": "code",
   "execution_count": 102,
   "metadata": {},
   "outputs": [
    {
     "data": {
      "text/plain": [
       "516070"
      ]
     },
     "execution_count": 102,
     "metadata": {},
     "output_type": "execute_result"
    }
   ],
   "source": [
    "first_star('input')"
   ]
  },
  {
   "cell_type": "code",
   "execution_count": 103,
   "metadata": {},
   "outputs": [
    {
     "data": {
      "text/plain": [
       "244981"
      ]
     },
     "execution_count": 103,
     "metadata": {},
     "output_type": "execute_result"
    }
   ],
   "source": [
    "second_star('input')"
   ]
  },
  {
   "cell_type": "code",
   "execution_count": null,
   "metadata": {},
   "outputs": [],
   "source": []
  }
 ],
 "metadata": {
  "kernelspec": {
   "display_name": "andres",
   "language": "python",
   "name": "python3"
  },
  "language_info": {
   "codemirror_mode": {
    "name": "ipython",
    "version": 3
   },
   "file_extension": ".py",
   "mimetype": "text/x-python",
   "name": "python",
   "nbconvert_exporter": "python",
   "pygments_lexer": "ipython3",
   "version": "3.9.12"
  },
  "orig_nbformat": 4
 },
 "nbformat": 4,
 "nbformat_minor": 2
}
