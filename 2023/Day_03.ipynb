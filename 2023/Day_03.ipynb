{
 "cells": [
  {
   "cell_type": "code",
   "execution_count": 13,
   "metadata": {},
   "outputs": [],
   "source": [
    "def read_file(filename='test'):\n",
    "    input_file = open(f'data/{filename}_03', 'r')\n",
    "    data = [[\".\"]+list(r)+[\".\"] for r in input_file.read().splitlines()]\n",
    "    data = [[\".\"]*len(data[0])] + data + [[\".\"]*len(data[0])]\n",
    "    return data"
   ]
  },
  {
   "cell_type": "code",
   "execution_count": 105,
   "metadata": {},
   "outputs": [],
   "source": [
    "def first_star(filename='test'):\n",
    "    data = read_file(filename)\n",
    "    current_number = 0\n",
    "    is_correct = False\n",
    "    res = []\n",
    "    for ir, r in enumerate(data):\n",
    "        for ic, c in enumerate(r):\n",
    "            if c.isdigit():\n",
    "                current_number = current_number*10 + int(c)\n",
    "                for x,y in [(0,1),(1,0),(0,-1),(-1,0),(-1,-1),(1,1),(-1,1),(1,-1)]:\n",
    "                    if not ((data[ir+x][ic+y] == '.') | (data[ir+x][ic+y].isdigit())):\n",
    "                        is_correct = True\n",
    "            if not c.isdigit():\n",
    "                if (current_number!=0) & (is_correct):\n",
    "                    res.append(current_number)\n",
    "                current_number = 0\n",
    "                is_correct = False\n",
    "    return sum(res)"
   ]
  },
  {
   "cell_type": "code",
   "execution_count": 106,
   "metadata": {},
   "outputs": [],
   "source": [
    "def find_number(data, x, y):\n",
    "    while data[x][y-1].isdigit():\n",
    "        y -= 1\n",
    "    current_number = int(data[x][y])\n",
    "    starting_point = (x,y)\n",
    "    while data[x][y+1].isdigit():\n",
    "        current_number = current_number*10 + int(data[x][y+1])\n",
    "        y += 1\n",
    "    return (starting_point,current_number)"
   ]
  },
  {
   "cell_type": "code",
   "execution_count": 110,
   "metadata": {},
   "outputs": [],
   "source": [
    "def second_star(filename='test'):\n",
    "    data = read_file(filename)\n",
    "    res = []\n",
    "    for ir, r in enumerate(data):\n",
    "        for ic, c in enumerate(r):\n",
    "            if c == '*':\n",
    "                relevant_numbers = []\n",
    "                for x,y in [(0,1),(1,0),(0,-1),(-1,0),(-1,-1),(1,1),(-1,1),(1,-1)]:\n",
    "                    if data[ir+x][ic+y].isdigit():\n",
    "                        relevant_numbers.append(find_number(data, ir+x, ic+y))\n",
    "                relevant_numbers = list(set(relevant_numbers))\n",
    "                if len(relevant_numbers) == 2:\n",
    "                    res.append([n[1] for n in relevant_numbers])\n",
    "    return sum([gear[0]*gear[1] for gear in res])"
   ]
  },
  {
   "cell_type": "code",
   "execution_count": 111,
   "metadata": {},
   "outputs": [
    {
     "data": {
      "text/plain": [
       "556057"
      ]
     },
     "execution_count": 111,
     "metadata": {},
     "output_type": "execute_result"
    }
   ],
   "source": [
    "first_star('input')"
   ]
  },
  {
   "cell_type": "code",
   "execution_count": 112,
   "metadata": {},
   "outputs": [
    {
     "data": {
      "text/plain": [
       "82824352"
      ]
     },
     "execution_count": 112,
     "metadata": {},
     "output_type": "execute_result"
    }
   ],
   "source": [
    "second_star('input')"
   ]
  },
  {
   "cell_type": "code",
   "execution_count": null,
   "metadata": {},
   "outputs": [],
   "source": []
  }
 ],
 "metadata": {
  "kernelspec": {
   "display_name": "andres",
   "language": "python",
   "name": "python3"
  },
  "language_info": {
   "codemirror_mode": {
    "name": "ipython",
    "version": 3
   },
   "file_extension": ".py",
   "mimetype": "text/x-python",
   "name": "python",
   "nbconvert_exporter": "python",
   "pygments_lexer": "ipython3",
   "version": "3.9.12"
  },
  "orig_nbformat": 4
 },
 "nbformat": 4,
 "nbformat_minor": 2
}
