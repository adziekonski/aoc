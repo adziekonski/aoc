{
 "cells": [
  {
   "cell_type": "code",
   "execution_count": 45,
   "id": "278a5b05-a138-47ac-80a3-bf6e02747646",
   "metadata": {},
   "outputs": [],
   "source": [
    "from reader import read_file\n",
    "data = read_file(1)\n",
    "data = [int(d) for d in data]"
   ]
  },
  {
   "cell_type": "markdown",
   "id": "c2f2f9a2-7ce1-4b59-855e-70b0629f61b2",
   "metadata": {},
   "source": [
    "#### One star"
   ]
  },
  {
   "cell_type": "code",
   "execution_count": 36,
   "id": "f0fa1cea-17ad-4c85-9757-011e63a2150f",
   "metadata": {},
   "outputs": [
    {
     "name": "stdout",
     "output_type": "stream",
     "text": [
      "The level increases 1390 times.\n"
     ]
    }
   ],
   "source": [
    "res = sum([data[_row]<data[_row+1] for _row in range(len(data)-1)])\n",
    "print(f\"The level increases {res} times.\")"
   ]
  },
  {
   "cell_type": "markdown",
   "id": "f4b58b4b-c4c0-4b14-bfc4-d1b53bc1ab97",
   "metadata": {},
   "source": [
    "#### Two start"
   ]
  },
  {
   "cell_type": "code",
   "execution_count": 43,
   "id": "f22a2686-4588-4afc-a34b-ff0f9cbf8830",
   "metadata": {},
   "outputs": [],
   "source": [
    "sliding = [sum(data[i:i+3]) for i in range(len(data)-2)]"
   ]
  },
  {
   "cell_type": "code",
   "execution_count": 44,
   "id": "d7c4dc22-b982-4283-96d3-b85f9803867d",
   "metadata": {},
   "outputs": [
    {
     "name": "stdout",
     "output_type": "stream",
     "text": [
      "The sliding window level increases 1457 times.\n"
     ]
    }
   ],
   "source": [
    "res = sum([sliding[_row]<sliding[_row+1] for _row in range(len(sliding)-1)])\n",
    "print(f\"The sliding window level increases {res} times.\")"
   ]
  }
 ],
 "metadata": {
  "kernelspec": {
   "display_name": "Python 3 (ipykernel)",
   "language": "python",
   "name": "python3"
  },
  "language_info": {
   "codemirror_mode": {
    "name": "ipython",
    "version": 3
   },
   "file_extension": ".py",
   "mimetype": "text/x-python",
   "name": "python",
   "nbconvert_exporter": "python",
   "pygments_lexer": "ipython3",
   "version": "3.9.12"
  }
 },
 "nbformat": 4,
 "nbformat_minor": 5
}
