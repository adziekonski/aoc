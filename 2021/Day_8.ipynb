{
 "cells": [
  {
   "cell_type": "code",
   "execution_count": 116,
   "id": "278a5b05-a138-47ac-80a3-bf6e02747646",
   "metadata": {},
   "outputs": [],
   "source": [
    "from reader import read_file\n",
    "data = read_file(8, False)"
   ]
  },
  {
   "cell_type": "markdown",
   "id": "c2f2f9a2-7ce1-4b59-855e-70b0629f61b2",
   "metadata": {},
   "source": [
    "#### One star"
   ]
  },
  {
   "cell_type": "code",
   "execution_count": 117,
   "id": "a8583acc-ec0b-4830-a422-d7b8937536cf",
   "metadata": {},
   "outputs": [
    {
     "name": "stdout",
     "output_type": "stream",
     "text": [
      "The number of difits 1,4,7,8 in the output is 349\n"
     ]
    }
   ],
   "source": [
    "output = [[len(si) for si in e.split(\" \") if len(si) in (2,3,4,7)] for e in [d.split(\" | \")[1] for d in data]]\n",
    "res = sum([len(o) for o in output])\n",
    "print(f\"The number of difits 1,4,7,8 in the output is {res}\")"
   ]
  },
  {
   "cell_type": "markdown",
   "id": "f4b58b4b-c4c0-4b14-bfc4-d1b53bc1ab97",
   "metadata": {},
   "source": [
    "\n",
    "#### Two stars"
   ]
  },
  {
   "cell_type": "code",
   "execution_count": 118,
   "id": "c60a121e-ccdd-4934-b181-c1a2b2dac242",
   "metadata": {},
   "outputs": [],
   "source": [
    "options = [d.replace(\" |\", \"\").split(\" \") for d in data]"
   ]
  },
  {
   "cell_type": "code",
   "execution_count": 89,
   "id": "0fd0a448-d61a-4685-b528-8daab5ca0e05",
   "metadata": {
    "collapsed": true,
    "jupyter": {
     "outputs_hidden": true
    },
    "tags": []
   },
   "outputs": [
    {
     "ename": "SyntaxError",
     "evalue": "invalid syntax (2916661480.py, line 1)",
     "output_type": "error",
     "traceback": [
      "\u001b[0;36m  Input \u001b[0;32mIn [89]\u001b[0;36m\u001b[0m\n\u001b[0;31m    [6] -> ten co nie ma (1) to jest (6) oraz brakujacy element z (1) to c\u001b[0m\n\u001b[0m        ^\u001b[0m\n\u001b[0;31mSyntaxError\u001b[0m\u001b[0;31m:\u001b[0m invalid syntax\n"
     ]
    }
   ],
   "source": [
    "[6] -> ten co nie ma (1) to jest (6) oraz brakujacy element z (1) to c\n",
    "[5] -> ten co ma (1) to jest (3)\n",
    "[5] -> ten co ma c ale nie ma (1) to jest (2)\n",
    "[5] -> pozostale to sa (5)\n",
    "[6] -> to co jest (5) z dodanym c to jest (9)\n",
    "[6] -> reszta to (0)"
   ]
  },
  {
   "cell_type": "code",
   "execution_count": 119,
   "id": "41e2b7fe-028c-4458-aca0-1d08344cb835",
   "metadata": {},
   "outputs": [],
   "source": [
    "def parse_screen(s):\n",
    "    s = [\"\".join(sorted(e)) for e in s]\n",
    "    inp = s[0:10]\n",
    "    out = s[10:]\n",
    "    \n",
    "    inp = sorted(inp, key=lambda x: len(x))\n",
    "    translator = {inp[0]: 1, inp[1]:7, inp[2]:4, inp[9]:8}\n",
    "    \n",
    "    #Find 6 in 6 element options\n",
    "    c_element = None\n",
    "    remaining_6_element = []\n",
    "    for opt in inp[6:9]:\n",
    "        if (inp[0][0] not in opt) or (inp[0][1] not in opt):\n",
    "            translator[opt] = 6\n",
    "            if inp[0][0] in opt:\n",
    "                c_element = inp[0][1]\n",
    "            else:\n",
    "                c_element = inp[0][0]\n",
    "        else:\n",
    "            remaining_6_element.append(opt)\n",
    "    \n",
    "    #Parse 5 element options\n",
    "    definition_5 = None\n",
    "    for opt in inp[3:6]:\n",
    "        if (inp[0][0] in opt) and (inp[0][1] in opt):\n",
    "            translator[opt] = 3\n",
    "        elif ((inp[0][0] not in opt) or (inp[0][1] not in opt)) and (c_element in opt):\n",
    "            translator[opt] = 2\n",
    "        else:\n",
    "            translator[opt] = 5\n",
    "            definition_5 = opt\n",
    "    \n",
    "    #Fill in remaining 6 element digits:\n",
    "    for opt in remaining_6_element:\n",
    "        definition_9 = definition_5 + c_element\n",
    "        definition_9 = \"\".join(sorted(definition_9))\n",
    "        if opt == definition_9:\n",
    "            translator[opt] = 9\n",
    "        else:\n",
    "            translator[opt] = 0\n",
    "    \n",
    "    return int(\"\".join([str(translator[d]) for d in out]))\n"
   ]
  },
  {
   "cell_type": "code",
   "execution_count": 121,
   "id": "f22a2686-4588-4afc-a34b-ff0f9cbf8830",
   "metadata": {},
   "outputs": [
    {
     "name": "stdout",
     "output_type": "stream",
     "text": [
      "The sum of parsed output numbers is 1070957\n"
     ]
    }
   ],
   "source": [
    "res = sum([parse_screen(to_be_parsed) for to_be_parsed in options])\n",
    "print(f\"The sum of parsed output numbers is {res}\")"
   ]
  },
  {
   "cell_type": "code",
   "execution_count": null,
   "id": "62a91a7d-8a3b-43bb-9459-1dde29f0d7e4",
   "metadata": {},
   "outputs": [],
   "source": []
  }
 ],
 "metadata": {
  "kernelspec": {
   "display_name": "Python 3 (ipykernel)",
   "language": "python",
   "name": "python3"
  },
  "language_info": {
   "codemirror_mode": {
    "name": "ipython",
    "version": 3
   },
   "file_extension": ".py",
   "mimetype": "text/x-python",
   "name": "python",
   "nbconvert_exporter": "python",
   "pygments_lexer": "ipython3",
   "version": "3.9.12"
  }
 },
 "nbformat": 4,
 "nbformat_minor": 5
}
