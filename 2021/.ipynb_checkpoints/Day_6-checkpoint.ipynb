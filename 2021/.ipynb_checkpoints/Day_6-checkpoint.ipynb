{
 "cells": [
  {
   "cell_type": "code",
   "execution_count": 135,
   "id": "278a5b05-a138-47ac-80a3-bf6e02747646",
   "metadata": {},
   "outputs": [],
   "source": [
    "from reader import read_file\n",
    "data = read_file(6)\n",
    "data = [int(v) for v in data[0].split(\",\")]"
   ]
  },
  {
   "cell_type": "markdown",
   "id": "c2f2f9a2-7ce1-4b59-855e-70b0629f61b2",
   "metadata": {},
   "source": [
    "#### One star"
   ]
  },
  {
   "cell_type": "code",
   "execution_count": 21,
   "id": "9e78dd6f-cff7-40a4-b022-a29112f68afd",
   "metadata": {},
   "outputs": [],
   "source": [
    "days = 80\n",
    "for i in range(days):\n",
    "    fish = len(data)\n",
    "    for f in range(fish):\n",
    "        data[f] -= 1\n",
    "        if data[f] == -1:\n",
    "            data[f] = 6\n",
    "            data.append(8)"
   ]
  },
  {
   "cell_type": "code",
   "execution_count": 22,
   "id": "f0fa1cea-17ad-4c85-9757-011e63a2150f",
   "metadata": {},
   "outputs": [
    {
     "name": "stdout",
     "output_type": "stream",
     "text": [
      "After 80 days there are 394994 fish.\n"
     ]
    }
   ],
   "source": [
    "res = len(data)\n",
    "print(f\"After {days} days there are {res} fish.\")"
   ]
  },
  {
   "cell_type": "markdown",
   "id": "f4b58b4b-c4c0-4b14-bfc4-d1b53bc1ab97",
   "metadata": {},
   "source": [
    "#### Two stars"
   ]
  },
  {
   "cell_type": "code",
   "execution_count": 141,
   "id": "8d86081f-d28f-409b-bb7d-7c7d0e1175a3",
   "metadata": {},
   "outputs": [],
   "source": [
    "def generate_new_fish(d):\n",
    "    if d in gen_dict:\n",
    "        return gen_dict[d]\n",
    "    res = 1\n",
    "    if d<=8:\n",
    "        return res\n",
    "    d = d-9\n",
    "    while (d > 0):\n",
    "        res += generate_new_fish[d]\n",
    "        d -= 7\n",
    "    return res"
   ]
  },
  {
   "cell_type": "code",
   "execution_count": 137,
   "id": "fe4619f5-2b77-4c53-86ce-734f5d09c551",
   "metadata": {},
   "outputs": [],
   "source": [
    "def get_number_of_fish(days, data):\n",
    "    res = len(data)\n",
    "    for d in data:\n",
    "        remaining = days-d\n",
    "        while(remaining > 0):\n",
    "            res += generate_new_fish(remaining)\n",
    "            remaining -= 7\n",
    "    return res"
   ]
  },
  {
   "cell_type": "code",
   "execution_count": 144,
   "id": "5406b67c-350c-4fda-99dc-3cd16bdcb15a",
   "metadata": {},
   "outputs": [
    {
     "name": "stdout",
     "output_type": "stream",
     "text": [
      "There are 1765974267455 fish after 18 days\n"
     ]
    }
   ],
   "source": [
    "days = 256\n",
    "gen_dict = {}\n",
    "for i in range(days+1):\n",
    "    gen_dict[i] = generate_new_fish(i)\n",
    "res = get_number_of_fish(days,data)\n",
    "print(f\"There are {res} fish after {d} days\")"
   ]
  },
  {
   "cell_type": "code",
   "execution_count": null,
   "id": "e6c5caee-a07d-4218-bcfa-621f4d2e43e4",
   "metadata": {},
   "outputs": [],
   "source": []
  }
 ],
 "metadata": {
  "kernelspec": {
   "display_name": "Python 3 (ipykernel)",
   "language": "python",
   "name": "python3"
  },
  "language_info": {
   "codemirror_mode": {
    "name": "ipython",
    "version": 3
   },
   "file_extension": ".py",
   "mimetype": "text/x-python",
   "name": "python",
   "nbconvert_exporter": "python",
   "pygments_lexer": "ipython3",
   "version": "3.9.12"
  }
 },
 "nbformat": 4,
 "nbformat_minor": 5
}
