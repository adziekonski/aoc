{
 "cells": [
  {
   "cell_type": "code",
   "execution_count": 8,
   "id": "278a5b05-a138-47ac-80a3-bf6e02747646",
   "metadata": {},
   "outputs": [],
   "source": [
    "from reader import read_file\n",
    "data = read_file(7)"
   ]
  },
  {
   "cell_type": "markdown",
   "id": "c2f2f9a2-7ce1-4b59-855e-70b0629f61b2",
   "metadata": {},
   "source": [
    "#### One star"
   ]
  },
  {
   "cell_type": "code",
   "execution_count": 9,
   "id": "ed03a02c-f97c-43a5-acba-f6e3013192e1",
   "metadata": {},
   "outputs": [],
   "source": [
    "data = [int(d) for d in data[0].split(\",\")]"
   ]
  },
  {
   "cell_type": "code",
   "execution_count": 13,
   "id": "2225fec3-68bc-4448-b63d-fb98ab0940b2",
   "metadata": {},
   "outputs": [],
   "source": [
    "best_fuel = 999999999\n",
    "for i in range(min(data), max(data)+1):\n",
    "    best_fuel = min(sum([abs(d-i) for d in data]), best_fuel)"
   ]
  },
  {
   "cell_type": "code",
   "execution_count": 14,
   "id": "f0fa1cea-17ad-4c85-9757-011e63a2150f",
   "metadata": {},
   "outputs": [
    {
     "name": "stdout",
     "output_type": "stream",
     "text": [
      "The minimum amount of fuel to align is 364898\n"
     ]
    }
   ],
   "source": [
    "res = best_fuel\n",
    "print(f\"The minimum amount of fuel to align is {res}\")"
   ]
  },
  {
   "cell_type": "markdown",
   "id": "f4b58b4b-c4c0-4b14-bfc4-d1b53bc1ab97",
   "metadata": {},
   "source": [
    "#### Two stars"
   ]
  },
  {
   "cell_type": "code",
   "execution_count": 24,
   "id": "9677826e-3369-4003-805a-381ba5d273d4",
   "metadata": {},
   "outputs": [],
   "source": [
    "dict_fuel_usage = {0:0}\n",
    "for i in range(1,max(data)+1):\n",
    "    dict_fuel_usage[i] = dict_fuel_usage[i-1] + i"
   ]
  },
  {
   "cell_type": "code",
   "execution_count": 25,
   "id": "1c611ae9-9dc2-4aa4-b3d7-f5ced62d67e4",
   "metadata": {},
   "outputs": [],
   "source": [
    "best_fuel = 999999999\n",
    "for i in range(min(data), max(data)+1):\n",
    "    best_fuel = min(sum([dict_fuel_usage[abs(d-i)] for d in data]), best_fuel)"
   ]
  },
  {
   "cell_type": "code",
   "execution_count": 26,
   "id": "f22a2686-4588-4afc-a34b-ff0f9cbf8830",
   "metadata": {},
   "outputs": [
    {
     "name": "stdout",
     "output_type": "stream",
     "text": [
      "The minimum amount of fuel to align is 104149091\n"
     ]
    }
   ],
   "source": [
    "res = best_fuel\n",
    "print(f\"The minimum amount of fuel to align is {res}\")"
   ]
  }
 ],
 "metadata": {
  "kernelspec": {
   "display_name": "Python 3 (ipykernel)",
   "language": "python",
   "name": "python3"
  },
  "language_info": {
   "codemirror_mode": {
    "name": "ipython",
    "version": 3
   },
   "file_extension": ".py",
   "mimetype": "text/x-python",
   "name": "python",
   "nbconvert_exporter": "python",
   "pygments_lexer": "ipython3",
   "version": "3.9.12"
  }
 },
 "nbformat": 4,
 "nbformat_minor": 5
}
