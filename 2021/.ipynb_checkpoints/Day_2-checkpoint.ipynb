{
 "cells": [
  {
   "cell_type": "code",
   "execution_count": 2,
   "id": "278a5b05-a138-47ac-80a3-bf6e02747646",
   "metadata": {},
   "outputs": [],
   "source": [
    "from reader import read_file\n",
    "data = read_file(2)"
   ]
  },
  {
   "cell_type": "code",
   "execution_count": 5,
   "id": "46f482ee-0a26-493a-9f50-508fb710acfa",
   "metadata": {},
   "outputs": [],
   "source": [
    "data = [(r.split(' ')[0], int(r.split(' ')[1])) for r in data]"
   ]
  },
  {
   "cell_type": "code",
   "execution_count": 7,
   "id": "4d36cfdc-fd64-4709-aaa2-18a4b9c7b3f5",
   "metadata": {},
   "outputs": [],
   "source": [
    "movement_dict = {'forward': (0,1), 'down': (1,0), 'up': (-1,0)}"
   ]
  },
  {
   "cell_type": "markdown",
   "id": "c2f2f9a2-7ce1-4b59-855e-70b0629f61b2",
   "metadata": {},
   "source": [
    "#### One star"
   ]
  },
  {
   "cell_type": "code",
   "execution_count": 9,
   "id": "f0fa1cea-17ad-4c85-9757-011e63a2150f",
   "metadata": {},
   "outputs": [
    {
     "name": "stdout",
     "output_type": "stream",
     "text": [
      "The multiplication of the final position and depth is 1936494\n"
     ]
    }
   ],
   "source": [
    "position = 0\n",
    "depth = 0\n",
    "for m,v in data:\n",
    "    position += movement_dict[m][1]*v\n",
    "    depth += movement_dict[m][0]*v\n",
    "res = position*depth\n",
    "print(f\"The multiplication of the final position and depth is {res}\")"
   ]
  },
  {
   "cell_type": "markdown",
   "id": "f4b58b4b-c4c0-4b14-bfc4-d1b53bc1ab97",
   "metadata": {},
   "source": [
    "#### Two start"
   ]
  },
  {
   "cell_type": "code",
   "execution_count": 10,
   "id": "f22a2686-4588-4afc-a34b-ff0f9cbf8830",
   "metadata": {},
   "outputs": [
    {
     "name": "stdout",
     "output_type": "stream",
     "text": [
      "The multiplication of the final position and depth is 1997106066\n"
     ]
    }
   ],
   "source": [
    "position = 0\n",
    "depth = 0\n",
    "aim = 0\n",
    "for m,v in data:\n",
    "    position += movement_dict[m][1]*v\n",
    "    depth += movement_dict[m][1]*aim*v\n",
    "    aim += movement_dict[m][0]*v\n",
    "res = position*depth\n",
    "print(f\"The multiplication of the final position and depth is {res}\")"
   ]
  }
 ],
 "metadata": {
  "kernelspec": {
   "display_name": "Python 3 (ipykernel)",
   "language": "python",
   "name": "python3"
  },
  "language_info": {
   "codemirror_mode": {
    "name": "ipython",
    "version": 3
   },
   "file_extension": ".py",
   "mimetype": "text/x-python",
   "name": "python",
   "nbconvert_exporter": "python",
   "pygments_lexer": "ipython3",
   "version": "3.9.12"
  }
 },
 "nbformat": 4,
 "nbformat_minor": 5
}
