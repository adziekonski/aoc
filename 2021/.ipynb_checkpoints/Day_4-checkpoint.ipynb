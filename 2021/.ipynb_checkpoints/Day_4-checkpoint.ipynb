{
 "cells": [
  {
   "cell_type": "code",
   "execution_count": 11,
   "id": "278a5b05-a138-47ac-80a3-bf6e02747646",
   "metadata": {},
   "outputs": [],
   "source": [
    "from reader import read_file\n",
    "from collections import defaultdict\n",
    "data = read_file(4, False)"
   ]
  },
  {
   "cell_type": "code",
   "execution_count": 12,
   "id": "16348583-7c1f-4c7d-9919-3989520c5bf2",
   "metadata": {},
   "outputs": [],
   "source": [
    "draws = [int(v) for v in data.pop(0).split(',')]\n",
    "boards = []"
   ]
  },
  {
   "cell_type": "code",
   "execution_count": 13,
   "id": "f2abb11b-db0b-4857-a461-d504d2d7ca0a",
   "metadata": {},
   "outputs": [],
   "source": [
    "for i in range((len(data)-1)//6 + 1):\n",
    "    boards.append([[int(r[(c*3):(c*3+2)].lstrip()) for c in range(len(r)//3 + 1)] for r in data[(i*6+1):(i*6+6)]])"
   ]
  },
  {
   "cell_type": "code",
   "execution_count": 14,
   "id": "08442cdc-d29d-43a0-8dc6-7d167686fcc7",
   "metadata": {},
   "outputs": [],
   "source": [
    "_nav = defaultdict(list)"
   ]
  },
  {
   "cell_type": "code",
   "execution_count": 15,
   "id": "a290e13a-0876-4082-8c31-8396b69a7bd3",
   "metadata": {},
   "outputs": [],
   "source": [
    "for board_id in range(len(boards)):\n",
    "    for r in range(len(boards[board_id])):\n",
    "        for c in range(len(boards[board_id][r])):\n",
    "            v = boards[board_id][r][c]\n",
    "            _nav[v].append((board_id,r,c))"
   ]
  },
  {
   "cell_type": "markdown",
   "id": "c2f2f9a2-7ce1-4b59-855e-70b0629f61b2",
   "metadata": {},
   "source": [
    "#### One star"
   ]
  },
  {
   "cell_type": "code",
   "execution_count": 16,
   "id": "5930984b-a6e0-4720-a8ed-56202b52cd11",
   "metadata": {},
   "outputs": [],
   "source": [
    "def guess_numbers():\n",
    "    completed_rows = {}\n",
    "    completed_cols = {}\n",
    "    \n",
    "    marked = {}\n",
    "    for b in range(len(boards)):\n",
    "        marked[b] = [[0 for _ in range(5)] for x in range(5)]\n",
    "        completed_rows[b] = defaultdict(int)\n",
    "        completed_cols[b] = defaultdict(int)\n",
    "        \n",
    "    for v in draws:\n",
    "        for board_id,r,c in _nav[v]:\n",
    "            marked[board_id][r][c] = 1\n",
    "            completed_cols[board_id][c] += 1\n",
    "            if completed_cols[board_id][c] == 5:\n",
    "                return board_id, v, marked[board_id]\n",
    "            completed_rows[board_id][r] += 1\n",
    "            if completed_rows[board_id][r] == 5:\n",
    "                return board_id, v, marked[board_id]"
   ]
  },
  {
   "cell_type": "code",
   "execution_count": 17,
   "id": "1a2524ee-43e4-4cf2-aceb-b4178f3e3d2f",
   "metadata": {},
   "outputs": [],
   "source": [
    "def bingo():\n",
    "    board_id, v, marked = guess_numbers()\n",
    "    unmarked = 0\n",
    "    for r in range(len(marked)):\n",
    "        for c in range(len(marked[0])):\n",
    "            if marked[r][c]==0:\n",
    "                unmarked += boards[board_id][r][c]\n",
    "    return unmarked*v"
   ]
  },
  {
   "cell_type": "code",
   "execution_count": 18,
   "id": "f0fa1cea-17ad-4c85-9757-011e63a2150f",
   "metadata": {},
   "outputs": [
    {
     "name": "stdout",
     "output_type": "stream",
     "text": [
      "The final score with the best board is 64084\n"
     ]
    }
   ],
   "source": [
    "res = bingo()\n",
    "print(f\"The final score with the best board is {res}\")"
   ]
  },
  {
   "cell_type": "markdown",
   "id": "f4b58b4b-c4c0-4b14-bfc4-d1b53bc1ab97",
   "metadata": {},
   "source": [
    "#### Two stars"
   ]
  },
  {
   "cell_type": "code",
   "execution_count": 21,
   "id": "a86d61a8-af41-4669-8d01-ba3605bfe085",
   "metadata": {},
   "outputs": [],
   "source": [
    "def guess_numbers():\n",
    "    completed_rows = {}\n",
    "    completed_cols = {}\n",
    "    \n",
    "    guessed = []\n",
    "    prev_v = None\n",
    "    \n",
    "    marked = {}\n",
    "    for b in range(len(boards)):\n",
    "        marked[b] = [[0 for _ in range(5)] for x in range(5)]\n",
    "        completed_rows[b] = defaultdict(int)\n",
    "        completed_cols[b] = defaultdict(int)\n",
    "        \n",
    "    for v in draws:\n",
    "        if len(guessed)==len(boards):\n",
    "            return guessed[-1], prev_v, marked[guessed[-1]]\n",
    "        prev_v = v\n",
    "        for board_id,r,c in _nav[v]:\n",
    "            if board_id in guessed:\n",
    "                continue\n",
    "            marked[board_id][r][c] = 1\n",
    "            completed_cols[board_id][c] += 1\n",
    "            if completed_cols[board_id][c] == 5:\n",
    "                guessed.append(board_id)\n",
    "            completed_rows[board_id][r] += 1\n",
    "            if completed_rows[board_id][r] == 5:\n",
    "                if board_id not in guessed:\n",
    "                    guessed.append(board_id)"
   ]
  },
  {
   "cell_type": "code",
   "execution_count": 22,
   "id": "f22a2686-4588-4afc-a34b-ff0f9cbf8830",
   "metadata": {},
   "outputs": [
    {
     "name": "stdout",
     "output_type": "stream",
     "text": [
      "The final score with the best board is 12833\n"
     ]
    }
   ],
   "source": [
    "res = bingo()\n",
    "print(f\"The final score with the best board is {res}\")"
   ]
  }
 ],
 "metadata": {
  "kernelspec": {
   "display_name": "Python 3 (ipykernel)",
   "language": "python",
   "name": "python3"
  },
  "language_info": {
   "codemirror_mode": {
    "name": "ipython",
    "version": 3
   },
   "file_extension": ".py",
   "mimetype": "text/x-python",
   "name": "python",
   "nbconvert_exporter": "python",
   "pygments_lexer": "ipython3",
   "version": "3.9.12"
  }
 },
 "nbformat": 4,
 "nbformat_minor": 5
}
