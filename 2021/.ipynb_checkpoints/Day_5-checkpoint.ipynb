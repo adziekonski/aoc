{
 "cells": [
  {
   "cell_type": "code",
   "execution_count": 109,
   "id": "278a5b05-a138-47ac-80a3-bf6e02747646",
   "metadata": {},
   "outputs": [],
   "source": [
    "from reader import read_file\n",
    "from collections import defaultdict\n",
    "data = read_file(5, False)\n",
    "data = [[list(map(int,x.split(\",\"))) for x in r.split(\" -> \")] for r in data]"
   ]
  },
  {
   "cell_type": "code",
   "execution_count": 115,
   "id": "53e176ec-28d3-4e84-be9b-1365610c753b",
   "metadata": {},
   "outputs": [],
   "source": [
    "def count_line_overlaps(data, include_diagonal):\n",
    "    lines = defaultdict(int)\n",
    "    for l in data:\n",
    "        if (l[0][0] == l[1][0]):\n",
    "            x = l[0][0]\n",
    "            y1 = l[0][1]\n",
    "            y2 = l[1][1]\n",
    "            for i in range(min(y1,y2),max(y1,y2)+1):\n",
    "                lines[(x,i)] +=1\n",
    "            continue\n",
    "        if (l[0][1] == l[1][1]):\n",
    "            x1 = l[0][0]\n",
    "            x2 = l[1][0]\n",
    "            y = l[0][1]\n",
    "            for i in range(min(x1,x2),max(x1,x2)+1):\n",
    "                lines[(i,y)] +=1\n",
    "            continue\n",
    "        if include_diagonal:\n",
    "            if (abs(l[0][0]-l[1][0])==abs(l[0][1]-l[1][1])):\n",
    "                x1 = l[0][0]\n",
    "                x2 = l[1][0]\n",
    "                y1 = l[0][1]\n",
    "                y2 = l[1][1]\n",
    "                x_dir = (x2-x1)//abs(x1-x2)\n",
    "                y_dir = (y2-y1)//abs(y1-y2)\n",
    "                num = abs(l[0][0]-l[1][0])+1\n",
    "                for i in range(num):\n",
    "                    new_x = x1 + x_dir*i\n",
    "                    new_y = y1 + y_dir*i\n",
    "                    lines[(new_x, new_y)] += 1\n",
    "    res = len([x for x in lines.values() if x > 1])\n",
    "    return res"
   ]
  },
  {
   "cell_type": "markdown",
   "id": "c2f2f9a2-7ce1-4b59-855e-70b0629f61b2",
   "metadata": {},
   "source": [
    "#### One star"
   ]
  },
  {
   "cell_type": "code",
   "execution_count": 116,
   "id": "f0fa1cea-17ad-4c85-9757-011e63a2150f",
   "metadata": {},
   "outputs": [
    {
     "name": "stdout",
     "output_type": "stream",
     "text": [
      "The number of lines overlaps is 5576\n"
     ]
    }
   ],
   "source": [
    "res = count_line_overlaps(data, False)\n",
    "print(f\"The number of lines overlaps is {res}\")"
   ]
  },
  {
   "cell_type": "markdown",
   "id": "f4b58b4b-c4c0-4b14-bfc4-d1b53bc1ab97",
   "metadata": {},
   "source": [
    "#### Two stars"
   ]
  },
  {
   "cell_type": "code",
   "execution_count": 117,
   "id": "d86384a8-736d-4871-bd60-54e4d2789192",
   "metadata": {},
   "outputs": [
    {
     "name": "stdout",
     "output_type": "stream",
     "text": [
      "The number of lines overlaps is 18144\n"
     ]
    }
   ],
   "source": [
    "res = count_line_overlaps(data, True)\n",
    "print(f\"The number of lines overlaps is {res}\")"
   ]
  }
 ],
 "metadata": {
  "kernelspec": {
   "display_name": "Python 3 (ipykernel)",
   "language": "python",
   "name": "python3"
  },
  "language_info": {
   "codemirror_mode": {
    "name": "ipython",
    "version": 3
   },
   "file_extension": ".py",
   "mimetype": "text/x-python",
   "name": "python",
   "nbconvert_exporter": "python",
   "pygments_lexer": "ipython3",
   "version": "3.9.12"
  }
 },
 "nbformat": 4,
 "nbformat_minor": 5
}
