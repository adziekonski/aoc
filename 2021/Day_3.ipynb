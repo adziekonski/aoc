{
 "cells": [
  {
   "cell_type": "code",
   "execution_count": 1,
   "id": "278a5b05-a138-47ac-80a3-bf6e02747646",
   "metadata": {},
   "outputs": [],
   "source": [
    "from reader import read_file\n",
    "data = read_file(3)"
   ]
  },
  {
   "cell_type": "markdown",
   "id": "c2f2f9a2-7ce1-4b59-855e-70b0629f61b2",
   "metadata": {},
   "source": [
    "#### One star"
   ]
  },
  {
   "cell_type": "code",
   "execution_count": 20,
   "id": "f0fa1cea-17ad-4c85-9757-011e63a2150f",
   "metadata": {},
   "outputs": [
    {
     "name": "stdout",
     "output_type": "stream",
     "text": [
      "The power consumption of the submarine is 4160394\n"
     ]
    }
   ],
   "source": [
    "nrows=len(data)\n",
    "gamma = \"\".join([str(int(sum([int(b[r]) for b in data])>(nrows/2))) for r in range(len(data[0]))])\n",
    "gamma = int(gamma,2)\n",
    "epsilon = 2**len(data[0])-gamma-1\n",
    "res = gamma*epsilon\n",
    "print(f\"The power consumption of the submarine is {res}\")"
   ]
  },
  {
   "cell_type": "markdown",
   "id": "f4b58b4b-c4c0-4b14-bfc4-d1b53bc1ab97",
   "metadata": {},
   "source": [
    "#### Two start"
   ]
  },
  {
   "cell_type": "code",
   "execution_count": 35,
   "id": "0e96f4f4-0b08-4707-9ecd-6a3099676bbb",
   "metadata": {},
   "outputs": [],
   "source": [
    "def get_popular_bit(data, pos, most=True):\n",
    "    half=len(data)/2\n",
    "    val = sum([int(b[pos]) for b in data])\n",
    "    if val==half:\n",
    "        return str(int(most))\n",
    "    if most:\n",
    "        return str(int(val>half))\n",
    "    else:\n",
    "        return str(int(val<half))"
   ]
  },
  {
   "cell_type": "code",
   "execution_count": 49,
   "id": "fee56d21-82a0-4f3d-8757-ac66c9d83882",
   "metadata": {},
   "outputs": [],
   "source": [
    "def get_rating(data, most_popular):\n",
    "    subset = data.copy()\n",
    "    pos = 0\n",
    "    while len(subset)>1:\n",
    "        b = get_popular_bit(subset, pos, most_popular)\n",
    "        subset = [r for r in subset if r[pos]==b]\n",
    "        pos+=1\n",
    "    return subset[0]"
   ]
  },
  {
   "cell_type": "code",
   "execution_count": 50,
   "id": "eb9fb5b1-ed94-49e0-ad64-b6229dd835bc",
   "metadata": {},
   "outputs": [],
   "source": [
    "oxygen = get_rating(data, True)\n",
    "co2 = get_rating(data, False)"
   ]
  },
  {
   "cell_type": "code",
   "execution_count": 51,
   "id": "f22a2686-4588-4afc-a34b-ff0f9cbf8830",
   "metadata": {},
   "outputs": [
    {
     "name": "stdout",
     "output_type": "stream",
     "text": [
      "The life support rating is 4125600\n"
     ]
    }
   ],
   "source": [
    "res = int(oxygen,2) * int(co2,2)\n",
    "print(f\"The life support rating is {res}\")"
   ]
  }
 ],
 "metadata": {
  "kernelspec": {
   "display_name": "Python 3 (ipykernel)",
   "language": "python",
   "name": "python3"
  },
  "language_info": {
   "codemirror_mode": {
    "name": "ipython",
    "version": 3
   },
   "file_extension": ".py",
   "mimetype": "text/x-python",
   "name": "python",
   "nbconvert_exporter": "python",
   "pygments_lexer": "ipython3",
   "version": "3.9.12"
  }
 },
 "nbformat": 4,
 "nbformat_minor": 5
}
