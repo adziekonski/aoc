{
 "cells": [
  {
   "cell_type": "code",
   "execution_count": 1,
   "id": "00971305-f7ee-42fc-89e8-56bfea0977a2",
   "metadata": {},
   "outputs": [],
   "source": [
    "import math\n",
    "def read_and_process_file(filename='input'):\n",
    "    file = open(f'{filename}_25', 'r')\n",
    "    lines = [l.rstrip() for l in file.readlines()]\n",
    "    return lines"
   ]
  },
  {
   "cell_type": "code",
   "execution_count": 2,
   "id": "b930030a-af06-4e47-8659-a621cd4e514f",
   "metadata": {},
   "outputs": [],
   "source": [
    "digits = {\"2\":2,\n",
    "         \"1\":1,\n",
    "         \"0\":0,\n",
    "         \"-\":-1,\n",
    "         \"=\":-2}"
   ]
  },
  {
   "cell_type": "code",
   "execution_count": 3,
   "id": "9b8f44b2-5259-45e4-a227-342296b88ab2",
   "metadata": {},
   "outputs": [],
   "source": [
    "def translate_all_from_5_to_dec(data):\n",
    "    translated = []\n",
    "    for single in data:\n",
    "        length = len(single)\n",
    "        _val = 0\n",
    "        for i,v in enumerate(single):\n",
    "            _val+=(5**(length-1-i))*digits[v]\n",
    "        translated.append(_val)\n",
    "    return translated"
   ]
  },
  {
   "cell_type": "code",
   "execution_count": 4,
   "id": "fcd22bff-90df-4789-aa02-0bc542592567",
   "metadata": {},
   "outputs": [],
   "source": [
    "def translate_single_from_dec_to_5(res):\n",
    "    final_res = []\n",
    "    max_power = math.floor(math.log(res,5))\n",
    "    for power in range(max_power, -1, -1):\n",
    "        current_power = 5**power\n",
    "        mult = res/current_power\n",
    "        if mult >= 1.5:\n",
    "            final_res.append('2')\n",
    "            res -= 2*current_power\n",
    "        elif mult >= 0.5:\n",
    "            final_res.append('1')\n",
    "            res -= current_power\n",
    "        elif mult <= -1.5:\n",
    "            final_res.append('=')\n",
    "            res += 2*current_power\n",
    "        elif mult <= -0.5:\n",
    "            final_res.append('-')\n",
    "            res += current_power\n",
    "        else:\n",
    "            final_res.append('0')\n",
    "    return final_res"
   ]
  },
  {
   "cell_type": "markdown",
   "id": "819b321e-7bbd-4bea-877e-5a45099fc181",
   "metadata": {},
   "source": [
    "#### One star"
   ]
  },
  {
   "cell_type": "code",
   "execution_count": 5,
   "id": "d6225690-8241-403d-8831-79af3d074872",
   "metadata": {},
   "outputs": [
    {
     "name": "stdout",
     "output_type": "stream",
     "text": [
      "The final supply is: 2-02===-21---2002==0\n"
     ]
    }
   ],
   "source": [
    "data = read_and_process_file('input')\n",
    "data = translate_all_from_5_to_dec(data)\n",
    "data = sum(data)\n",
    "data = translate_single_from_dec_to_5(data)\n",
    "print(f\"The final supply is: {''.join(data)}\")"
   ]
  },
  {
   "cell_type": "markdown",
   "id": "db636fc3-3e74-48b2-aa92-687161f48c29",
   "metadata": {},
   "source": [
    "#### Two stars"
   ]
  },
  {
   "cell_type": "code",
   "execution_count": 6,
   "id": "1a107af7-f71c-476e-b0da-5039979cab44",
   "metadata": {},
   "outputs": [],
   "source": [
    "None"
   ]
  }
 ],
 "metadata": {
  "kernelspec": {
   "display_name": "Python 3 (ipykernel)",
   "language": "python",
   "name": "python3"
  },
  "language_info": {
   "codemirror_mode": {
    "name": "ipython",
    "version": 3
   },
   "file_extension": ".py",
   "mimetype": "text/x-python",
   "name": "python",
   "nbconvert_exporter": "python",
   "pygments_lexer": "ipython3",
   "version": "3.9.12"
  }
 },
 "nbformat": 4,
 "nbformat_minor": 5
}
