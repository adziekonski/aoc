{
 "cells": [
  {
   "cell_type": "code",
   "execution_count": 140,
   "id": "a4db6238-4949-4ed5-991b-0f71f2023702",
   "metadata": {},
   "outputs": [],
   "source": [
    "def read_and_process_file(filename='input'):\n",
    "    file1 = open(f'{filename}_14', 'r')\n",
    "    Lines = [l.rstrip() for l in file1.readlines()]\n",
    "    res = []\n",
    "    min_x, max_x, min_y, max_y = 500,0,0,0\n",
    "    for l in Lines:\n",
    "        l = l.split(\" -> \")\n",
    "        _start =[int(v) for v in l[0].split(\",\")]\n",
    "        min_x, max_x, min_y, max_y = check_min_max(_start, min_x, max_x, min_y, max_y)\n",
    "        for i in range(1,len(l)):\n",
    "            _end =[int(v) for v in l[i].split(\",\")]\n",
    "            min_x, max_x, min_y, max_y = check_min_max(_end, min_x, max_x, min_y, max_y)\n",
    "            res.append((_start, _end))\n",
    "            _start = _end\n",
    "    return res, (min_x, max_x, min_y, max_y)\n",
    "\n",
    "def check_min_max(entry, min_x, max_x, min_y, max_y):\n",
    "    if entry[0]>max_x:\n",
    "        max_x = entry[0]\n",
    "    if entry[0]<min_x:\n",
    "        min_x = entry[0]\n",
    "    if entry[1]>max_y:\n",
    "        max_y = entry[1]\n",
    "    if entry[1]<min_y:\n",
    "        min_y = entry[1]\n",
    "    return min_x, max_x, min_y, max_y"
   ]
  },
  {
   "cell_type": "code",
   "execution_count": 141,
   "id": "380cd29e-5b10-4fe5-84ff-d45f51635e3c",
   "metadata": {},
   "outputs": [],
   "source": [
    "def prepare_cave_map(_lines, _dims, include_floor = False):\n",
    "    if include_floor:\n",
    "        _height = _dims[3]+2\n",
    "        _dims = (_dims[0]-_dims[3]-2, _dims[1]+_dims[3]+2, 0, _dims[3])\n",
    "    \n",
    "    OFFSET = _dims[0]\n",
    "    caves = [[0 for c in range(_dims[1]-_dims[0]+1)] for r in range(_dims[3]+1)]\n",
    "    for l in _lines:\n",
    "        if l[0][0] == l[1][0]:\n",
    "            #Draw up-down\n",
    "            DIM = l[0][0]-OFFSET\n",
    "            _start = min(l[0][1], l[1][1])\n",
    "            _end = max(l[0][1], l[1][1])\n",
    "            for r in range(_start,_end+1):\n",
    "                caves[r][DIM] = 1\n",
    "        else:\n",
    "            #Draw left-right\n",
    "            DIM = l[0][1]\n",
    "            _start = min(l[0][0], l[1][0])\n",
    "            _end = max(l[0][0], l[1][0])\n",
    "            for c in range(_start,_end+1):\n",
    "                caves[DIM][c-OFFSET] = 1\n",
    "    \n",
    "    if include_floor:\n",
    "        caves.append([0 for _ in range(len(caves[0]))])  \n",
    "        caves.append([2 for _ in range(len(caves[0]))])           \n",
    "    \n",
    "    return caves, OFFSET"
   ]
  },
  {
   "cell_type": "code",
   "execution_count": 157,
   "id": "1afd4bc1-f979-48db-8103-1634dadc910b",
   "metadata": {},
   "outputs": [],
   "source": [
    "def put_sand():\n",
    "    pos = sand_source\n",
    "    while(True):\n",
    "        s = check_move(pos,1,0)\n",
    "        if s == 1:\n",
    "            pos = (pos[0]+1,pos[1])\n",
    "        elif s == 0:\n",
    "            s = check_move(pos,1,-1)\n",
    "            if s == 1:\n",
    "                pos = (pos[0]+1,pos[1]-1)\n",
    "            elif s == 0:\n",
    "                s = check_move(pos,1,1)\n",
    "                if s == 1:\n",
    "                    pos = (pos[0]+1,pos[1]+1)\n",
    "                elif s == 0:\n",
    "                    if (pos==sand_source):\n",
    "                        return 0\n",
    "                    caves[pos[0]][pos[1]] = 3\n",
    "                    return 1\n",
    "        if s == -1:\n",
    "            return 0"
   ]
  },
  {
   "cell_type": "code",
   "execution_count": 158,
   "id": "45f15fc7-e20f-4248-9829-c675e791e56f",
   "metadata": {},
   "outputs": [],
   "source": [
    "def check_move(pos,r,c):\n",
    "    if ((pos[0]+r) >= len(caves)):\n",
    "        return -1\n",
    "    if not (0 <= pos[1]+c < len(caves[0])):\n",
    "        return -1\n",
    "    if caves[pos[0]+r][pos[1]+c]==0:\n",
    "        return 1\n",
    "    else:\n",
    "        return 0\n",
    "    "
   ]
  },
  {
   "cell_type": "markdown",
   "id": "498672ef-41cb-4253-9e80-7243045ee01b",
   "metadata": {},
   "source": [
    "#### One star"
   ]
  },
  {
   "cell_type": "code",
   "execution_count": 161,
   "id": "341b81ff-a112-44ad-a1fb-e0556b841a15",
   "metadata": {},
   "outputs": [
    {
     "name": "stdout",
     "output_type": "stream",
     "text": [
      "The number of sands: 795\n"
     ]
    }
   ],
   "source": [
    "_lines, _dims = read_and_process_file('input')\n",
    "caves, OFFSET = prepare_cave_map(_lines, _dims)\n",
    "\n",
    "sand_source = (0, 500-OFFSET)\n",
    "caves[sand_source[0]][sand_source[1]] = 5\n",
    "\n",
    "res = 0\n",
    "while(True):\n",
    "    s = put_sand()\n",
    "    if s == 0:\n",
    "        break\n",
    "    res += s\n",
    "print(f\"The number of sands: {res}\")"
   ]
  },
  {
   "cell_type": "markdown",
   "id": "772fc26a-aeaf-4310-ae8e-12ead418d1f8",
   "metadata": {},
   "source": [
    "#### Two stars"
   ]
  },
  {
   "cell_type": "code",
   "execution_count": 162,
   "id": "0023720e-e72d-423d-980f-0fa6d5bcddfc",
   "metadata": {},
   "outputs": [
    {
     "name": "stdout",
     "output_type": "stream",
     "text": [
      "The number of sands: 30214\n"
     ]
    }
   ],
   "source": [
    "_lines, _dims = read_and_process_file('input')\n",
    "caves, OFFSET = prepare_cave_map(_lines, _dims, True)\n",
    "\n",
    "sand_source = (0, 500-OFFSET)\n",
    "caves[sand_source[0]][sand_source[1]] = 5\n",
    "\n",
    "res = 0\n",
    "while(True):\n",
    "    s = put_sand()\n",
    "    if s == 0:\n",
    "        break\n",
    "    res += s\n",
    "res += 1\n",
    "print(f\"The number of sands: {res}\")"
   ]
  },
  {
   "cell_type": "code",
   "execution_count": null,
   "id": "1b249bb7-a8ab-4a51-9705-1d0e53fc8730",
   "metadata": {},
   "outputs": [],
   "source": []
  },
  {
   "cell_type": "code",
   "execution_count": null,
   "id": "14fdfd94-a2b1-4f04-97da-50752174941c",
   "metadata": {},
   "outputs": [],
   "source": []
  }
 ],
 "metadata": {
  "kernelspec": {
   "display_name": "Python 3 (ipykernel)",
   "language": "python",
   "name": "python3"
  },
  "language_info": {
   "codemirror_mode": {
    "name": "ipython",
    "version": 3
   },
   "file_extension": ".py",
   "mimetype": "text/x-python",
   "name": "python",
   "nbconvert_exporter": "python",
   "pygments_lexer": "ipython3",
   "version": "3.9.12"
  }
 },
 "nbformat": 4,
 "nbformat_minor": 5
}
