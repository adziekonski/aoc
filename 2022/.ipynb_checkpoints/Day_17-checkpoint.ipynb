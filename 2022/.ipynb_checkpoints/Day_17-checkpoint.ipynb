{
 "cells": [
  {
   "cell_type": "code",
   "execution_count": 674,
   "id": "4d532baa-95a8-4767-ba65-1089d1d1a10d",
   "metadata": {},
   "outputs": [],
   "source": [
    "from itertools import permutations\n",
    "def read_and_process_file(filename='input'):\n",
    "    file1 = open(f'{filename}_17', 'r')\n",
    "    data = [{\">\":1, \"<\":-1}[c] for c in file1.readlines()[0].replace(\"\\n\",\"\")]\n",
    "    return data"
   ]
  },
  {
   "cell_type": "code",
   "execution_count": 675,
   "id": "5f017541-76c4-41af-b4ab-fad2e823ff57",
   "metadata": {},
   "outputs": [],
   "source": [
    "stones_def = [\n",
    "    [[0,0], [0,1], [0,2], [0,3]],\n",
    "    [[2,1], [1,0], [1,1], [1,2], [0,1]],\n",
    "    [[2,2],[1,2],[0,0],[0,1],[0,2]],\n",
    "    [[3,0],[2,0],[1,0],[0,0]],\n",
    "    [[1,0],[1,1],[0,0],[0,1]]\n",
    "]"
   ]
  },
  {
   "cell_type": "code",
   "execution_count": 676,
   "id": "0c6dde56-995a-4fe3-92f0-ab0ce8553670",
   "metadata": {},
   "outputs": [],
   "source": [
    "def get_stone(structure):\n",
    "    res = [[0 for _ in range(4)] for _ in range(4)]\n",
    "    for s in structure:\n",
    "        res[s[0]][s[1]] = 1\n",
    "    return res"
   ]
  },
  {
   "cell_type": "code",
   "execution_count": 677,
   "id": "76d47bee-e7e0-46bc-b9b7-d718a0fba28f",
   "metadata": {},
   "outputs": [],
   "source": [
    "def print_stone(stone):\n",
    "    for l in stone:\n",
    "        print(\" \".join([str(i) for i in l]))"
   ]
  },
  {
   "cell_type": "code",
   "execution_count": 678,
   "id": "d8a69f5e-0b92-4ea5-a77b-4356a96c08c9",
   "metadata": {},
   "outputs": [],
   "source": [
    "def check_drop(stone, x, y, state, lowest_point):\n",
    "    for s in stone:\n",
    "        new_x = x + s[1]\n",
    "        new_y = y + s[0] - 1 - lowest_point\n",
    "        if new_y <= 0:\n",
    "            return False\n",
    "        if new_y >= len(state):\n",
    "            continue\n",
    "        if state[new_y][new_x]!=0:\n",
    "            return False\n",
    "    return True"
   ]
  },
  {
   "cell_type": "code",
   "execution_count": 679,
   "id": "4b13b566-2c58-4c21-b275-ca68c430fe68",
   "metadata": {},
   "outputs": [],
   "source": [
    "def check_move(stone, x, y, move, state, lowest_point):\n",
    "    for s in stone:\n",
    "        new_x = x + s[1] + move\n",
    "        new_y = y - lowest_point + s[0]\n",
    "        if (new_x<0)|(new_x>=WIDTH):\n",
    "            return False\n",
    "        if new_y >= len(state):\n",
    "            continue\n",
    "        if state[new_y][new_x]!=0:\n",
    "            return False\n",
    "    return True"
   ]
  },
  {
   "cell_type": "code",
   "execution_count": 680,
   "id": "fe5a92f8-e8a3-4669-99bd-257eb263115d",
   "metadata": {},
   "outputs": [],
   "source": [
    "def update_state(stone, x, y, state, lowest_point, val):\n",
    "    for s in stone:\n",
    "        new_x = x + s[1]\n",
    "        new_y = y - lowest_point + s[0]\n",
    "        while(new_y >= len(state)):\n",
    "            state.append([0 for _ in range(WIDTH)])\n",
    "        state[new_y][new_x] = val   \n",
    "\n",
    "    for i in range(len(state)-1, 0, -1):\n",
    "        if all([state[i][j]>0 for j in range(WIDTH)]):\n",
    "            lowest_point += i\n",
    "            state = state[i:]\n",
    "            return state, lowest_point\n",
    "        \n",
    "    return state, lowest_point"
   ]
  },
  {
   "cell_type": "code",
   "execution_count": 755,
   "id": "1c77fa87-95cf-40b5-8dd9-9d0f31ab872d",
   "metadata": {},
   "outputs": [],
   "source": [
    "movements = read_and_process_file('input')\n",
    "stones = {i:get_stone(stones_def[i]) for i in range(len(stones_def))}"
   ]
  },
  {
   "cell_type": "code",
   "execution_count": 756,
   "id": "0d9f165b-bf16-42d5-aef9-388539ae76e1",
   "metadata": {},
   "outputs": [],
   "source": [
    "def calculate_tower_height(limit_rocks):\n",
    "    WIDTH = 7\n",
    "\n",
    "    floor = {k:0 for k in range(WIDTH)}\n",
    "    highest_point = 0\n",
    "    lowest_point = 0\n",
    "    state = [[0 for _ in range(WIDTH)]]\n",
    "    num_of_processed_rocks = 0\n",
    "    num_of_movements = 0\n",
    "    \n",
    "    while(num_of_processed_rocks<limit_rocks):\n",
    "        current_rock = stones_def[num_of_processed_rocks%5]\n",
    "        x = 2\n",
    "        y = highest_point + 4\n",
    "        while(True):\n",
    "            current_movement = movements[num_of_movements%len(movements)]\n",
    "            num_of_movements += 1\n",
    "            if check_move(current_rock, x, y, current_movement, state, lowest_point):\n",
    "                x += current_movement\n",
    "            if check_drop(current_rock, x, y, state, lowest_point):\n",
    "                y -= 1\n",
    "            else:\n",
    "                state, lowest_point = update_state(current_rock, x, y, state, lowest_point, 1)\n",
    "                highest_point = lowest_point + len(state)-1\n",
    "                break\n",
    "        num_of_processed_rocks += 1\n",
    "        _shape = get_floor_shape(state)\n",
    "    return highest_point, state"
   ]
  },
  {
   "cell_type": "code",
   "execution_count": 757,
   "id": "a39c9c69-0287-41eb-af7e-499f7dcae128",
   "metadata": {
    "tags": []
   },
   "outputs": [
    {
     "name": "stdout",
     "output_type": "stream",
     "text": [
      "Current tower height: 3100\n"
     ]
    }
   ],
   "source": [
    "res, state = calculate_tower_height(limit_rocks = 2022)\n",
    "print(f\"Current tower height: {res}\")"
   ]
  },
  {
   "cell_type": "code",
   "execution_count": null,
   "id": "a14dbf05-7099-457d-adca-2c1b61f94047",
   "metadata": {},
   "outputs": [],
   "source": []
  },
  {
   "cell_type": "code",
   "execution_count": null,
   "id": "d929af3a-ceb8-46e0-81c9-b235d83f8d84",
   "metadata": {},
   "outputs": [],
   "source": []
  },
  {
   "cell_type": "code",
   "execution_count": null,
   "id": "37c7f0fe-1320-485c-9c24-fb9e9061d1ca",
   "metadata": {},
   "outputs": [],
   "source": []
  },
  {
   "cell_type": "code",
   "execution_count": null,
   "id": "6e430cd3-d904-4d50-90f1-ca2db0af785d",
   "metadata": {},
   "outputs": [],
   "source": []
  },
  {
   "cell_type": "code",
   "execution_count": 822,
   "id": "a3f7f8d0-9d98-415b-8a29-03f4f5099317",
   "metadata": {},
   "outputs": [],
   "source": [
    "def get_floor_shape(state, current_height):\n",
    "    res = {}\n",
    "    for c in range(len(state[0])):\n",
    "        for i in range(len(state)-1, 0, -1):\n",
    "            if state[i][c]>0:\n",
    "                res[c] = current_height - i   \n",
    "                break\n",
    "                \n",
    "    return \" \".join([str(v) for k,v in res.items()])\n"
   ]
  },
  {
   "cell_type": "code",
   "execution_count": 823,
   "id": "ee3c0958-6588-4418-ba3b-661ef1eb6b8c",
   "metadata": {},
   "outputs": [],
   "source": [
    "def update_state(stone, x, y, state, lowest_point, val):\n",
    "    for s in stone:\n",
    "        new_x = x + s[1]\n",
    "        new_y = y - lowest_point + s[0]\n",
    "        while(new_y >= len(state)):\n",
    "            state.append([0 for _ in range(WIDTH)])\n",
    "        state[new_y][new_x] = val   \n",
    "        \n",
    "    return state, lowest_point"
   ]
  },
  {
   "cell_type": "code",
   "execution_count": 839,
   "id": "aa9cb0b9-bf3a-48bf-bae4-9f0983a94db3",
   "metadata": {},
   "outputs": [],
   "source": [
    "def calculate_tower_height(limit_rocks):\n",
    "    WIDTH = 7\n",
    "\n",
    "    floor = {k:0 for k in range(WIDTH)}\n",
    "    highest_point = 0\n",
    "    lowest_point = 0\n",
    "    state = [[0 for _ in range(WIDTH)]]\n",
    "    num_of_processed_rocks = 0\n",
    "    num_of_movements = 0\n",
    "    cycle = {}\n",
    "    cycle_done = False\n",
    "    additional_height = 0\n",
    "    \n",
    "    while(num_of_processed_rocks<limit_rocks):\n",
    "        current_rock = stones_def[num_of_processed_rocks%5]\n",
    "        x = 2\n",
    "        y = highest_point + 4\n",
    "        while(True):\n",
    "            current_movement = movements[num_of_movements%len(movements)]\n",
    "            num_of_movements += 1\n",
    "            if check_move(current_rock, x, y, current_movement, state, lowest_point):\n",
    "                x += current_movement\n",
    "            if check_drop(current_rock, x, y, state, lowest_point):\n",
    "                y -= 1\n",
    "            else:\n",
    "                state, lowest_point = update_state(current_rock, x, y, state, lowest_point, 1)\n",
    "                highest_point = lowest_point + len(state)-1\n",
    "                break\n",
    "        num_of_processed_rocks += 1\n",
    "        if not cycle_done:\n",
    "            _shape = get_floor_shape(state, highest_point)\n",
    "            cycle_check = (_shape,num_of_processed_rocks%5,num_of_movements%len(movements))\n",
    "            if cycle_check in cycle:\n",
    "                _gain_rocks = num_of_processed_rocks - cycle[cycle_check][0]\n",
    "                _gain_height = highest_point - cycle[cycle_check][1]\n",
    "                number_of_cycles_left = (limit_rocks-num_of_processed_rocks)//_gain_rocks\n",
    "                num_of_processed_rocks += _gain_rocks*number_of_cycles_left\n",
    "                additional_height = number_of_cycles_left*_gain_height\n",
    "                cycle_done = True\n",
    "            else:\n",
    "                cycle[cycle_check] = (num_of_processed_rocks, highest_point)\n",
    "    \n",
    "    return highest_point + additional_height"
   ]
  },
  {
   "cell_type": "code",
   "execution_count": 840,
   "id": "95950734-d3de-4bac-9efe-a2333e100f20",
   "metadata": {},
   "outputs": [
    {
     "name": "stdout",
     "output_type": "stream",
     "text": [
      "Current tower height: 1540634005751\n"
     ]
    }
   ],
   "source": [
    "res = calculate_tower_height(limit_rocks = 1000000000000)\n",
    "print(f\"Current tower height: {res}\")"
   ]
  },
  {
   "cell_type": "code",
   "execution_count": 841,
   "id": "cc00bef4-aaed-4a7a-9261-2bbd9bb602d1",
   "metadata": {},
   "outputs": [],
   "source": [
    "assert res == 1540634005751"
   ]
  },
  {
   "cell_type": "code",
   "execution_count": null,
   "id": "1bca3bc3-5c47-4103-b11d-cefcac72ba7f",
   "metadata": {},
   "outputs": [],
   "source": [
    "#cos nie do konca rozumiem floor - czemu dziala zawsze jak tylko choc jeden kamien jest w kazdej kolumnie?"
   ]
  }
 ],
 "metadata": {
  "kernelspec": {
   "display_name": "Python 3 (ipykernel)",
   "language": "python",
   "name": "python3"
  },
  "language_info": {
   "codemirror_mode": {
    "name": "ipython",
    "version": 3
   },
   "file_extension": ".py",
   "mimetype": "text/x-python",
   "name": "python",
   "nbconvert_exporter": "python",
   "pygments_lexer": "ipython3",
   "version": "3.9.12"
  }
 },
 "nbformat": 4,
 "nbformat_minor": 5
}
