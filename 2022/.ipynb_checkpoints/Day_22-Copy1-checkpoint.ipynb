{
 "cells": [
  {
   "cell_type": "code",
   "execution_count": 5,
   "id": "40e7380b-7363-483d-88b6-73adb9a5094b",
   "metadata": {},
   "outputs": [],
   "source": [
    "import re\n",
    "from collections import defaultdict\n",
    "def read_and_process_file(filename='input'):\n",
    "    file = open(f'{filename}_22', 'r')\n",
    "    lines = [l.rstrip() for l in file.readlines()]\n",
    "    \n",
    "    instructions = lines[-1]\n",
    "    instructions = re.split('(\\d+)',instructions)[:-1]\n",
    "    instructions = [(instructions[i], int(instructions[i+1])) for i in range(0, len(instructions), 2)]\n",
    "        \n",
    "    \n",
    "    num_cols = max(len(x) for x in lines[:-2])\n",
    "    num_rows = len(lines[:-2])\n",
    "    board = [[0 for c in range(num_cols)] for r in range(num_rows)]\n",
    "    \n",
    "    for r in range(num_rows):\n",
    "        for i,c in enumerate(lines[r]):\n",
    "            if c == '.':\n",
    "                board[r][i] = 1\n",
    "            elif c == '#':\n",
    "                board[r][i] = 9\n",
    "                \n",
    "    return board, instructions"
   ]
  },
  {
   "cell_type": "code",
   "execution_count": 6,
   "id": "8dae01eb-eea6-4f11-ae24-272b9f5519c7",
   "metadata": {},
   "outputs": [],
   "source": [
    "turning = {\n",
    "    \"\" : 0,\n",
    "    \"R\": 1,\n",
    "    \"L\": -1\n",
    "}\n",
    "\n",
    "movement = {\n",
    "    0: (0,1),\n",
    "    2: (0,-1),\n",
    "    3: (-1,0),\n",
    "    1: (1,0)\n",
    "}\n",
    "\n",
    "printable = {\n",
    "    0: \">\",\n",
    "    1: \"v\",\n",
    "    2: \"<\",\n",
    "    3: \"ˆ\"\n",
    "}"
   ]
  },
  {
   "cell_type": "code",
   "execution_count": 7,
   "id": "713ef2d1-278b-4e82-b258-a856bfade21b",
   "metadata": {},
   "outputs": [],
   "source": [
    "def get_jump_cells_and_walls(board):\n",
    "    limits = {}\n",
    "    walls = set()\n",
    "    num_rows = len(board)\n",
    "    num_cols = len(board[0])\n",
    "    \n",
    "    for r in range(num_rows):\n",
    "        non_empty_idx = [i for i,v in enumerate(board[r]) if v>0]\n",
    "        limits[(r,min(non_empty_idx)),2] = ((r,max(non_empty_idx)),2)\n",
    "        limits[(r,max(non_empty_idx)),0] = ((r,min(non_empty_idx)),0)\n",
    "        \n",
    "    for c in range(num_cols):\n",
    "        non_empty_idx = [i for i,v in enumerate(board) if v[c]>0]\n",
    "        limits[(min(non_empty_idx), c),3] = ((max(non_empty_idx), c),3)\n",
    "        limits[(max(non_empty_idx), c),1] = ((min(non_empty_idx), c),1)\n",
    "        \n",
    "    for r in range(num_rows):\n",
    "        for c in range(num_cols):\n",
    "            if board[r][c] == 9:\n",
    "                walls.add((r,c))\n",
    "        \n",
    "    return limits, set(walls)\n",
    "\n",
    "def get_start_id(board):\n",
    "    return (0,min([c for c in range(len(board[0])) if board[0][c] == 1]))"
   ]
  },
  {
   "cell_type": "code",
   "execution_count": 8,
   "id": "bd0cd999-8348-49d4-b751-544e8f59eec3",
   "metadata": {},
   "outputs": [],
   "source": [
    "def calculate_result(position, direction):\n",
    "    return 1000*(position[0]+1) + 4*(position[1]+1) + direction"
   ]
  },
  {
   "cell_type": "code",
   "execution_count": 9,
   "id": "a0889932-d88a-47ca-acef-939b8fd7e1ce",
   "metadata": {},
   "outputs": [],
   "source": [
    "def get_position_after_step(position, direction, limits, walls):\n",
    "    _r, _c = position\n",
    "    new_position = None\n",
    "    current_move = movement[direction]\n",
    "\n",
    "    limit_key = (position, direction)\n",
    "    \n",
    "    debug = False\n",
    "    \n",
    "    if debug:    \n",
    "        print(f\"Position: {position} | direction: {direction} | movement: {current_move}\")\n",
    "        print(f\"Key: {limit_key}\")\n",
    "        \n",
    "    #check if jump to another side\n",
    "    if limit_key in limits:\n",
    "        if debug:\n",
    "            print(f'Jump to another side (direction: {direction})')\n",
    "        new_position, new_direction = limits[limit_key]\n",
    "    else:\n",
    "        if debug:    \n",
    "            print(f\"Normal step\")\n",
    "        new_position, new_direction = (_r+current_move[0],_c+current_move[1]), direction\n",
    "     \n",
    "    #if new position is not a stone return it, otherwise do not move\n",
    "    if new_position in walls:\n",
    "        return position, direction, True\n",
    "    else:\n",
    "        return new_position, new_direction, False"
   ]
  },
  {
   "cell_type": "code",
   "execution_count": 10,
   "id": "818871a8-ef2c-48c9-9570-436b6f121a6a",
   "metadata": {},
   "outputs": [],
   "source": [
    "def explore_board(board, instructions, limits, walls):\n",
    "    current_position = get_start_id(board)\n",
    "    current_direction = 0\n",
    "    for current_instruction in instructions:\n",
    "        current_direction = (current_direction + turning[current_instruction[0]])%4\n",
    "        for step in range(current_instruction[1]):\n",
    "            new_position, new_direction, blocked = get_position_after_step(current_position,current_direction, limits, walls)\n",
    "            if blocked:\n",
    "                break\n",
    "            else:\n",
    "                #print(f\"New position: {new_position} | Direction: {current_direction}\")\n",
    "                board[new_position[0]][new_position[1]] = printable[current_direction]\n",
    "            current_position = new_position\n",
    "            current_direction = new_direction\n",
    "\n",
    "    res = calculate_result(current_position, current_direction)\n",
    "    print(f\"Stopped at {(current_position[0]+1, current_position[1]+1)} and the direction is {current_direction}\")\n",
    "    print(f\"The final value after exploring the board is {res}\")\n",
    "    return res"
   ]
  },
  {
   "cell_type": "markdown",
   "id": "1b8e9209-e967-4f2f-8a08-b57c61325ea1",
   "metadata": {},
   "source": [
    "#### One star"
   ]
  },
  {
   "cell_type": "code",
   "execution_count": 11,
   "id": "43e5d837-bb1c-4608-9a7b-6bcc48541637",
   "metadata": {},
   "outputs": [
    {
     "name": "stdout",
     "output_type": "stream",
     "text": [
      "Stopped at (13, 141) and the direction is 2\n",
      "The final value after exploring the board is 13566\n"
     ]
    }
   ],
   "source": [
    "board, instructions = read_and_process_file('input')\n",
    "limits, walls = get_jump_cells_and_walls(board)\n",
    "res = explore_board(board, instructions, limits, walls)"
   ]
  },
  {
   "cell_type": "markdown",
   "id": "6558a28c-83dd-45b7-8412-f263efced2a1",
   "metadata": {},
   "source": [
    "#### Two stars"
   ]
  },
  {
   "cell_type": "code",
   "execution_count": 12,
   "id": "a28f2c54-b718-4d0b-bf68-19574ea3b8be",
   "metadata": {},
   "outputs": [],
   "source": [
    "#Test: 5031"
   ]
  },
  {
   "cell_type": "code",
   "execution_count": 13,
   "id": "9d1ad90f-cf3e-442b-9f07-402d555a6202",
   "metadata": {},
   "outputs": [],
   "source": [
    "def detect_cubes(board, cube_size):\n",
    "    cube_id = 1\n",
    "    cubes = {}\n",
    "    b = board.copy()\n",
    "    current_pos = get_start_id(b)\n",
    "    while len(cubes)<6:\n",
    "        if board[current_pos[0]][current_pos[1]]!=0:\n",
    "            cubes[cube_id] = current_pos\n",
    "            cube_id+=1\n",
    "        while ((current_pos[1])+cube_size < len(board[0])):\n",
    "            new_pos = (current_pos[0],current_pos[1]+cube_size)\n",
    "            if (board[new_pos[0]][new_pos[1]]!=0):\n",
    "                cubes[cube_id] = new_pos\n",
    "                cube_id+=1\n",
    "            current_pos = new_pos\n",
    "        current_pos = (current_pos[0]+cube_size, 0)\n",
    "    return cubes"
   ]
  },
  {
   "cell_type": "code",
   "execution_count": 14,
   "id": "f810d018-c592-434c-8ce5-af6cd47bfd5c",
   "metadata": {},
   "outputs": [],
   "source": [
    "def calculate_cube_neighbors(cubes, cube_size):\n",
    "    neighbors = defaultdict(dict)\n",
    "    for cube_id in range(1,7):\n",
    "        _cur = cubes[cube_id]\n",
    "        for n_id in range(cube_id+1, 7):\n",
    "            _next = cubes[n_id]\n",
    "            if (_cur[0]==_next[0]) and (_cur[1]+cube_size == _next[1]):\n",
    "                neighbors[cube_id][0] = n_id\n",
    "                neighbors[n_id][2] = cube_id\n",
    "\n",
    "            if (_cur[1]==_next[1]) and (_cur[0]+cube_size == _next[0]):\n",
    "                neighbors[cube_id][1] = n_id\n",
    "                neighbors[n_id][3] = cube_id\n",
    "    for _dir in (0,1,2,3):\n",
    "        for _cur in range(1,7):\n",
    "            if _dir in neighbors[_cur]:\n",
    "                # L connections\n",
    "                _joiner = neighbors[_cur][_dir]\n",
    "                _joiner_incoming_dir = [k for k,v in neighbors[_joiner].items() if v==_cur][0]\n",
    "\n",
    "                incoming_shifts = (1,-1)\n",
    "                for _shift in incoming_shifts:\n",
    "                    _joiner_outgoing_dir = (_joiner_incoming_dir+_shift)%4\n",
    "                    if _joiner_outgoing_dir in neighbors[_joiner]:\n",
    "                        _tail = neighbors[_joiner][_joiner_outgoing_dir]\n",
    "                        _tail_incoming_dir = [k for k,v in neighbors[_tail].items() if v==_joiner][0]\n",
    "\n",
    "                        neighbors[_cur][(_dir + (-1)*_shift)%4] = _tail\n",
    "                        neighbors[_tail][(_tail_incoming_dir + _shift)%4] = _cur\n",
    "    return neighbors"
   ]
  },
  {
   "cell_type": "code",
   "execution_count": 44,
   "id": "a0588dd9-7cba-413c-ac56-860c26e84a1d",
   "metadata": {},
   "outputs": [],
   "source": [
    "def get_jump_cells_and_walls_for_a_cube(board, cubes, neighbors, cube_size):\n",
    "    limits = {}\n",
    "    walls = set()\n",
    "    num_rows = len(board)\n",
    "    num_cols = len(board[0])\n",
    "    \n",
    "    cubes_limits = {k:{\"r_s\": v[0], \"r_e\": v[0]+cube_size-1, \"c_s\": v[1], \"c_e\": v[1]+cube_size-1} for k,v in cubes.items()}\n",
    "    all_ranges = {}\n",
    "    for k,v in cubes_limits.items():\n",
    "        all_ranges[k] = {0: [(r,v[\"c_e\"]) for r in range(v[\"r_s\"], v[\"r_e\"]+1)],\n",
    "                  1: [(v[\"r_e\"],c) for c in range(v[\"c_s\"], v[\"c_e\"]+1)],\n",
    "                  2: [(r,v[\"c_s\"]) for r in range(v[\"r_s\"], v[\"r_e\"]+1)],\n",
    "                  3: [(v[\"r_s\"],c) for c in range(v[\"c_s\"], v[\"c_e\"]+1)],\n",
    "                 }\n",
    "    \n",
    "    for cube_id in range(1,7):\n",
    "        for _dir in range(4):\n",
    "            neighbor = neighbors[cube_id][_dir]\n",
    "            neighbor_dir = ([k for k,v in neighbors[neighbor].items() if v==cube_id][0]+2)%4\n",
    "            revert=0\n",
    "            temp = generate_cases(cubes_limits[cube_id], cubes_limits[neighbor], _dir, neighbor_dir, cube_size, revert)\n",
    "            limits.update(temp)\n",
    "            \n",
    "        \n",
    "    for r in range(num_rows):\n",
    "        for c in range(num_cols):\n",
    "            if board[r][c] == 9:\n",
    "                walls.add((r,c))\n",
    "        \n",
    "    return limits, set(walls)"
   ]
  },
  {
   "cell_type": "code",
   "execution_count": 26,
   "id": "b611cf79-a779-451c-9740-32193b2b4b31",
   "metadata": {},
   "outputs": [],
   "source": [
    "def generate_cases(range_current, range_neighbor, dir_current, dir_neighbor, cube_size, revert=0):\n",
    "    limits = {}\n",
    "    diff_dir = (dir_neighbor-dir_current)%4\n",
    "    \n",
    "    iter_current_rows = (dir_current%2 == 0)\n",
    "    current_dim = (range_current[\"c_e\"], range_current[\"r_e\"], range_current[\"c_s\"], range_current[\"r_s\"])[dir_current]\n",
    "    \n",
    "    iter_neighbor_rows = (dir_neighbor%2 == 0)\n",
    "    neighbor_dim = (range_neighbor[\"c_e\"], range_neighbor[\"r_e\"], range_neighbor[\"c_s\"], range_neighbor[\"r_s\"])[(dir_neighbor+2)%4]\n",
    "    \n",
    "    for i in range(cube_size):\n",
    "        if iter_current_rows:\n",
    "            if iter_neighbor_rows:\n",
    "                limits[(range_current[\"r_s\"]+i, current_dim),dir_current] = ((range_neighbor[\"r_s\"]+abs(i-revert), neighbor_dim),dir_neighbor)\n",
    "            else:\n",
    "                limits[(range_current[\"r_s\"]+i, current_dim),dir_current] = ((neighbor_dim,range_neighbor[\"c_s\"]+abs(i-revert)),dir_neighbor)\n",
    "        else:\n",
    "            if iter_neighbor_rows:\n",
    "                limits[(current_dim,range_current[\"c_s\"]),dir_current] = ((range_neighbor[\"r_s\"]+abs(i-revert), neighbor_dim),dir_neighbor)\n",
    "            else:\n",
    "                limits[(current_dim, range_current[\"c_s\"]+i),dir_current] = ((neighbor_dim, range_neighbor[\"c_s\"]+abs(i-revert)),dir_neighbor)\n",
    "    \n",
    "    return limits"
   ]
  },
  {
   "cell_type": "code",
   "execution_count": 27,
   "id": "a4b2e410-a858-45df-9c57-5fd19ca9053b",
   "metadata": {},
   "outputs": [
    {
     "name": "stdout",
     "output_type": "stream",
     "text": [
      "Stopped at (8, 4) and the direction is 2\n",
      "The final value after exploring the board is 8018\n"
     ]
    }
   ],
   "source": [
    "cube_size = 4\n",
    "board, instructions = read_and_process_file('test')\n",
    "cubes = detect_cubes(board, cube_size)\n",
    "neighbors = calculate_cube_neighbors(cubes, cube_size)\n",
    "\n",
    "\n",
    "limits, walls = get_jump_cells_and_walls_for_a_cube(board, cubes, neighbors, cube_size)\n",
    "res = explore_board(board, instructions, limits, walls)"
   ]
  },
  {
   "cell_type": "code",
   "execution_count": 34,
   "id": "de9db83b-c450-486e-816c-766fd276b347",
   "metadata": {},
   "outputs": [],
   "source": [
    "def generate_cases(range_current, range_neighbor, dir_current, dir_neighbor, cube_size, revert=0):\n",
    "    limits = {}\n",
    "    diff_dir = (dir_neighbor-dir_current)%4\n",
    "    \n",
    "    iter_current_rows = (dir_current%2 == 0)\n",
    "    current_dim = (range_current[\"c_e\"], range_current[\"r_e\"], range_current[\"c_s\"], range_current[\"r_s\"])[dir_current]\n",
    "    \n",
    "    iter_neighbor_rows = (dir_neighbor%2 == 0)\n",
    "    neighbor_dim = (range_neighbor[\"c_e\"], range_neighbor[\"r_e\"], range_neighbor[\"c_s\"], range_neighbor[\"r_s\"])[(dir_neighbor+2)%4]\n",
    "    \n",
    "    \n",
    "    for i in range(cube_size):\n",
    "        if iter_current_rows:\n",
    "            if iter_neighbor_rows:\n",
    "                limits[(range_current[\"r_s\"]+i, current_dim),dir_current] = ((range_neighbor[\"r_s\"]+abs(i-revert), neighbor_dim),dir_neighbor)\n",
    "            else:\n",
    "                limits[(range_current[\"r_s\"]+i, current_dim),dir_current] = ((neighbor_dim,range_neighbor[\"c_s\"]+abs(i-revert)),dir_neighbor)\n",
    "        else:\n",
    "            if iter_neighbor_rows:\n",
    "                limits[(current_dim,range_current[\"c_s\"]),dir_current] = ((range_neighbor[\"r_s\"]+abs(i-revert), neighbor_dim),dir_neighbor)\n",
    "            else:\n",
    "                limits[(current_dim, range_current[\"c_s\"]+i),dir_current] = ((neighbor_dim, range_neighbor[\"c_s\"]+abs(i-revert)),dir_neighbor)\n",
    "    \n",
    "    return limits"
   ]
  },
  {
   "cell_type": "code",
   "execution_count": 43,
   "id": "088f1062-c09a-4295-b490-8868cd5aab69",
   "metadata": {},
   "outputs": [],
   "source": []
  },
  {
   "cell_type": "code",
   "execution_count": null,
   "id": "3fe1a360-83c6-4b4c-8678-09efb3f48e3b",
   "metadata": {},
   "outputs": [],
   "source": []
  },
  {
   "cell_type": "code",
   "execution_count": null,
   "id": "a6b6fe53-9d08-42b8-b2aa-08c3d4f87ed7",
   "metadata": {},
   "outputs": [],
   "source": []
  },
  {
   "cell_type": "code",
   "execution_count": null,
   "id": "86dee081-0541-48f9-8216-6145450726e5",
   "metadata": {},
   "outputs": [],
   "source": []
  },
  {
   "cell_type": "code",
   "execution_count": null,
   "id": "47160770-8300-40ae-bf4f-47f7de8d4077",
   "metadata": {},
   "outputs": [],
   "source": []
  },
  {
   "cell_type": "code",
   "execution_count": null,
   "id": "ccdf7e1a-760e-4522-9480-d29939fdcc3b",
   "metadata": {},
   "outputs": [],
   "source": []
  },
  {
   "cell_type": "code",
   "execution_count": null,
   "id": "5fc9be19-0285-4bb4-a2f1-78308922f9d8",
   "metadata": {},
   "outputs": [],
   "source": []
  },
  {
   "cell_type": "code",
   "execution_count": null,
   "id": "ebb08202-c232-4471-8611-9078787b1e3c",
   "metadata": {},
   "outputs": [],
   "source": []
  },
  {
   "cell_type": "code",
   "execution_count": null,
   "id": "752b0f91-69e0-4eb2-aaf0-7e7453dd385a",
   "metadata": {},
   "outputs": [],
   "source": []
  },
  {
   "cell_type": "code",
   "execution_count": null,
   "id": "26b8dc7a-c535-4869-a000-e32387944f87",
   "metadata": {},
   "outputs": [],
   "source": []
  },
  {
   "cell_type": "code",
   "execution_count": null,
   "id": "46a27128-77bb-4406-b3b7-e05a057169aa",
   "metadata": {},
   "outputs": [],
   "source": []
  },
  {
   "cell_type": "code",
   "execution_count": null,
   "id": "12529f85-852f-49c8-8e0d-fa1c2d49040a",
   "metadata": {},
   "outputs": [],
   "source": []
  },
  {
   "cell_type": "code",
   "execution_count": 731,
   "id": "83f03cd4-feaf-4b53-9cf4-a06c369ec39b",
   "metadata": {},
   "outputs": [
    {
     "data": {
      "text/plain": [
       "defaultdict(dict,\n",
       "            {1: {1: (4, 0)},\n",
       "             4: {3: (1, 0), 2: (3, 0), 1: (5, 0)},\n",
       "             2: {0: (3, 0)},\n",
       "             3: {2: (2, 0), 0: (4, 0)},\n",
       "             5: {3: (4, 0), 0: (6, 0)},\n",
       "             6: {2: (5, 0)}})"
      ]
     },
     "execution_count": 731,
     "metadata": {},
     "output_type": "execute_result"
    }
   ],
   "source": [
    "neighbors"
   ]
  },
  {
   "cell_type": "code",
   "execution_count": 732,
   "id": "35a4ed92-3476-4785-afca-bbb4b216a6c7",
   "metadata": {},
   "outputs": [
    {
     "name": "stdout",
     "output_type": "stream",
     "text": [
      "\n",
      "(2, 1)\n",
      "3 - 5   [4] - 2 1\n",
      "{3: (1, 0), 2: (3, 0), 1: (5, 0)}\n",
      "\n",
      "(2, 3)\n",
      "3 - 1   [4] - 2 3\n",
      "{3: (1, 0), 2: (3, 0), 1: (5, 0)}\n",
      "\n",
      "(0, 3)\n",
      "6 - 4   [5] - 0 3\n",
      "{3: (1, 0), 2: (3, 0), 1: (5, 0), 0: (6, 999)}\n",
      "\n",
      "(2, 3)\n",
      "3 - 4   [5] - 2 3\n",
      "{3: (1, 0), 2: (3, 999), 1: (5, 0), 0: (6, 999)}\n",
      "\n",
      "(2, 3)\n",
      "5 - 4   [6] - 2 3\n",
      "{3: (1, 0), 2: (5, 999), 1: (5, 0), 0: (6, 999)}\n"
     ]
    }
   ],
   "source": [
    "new = []\n",
    "\n",
    "for c_id in range(1,7):\n",
    "    for option in [(0,1), (0,3), (2,1), (2,3)]:\n",
    "        #Check L conections\n",
    "        n = neighbors[c_id]\n",
    "        if all([(o in n.keys()) for o in option]):\n",
    "            print()\n",
    "            print(option)\n",
    "            n_1 = n[option[0]][0]\n",
    "            n_2 = n[option[1]][0]\n",
    "            d_1 = option[0]\n",
    "            d_2 = option[1]\n",
    "            print(f\"{n_1} - {n_2}   [{c_id}] - {d_1} {d_2}\")\n",
    "            neighbors[n_1][d_2] = (n_2,999)\n",
    "            neighbors[n_2][d_1] = (n_1,999)\n",
    "            print(neighbors[4])"
   ]
  },
  {
   "cell_type": "code",
   "execution_count": 726,
   "id": "aa858b31-a1c3-4958-87ee-ed73896b3980",
   "metadata": {},
   "outputs": [
    {
     "data": {
      "text/plain": [
       "defaultdict(dict,\n",
       "            {1: {1: (4, 0), 2: (3, 999)},\n",
       "             4: {3: (1, 0), 2: (5, 999), 1: (5, 0), 0: (6, 999)},\n",
       "             2: {0: (3, 0)},\n",
       "             3: {2: (2, 0), 0: (4, 0), 1: (5, 999), 3: (4, 999)},\n",
       "             5: {3: (4, 999), 0: (6, 0), 2: (3, 999)},\n",
       "             6: {2: (5, 0), 3: (4, 999)}})"
      ]
     },
     "execution_count": 726,
     "metadata": {},
     "output_type": "execute_result"
    }
   ],
   "source": [
    "neighbors"
   ]
  },
  {
   "cell_type": "code",
   "execution_count": null,
   "id": "0d210965-9fca-465c-b9b9-26097911a4d1",
   "metadata": {},
   "outputs": [],
   "source": [
    "left/right -> up/down -> reverse(xxx)\n",
    "up/down -> up/down -> up/down -> common left and common right\n",
    "left-right -> left/right -> left/right -> common up and common down"
   ]
  },
  {
   "cell_type": "code",
   "execution_count": null,
   "id": "9222e7e9-a96e-4f96-b7e7-1976554778f6",
   "metadata": {},
   "outputs": [],
   "source": []
  },
  {
   "cell_type": "code",
   "execution_count": null,
   "id": "27f3fc32-1081-4bf7-9f10-2c7a575974f6",
   "metadata": {},
   "outputs": [],
   "source": [
    "new = []\n",
    "triple_neighbors = defaultdict(dict)\n",
    "\n",
    "#triple connections\n",
    "for c_id, n in neighbors.items():\n",
    "    if len()\n",
    "    for option in [(0,1), (0,3), (2,1), (2,3)]:\n",
    "        if all([(o in n.keys()) for o in option]):\n",
    "            print()\n",
    "            print(option)\n",
    "            n_1 = n[option[0]][0]\n",
    "            n_2 = n[option[1]][0]\n",
    "            d_1 = option[0]\n",
    "            d_2 = option[1]\n",
    "            print(f\"n1: {n_1} n2: {n_2} d1: {d_1} d2:{d_2}\")\n",
    "            \n",
    "            cross_neighbors[n_1][d_2] = (n_2,999)\n",
    "            cross_neighbors[n_2][d_1] = (n_1,999)\n",
    "            \n",
    "            #cross_neighbors[n[option[0]][0]][n[option[1]][0]] = (n[option[1]][0], 999)\n",
    "            #cross_neighbors[n[option[1]][0]][n[option[0]][0]] = (n[option[0]][0], 999)"
   ]
  },
  {
   "cell_type": "code",
   "execution_count": null,
   "id": "8a7a67b1-d4c5-4b80-87a7-1f95cf07af71",
   "metadata": {},
   "outputs": [],
   "source": []
  },
  {
   "cell_type": "code",
   "execution_count": null,
   "id": "a0db63a2-0b0c-4130-bf60-8c53d0afd89e",
   "metadata": {},
   "outputs": [],
   "source": []
  },
  {
   "cell_type": "code",
   "execution_count": null,
   "id": "bb65540f-574a-487a-98ff-b41e0553cc10",
   "metadata": {},
   "outputs": [],
   "source": []
  },
  {
   "cell_type": "code",
   "execution_count": null,
   "id": "e0e9999d-9aae-4d3e-8e88-28c5b4b74a4e",
   "metadata": {},
   "outputs": [],
   "source": []
  },
  {
   "cell_type": "code",
   "execution_count": null,
   "id": "2980b613-8811-4d12-87ea-2c15e530cbb8",
   "metadata": {},
   "outputs": [],
   "source": []
  },
  {
   "cell_type": "code",
   "execution_count": null,
   "id": "f873bd19-a9a4-4431-a48c-3d6117e9c901",
   "metadata": {},
   "outputs": [],
   "source": [
    "new = []\n",
    "cross_neighbors = defaultdict(dict)\n",
    "\n",
    "#L connections expand\n",
    "for c_id, n in neighbors.items():\n",
    "    for option in [(0,1), (0,3), (2,1), (2,3)]:\n",
    "        if all([(o in n.keys()) for o in option]):\n",
    "            print()\n",
    "            print(option)\n",
    "            n_1 = n[option[0]][0]\n",
    "            n_2 = n[option[1]][0]\n",
    "            d_1 = option[0]\n",
    "            d_2 = option[1]\n",
    "            print(f\"n1: {n_1} n2: {n_2} d1: {d_1} d2:{d_2}\")\n",
    "            \n",
    "            cross_neighbors[n_1][d_2] = (n_2,999)\n",
    "            cross_neighbors[n_2][d_1] = (n_1,999)\n",
    "            \n",
    "            #cross_neighbors[n[option[0]][0]][n[option[1]][0]] = (n[option[1]][0], 999)\n",
    "            #cross_neighbors[n[option[1]][0]][n[option[0]][0]] = (n[option[0]][0], 999)"
   ]
  }
 ],
 "metadata": {
  "kernelspec": {
   "display_name": "Python 3 (ipykernel)",
   "language": "python",
   "name": "python3"
  },
  "language_info": {
   "codemirror_mode": {
    "name": "ipython",
    "version": 3
   },
   "file_extension": ".py",
   "mimetype": "text/x-python",
   "name": "python",
   "nbconvert_exporter": "python",
   "pygments_lexer": "ipython3",
   "version": "3.9.12"
  }
 },
 "nbformat": 4,
 "nbformat_minor": 5
}
