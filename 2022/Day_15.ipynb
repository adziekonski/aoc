{
 "cells": [
  {
   "cell_type": "code",
   "execution_count": 1,
   "id": "4af74c80-71b9-4933-b503-b35a2c79ce15",
   "metadata": {},
   "outputs": [],
   "source": [
    "def read_and_process_file(filename='input'):\n",
    "    file1 = open(f'{filename}_15', 'r')\n",
    "    Lines = [l.rstrip() for l in file1.readlines()]\n",
    "    res = []\n",
    "    for l in Lines:\n",
    "        _sensor, _beacon = l.split(\": \")\n",
    "        _sensor = [int(v) for v in _sensor.replace(\"Sensor at x=\",\"\").replace(\"y=\", \"\").split(\", \")]\n",
    "        _beacon = [int(v) for v in _beacon.replace(\"closest beacon is at x=\",\"\").replace(\"y=\", \"\").split(\", \")]\n",
    "        res.append((_sensor,_beacon))\n",
    "    return res"
   ]
  },
  {
   "cell_type": "code",
   "execution_count": null,
   "id": "f45266a2-dba7-4f24-9124-11d6e6d690c9",
   "metadata": {},
   "outputs": [],
   "source": []
  },
  {
   "cell_type": "markdown",
   "id": "b079e4a6-e180-41c8-bf1c-7575ffc86cd5",
   "metadata": {},
   "source": [
    "#### One star"
   ]
  },
  {
   "cell_type": "code",
   "execution_count": 2,
   "id": "a2fb0799-47f5-455a-add6-da90ea88cd0d",
   "metadata": {},
   "outputs": [],
   "source": [
    "def find_unavailable_spots(dataset='input', row=2000000):\n",
    "    selected_row = row\n",
    "    positions = []\n",
    "    beacons = []\n",
    "    data = read_and_process_file(dataset)\n",
    "\n",
    "    for s in data:\n",
    "        if s[1][1]==selected_row:\n",
    "            beacons.append(s[1][0])\n",
    "        sensor_range = abs(s[0][0]-s[1][0])+abs(s[0][1]-s[1][1])\n",
    "        distance_to_row = abs(s[0][1]-selected_row)\n",
    "        if distance_to_row>sensor_range:\n",
    "            #print(f\"Sensor doesn't reach row {selected_row}\")\n",
    "            pass\n",
    "        else:\n",
    "            row_range = sensor_range - distance_to_row\n",
    "            for i in range(row_range+1):\n",
    "                #print(f\"Adding {i} for {s}\")\n",
    "                positions.append(s[0][0]+i)\n",
    "                positions.append(s[0][0]-i)            \n",
    "\n",
    "    res = list(set(positions) - set(beacons))\n",
    "    print(f\"Number of positions in row {selected_row} that beacon cannot be present is: {len(res)}\")\n",
    "    return res"
   ]
  },
  {
   "cell_type": "code",
   "execution_count": 8,
   "id": "16f90278-ca38-4265-a1e6-cea0e1b31e71",
   "metadata": {},
   "outputs": [
    {
     "name": "stdout",
     "output_type": "stream",
     "text": [
      "Number of positions in row 10 that beacon cannot be present is: 26\n"
     ]
    }
   ],
   "source": [
    "x = find_unavailable_spots('test',10)"
   ]
  },
  {
   "cell_type": "markdown",
   "id": "79f06e83-4c0d-4216-9fed-1949a00a6843",
   "metadata": {},
   "source": [
    "#### Two stars"
   ]
  },
  {
   "cell_type": "code",
   "execution_count": 4,
   "id": "e7f5f8bf-fac4-4c4b-a552-504ab24738d8",
   "metadata": {},
   "outputs": [],
   "source": [
    "def tuning_freq(x,y):\n",
    "    return x*4000000 + y"
   ]
  },
  {
   "cell_type": "code",
   "execution_count": 5,
   "id": "136332d6-2970-4659-86de-18a8d883d8ef",
   "metadata": {},
   "outputs": [],
   "source": [
    "def merge(intervals):\n",
    "    intervals.sort(key=lambda x: x[0])\n",
    "    merged = []\n",
    "    for interval in intervals:\n",
    "        if not merged or merged[-1][1] < interval[0]:\n",
    "            merged.append(interval)\n",
    "        else:\n",
    "            merged[-1][1] = max(merged[-1][1], interval[1])\n",
    "    return merged"
   ]
  },
  {
   "cell_type": "code",
   "execution_count": 6,
   "id": "0ea9dce7-8859-4d5f-9bba-93c9f4b4e2f5",
   "metadata": {},
   "outputs": [],
   "source": [
    "from collections import defaultdict\n",
    "def find_distress_beacon(dataset='input', search_range = 4000000):\n",
    "    data = read_and_process_file(dataset)\n",
    "    \n",
    "    busy_ranges = defaultdict(list)\n",
    "    for s in data:\n",
    "        sensor_range = abs(s[0][0]-s[1][0])+abs(s[0][1]-s[1][1])\n",
    "        for r in range(sensor_range+1):\n",
    "            c = sensor_range-r\n",
    "            _low = s[0][0]-r\n",
    "            _high = s[0][0]+r\n",
    "            if _low>=0:\n",
    "                busy_ranges[_low].append([max(s[0][1]-c,0),min(s[0][1]+c, search_range)+1])\n",
    "            if _high<=search_range:\n",
    "                busy_ranges[_high].append([max(s[0][1]-c,0),min(s[0][1]+c, search_range)+1])\n",
    "    \n",
    "    for _row, _ranges in busy_ranges.items():\n",
    "        _ranges = merge(_ranges)\n",
    "        if len(_ranges)>1:\n",
    "            _col = _ranges[0][1]\n",
    "            print(f\"The distress beacon is at: {_row} - {_col}. Tuning frequency: {tuning_freq(_row, _col)}\")\n",
    "            return"
   ]
  },
  {
   "cell_type": "code",
   "execution_count": 7,
   "id": "12b1fc87-d5c5-471a-9964-fb4a3c87bde0",
   "metadata": {},
   "outputs": [
    {
     "name": "stdout",
     "output_type": "stream",
     "text": [
      "The distress beacon is at: 3335216 - 3187704. Tuning frequency: 13340867187704\n"
     ]
    }
   ],
   "source": [
    "find_distress_beacon(dataset='input', search_range = 4000000)"
   ]
  },
  {
   "cell_type": "code",
   "execution_count": null,
   "id": "f9899e0a-718e-4a48-9033-3fa10bc24111",
   "metadata": {},
   "outputs": [],
   "source": []
  },
  {
   "cell_type": "code",
   "execution_count": null,
   "id": "e0466c4b-fddd-469d-a466-956970dafe63",
   "metadata": {},
   "outputs": [],
   "source": []
  }
 ],
 "metadata": {
  "kernelspec": {
   "display_name": "Python 3 (ipykernel)",
   "language": "python",
   "name": "python3"
  },
  "language_info": {
   "codemirror_mode": {
    "name": "ipython",
    "version": 3
   },
   "file_extension": ".py",
   "mimetype": "text/x-python",
   "name": "python",
   "nbconvert_exporter": "python",
   "pygments_lexer": "ipython3",
   "version": "3.9.12"
  }
 },
 "nbformat": 4,
 "nbformat_minor": 5
}
