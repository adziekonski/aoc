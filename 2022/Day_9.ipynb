{
 "cells": [
  {
   "cell_type": "code",
   "execution_count": 50,
   "id": "ecb4b93a-5fd6-4a29-b19c-2ab39b3577ed",
   "metadata": {},
   "outputs": [],
   "source": [
    "import itertools\n",
    "def read_and_process_file():\n",
    "    file1 = open('input_9', 'r')\n",
    "    text = [l.rstrip().split(\" \") for l in file1.readlines()]\n",
    "    text = [[x[0],int(x[1])] for x in text]\n",
    "    return text"
   ]
  },
  {
   "cell_type": "code",
   "execution_count": 51,
   "id": "0fb2100e-0efe-4292-95a8-525c8aff26d6",
   "metadata": {},
   "outputs": [],
   "source": [
    "text = read_and_process_file()"
   ]
  },
  {
   "cell_type": "code",
   "execution_count": null,
   "id": "6891b098-d0bc-41ef-83a9-91f501ee15bf",
   "metadata": {},
   "outputs": [],
   "source": []
  },
  {
   "cell_type": "code",
   "execution_count": null,
   "id": "05c9d76b-d498-4a75-a4f7-9b92ff6fcb70",
   "metadata": {},
   "outputs": [],
   "source": []
  },
  {
   "cell_type": "code",
   "execution_count": 52,
   "id": "70bb20d4-dc79-4ec9-aaac-f527c1f9b722",
   "metadata": {},
   "outputs": [],
   "source": [
    "movement = {\"R\": [1, 0],\n",
    "            \"L\": [-1, 0],\n",
    "            \"U\": [0, 1],\n",
    "            \"D\": [0, -1]}"
   ]
  },
  {
   "cell_type": "code",
   "execution_count": 46,
   "id": "4c35c9b6-87bd-42fd-88be-de688bf24681",
   "metadata": {},
   "outputs": [],
   "source": [
    "text = [['R', 4],\n",
    "        ['U', 4],\n",
    "        ['L', 3],\n",
    "        ['D', 1],\n",
    "        ['R', 4],\n",
    "        ['D', 1],\n",
    "        ['L', 5],\n",
    "        ['R', 2]]"
   ]
  },
  {
   "cell_type": "code",
   "execution_count": null,
   "id": "34a1b022-7e4f-41e4-b479-4d78d51f4000",
   "metadata": {},
   "outputs": [],
   "source": [
    "H:\n",
    "    R: x+\n",
    "    L: x-\n",
    "    U: y+\n",
    "    D: y-\n",
    "    \n",
    "T:\n",
    "    x==Hx and abs(y-Hy)==2: if y>Hy: y-- else y++\n",
    "    y==Hy and abs(x-Hx)==2: if x>Hx: x-- else x++\n",
    "    x!=Hx and y!=Hy and ((abs(x-Hx)>1) OR (abs(y-Hy)>1)):   x+-1 y+-1\n",
    "    \n",
    "    "
   ]
  },
  {
   "cell_type": "code",
   "execution_count": 53,
   "id": "0953e4d9-733a-4a41-8c0c-3bf01e4358b0",
   "metadata": {},
   "outputs": [],
   "source": [
    "visited_positions = [[0,0]]\n",
    "H_x, H_y, T_x, T_y = 0,0,0,0\n",
    "for move_dir, move_num in text:\n",
    "    for i in range(move_num):\n",
    "        H_x += movement[move_dir][0]\n",
    "        H_y += movement[move_dir][1]\n",
    "\n",
    "        #Move up or down\n",
    "        if (T_x == H_x) and (abs(T_y-H_y)==2):\n",
    "            if T_y > H_y:\n",
    "                T_y -= 1\n",
    "            else:\n",
    "                T_y += 1\n",
    "            visited_positions.append([T_x, T_y])\n",
    "        \n",
    "        #Move left or right\n",
    "        if (T_y == H_y) and (abs(T_x-H_x)==2):\n",
    "            if T_x > H_x:\n",
    "                T_x -= 1\n",
    "            else:\n",
    "                T_x += 1\n",
    "            visited_positions.append([T_x, T_y])\n",
    "            \n",
    "        #Move diagonal\n",
    "        if (T_x!=H_x) and (T_y!=H_y) and ((abs(T_x-H_x)+abs(T_y-H_y))>2):\n",
    "            if T_x > H_x:\n",
    "                T_x -=1\n",
    "            else:\n",
    "                T_x +=1\n",
    "            if T_y > H_y:\n",
    "                T_y -=1\n",
    "            else:\n",
    "                T_y +=1  \n",
    "            visited_positions.append([T_x, T_y])\n",
    "        \n",
    "        #print(f'Head: {H_x} - {H_y}')\n",
    "        #print(f'Tail: {T_x} - {T_y}')\n",
    "        #print('\\n')"
   ]
  },
  {
   "cell_type": "code",
   "execution_count": 54,
   "id": "f57f3c4c-3b70-46bd-b1ed-0349b5f7c886",
   "metadata": {},
   "outputs": [
    {
     "data": {
      "text/plain": [
       "6332"
      ]
     },
     "execution_count": 54,
     "metadata": {},
     "output_type": "execute_result"
    }
   ],
   "source": [
    "visited_positions.sort()\n",
    "len(list(k for k,_ in itertools.groupby(visited_positions)))"
   ]
  },
  {
   "cell_type": "code",
   "execution_count": null,
   "id": "6e3631e9-cc23-454f-a243-5755cff36577",
   "metadata": {},
   "outputs": [],
   "source": []
  },
  {
   "cell_type": "code",
   "execution_count": null,
   "id": "6998a181-f8fe-499a-b891-e1a9ac1b25ae",
   "metadata": {},
   "outputs": [],
   "source": []
  },
  {
   "cell_type": "code",
   "execution_count": null,
   "id": "27dc8473-867c-4d6e-bfdd-5408be2c779a",
   "metadata": {},
   "outputs": [],
   "source": []
  },
  {
   "cell_type": "code",
   "execution_count": 84,
   "id": "8f341287-5a9b-4a5f-87e4-1f18862c7873",
   "metadata": {},
   "outputs": [],
   "source": [
    "NUM_KNOTS = 10\n",
    "knots = {k:[0,0] for k in range(NUM_KNOTS)}\n",
    "visited_positions = [[0,0]]"
   ]
  },
  {
   "cell_type": "code",
   "execution_count": 85,
   "id": "de9aa400-5241-482d-bf56-2f35fe389944",
   "metadata": {},
   "outputs": [],
   "source": [
    "for move_dir, move_num in text:\n",
    "    for i in range(move_num):\n",
    "        knots[0][0] += movement[move_dir][0]\n",
    "        knots[0][1] += movement[move_dir][1]\n",
    "        \n",
    "        H_x = knots[0][0]\n",
    "        H_y = knots[0][1]\n",
    "        for knot in range(1,NUM_KNOTS):\n",
    "            T_x = knots[knot][0]\n",
    "            T_y = knots[knot][1]\n",
    "\n",
    "            #Move up or down\n",
    "            if (T_x == H_x) and (abs(T_y-H_y)==2):\n",
    "                if T_y > H_y:\n",
    "                    knots[knot][1] -= 1\n",
    "                else:\n",
    "                    knots[knot][1] += 1\n",
    "\n",
    "            #Move left or right\n",
    "            if (T_y == H_y) and (abs(T_x-H_x)==2):\n",
    "                if T_x > H_x:\n",
    "                    knots[knot][0] -= 1\n",
    "                else:\n",
    "                    knots[knot][0] += 1\n",
    "\n",
    "            #Move diagonal\n",
    "            if (T_x!=H_x) and (T_y!=H_y) and ((abs(T_x-H_x)+abs(T_y-H_y))>2):\n",
    "                if T_x > H_x:\n",
    "                    knots[knot][0] -=1\n",
    "                else:\n",
    "                    knots[knot][0] +=1\n",
    "                if T_y > H_y:\n",
    "                    knots[knot][1] -=1\n",
    "                else:\n",
    "                    knots[knot][1] +=1  \n",
    "                    \n",
    "            H_x = knots[knot][0]\n",
    "            H_y = knots[knot][1]\n",
    "        visited_positions.append([knots[NUM_KNOTS-1][0],knots[NUM_KNOTS-1][1]])\n",
    "        \n",
    "        #print(f'Head: {H_x} - {H_y}')\n",
    "        #print(f'Tail: {T_x} - {T_y}')\n",
    "        #print('\\n')"
   ]
  },
  {
   "cell_type": "code",
   "execution_count": 86,
   "id": "c4540da2-7eb3-4375-9ac0-381032a9efa5",
   "metadata": {},
   "outputs": [
    {
     "data": {
      "text/plain": [
       "2511"
      ]
     },
     "execution_count": 86,
     "metadata": {},
     "output_type": "execute_result"
    }
   ],
   "source": [
    "visited_positions.sort()\n",
    "len(list(k for k,_ in itertools.groupby(visited_positions)))"
   ]
  },
  {
   "cell_type": "code",
   "execution_count": null,
   "id": "4f35ba07-f751-4187-8670-1d41544407c9",
   "metadata": {},
   "outputs": [],
   "source": [
    "|"
   ]
  }
 ],
 "metadata": {
  "kernelspec": {
   "display_name": "Python 3 (ipykernel)",
   "language": "python",
   "name": "python3"
  },
  "language_info": {
   "codemirror_mode": {
    "name": "ipython",
    "version": 3
   },
   "file_extension": ".py",
   "mimetype": "text/x-python",
   "name": "python",
   "nbconvert_exporter": "python",
   "pygments_lexer": "ipython3",
   "version": "3.9.12"
  }
 },
 "nbformat": 4,
 "nbformat_minor": 5
}
