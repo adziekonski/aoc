{
 "cells": [
  {
   "cell_type": "code",
   "execution_count": 37,
   "id": "f98a39c2-eb16-42a8-b59a-ca47d44c0714",
   "metadata": {},
   "outputs": [],
   "source": [
    "file1 = open('input_2', 'r')\n",
    "Lines = file1.readlines()\n",
    "\n",
    "games = []\n",
    "for line in Lines:\n",
    "    games.append(\"\".join([c.replace(\"\\n\", \"\") for c in line.split(\" \")]))"
   ]
  },
  {
   "cell_type": "markdown",
   "id": "8b2fdf02-bae2-4ed6-adb2-4679dd511da8",
   "metadata": {},
   "source": [
    "#### One star"
   ]
  },
  {
   "cell_type": "code",
   "execution_count": 38,
   "id": "add7ba53-b72a-4108-9a66-dca5bbba95a7",
   "metadata": {},
   "outputs": [],
   "source": [
    "played = {\"X\": 1, \"Y\": 2, \"Z\": 3}\n",
    "result = {\"AX\": 3,\n",
    "         \"BX\": 0,\n",
    "         \"CX\": 6,\n",
    "         \"AY\": 6,\n",
    "         \"BY\": 3,\n",
    "         \"CY\": 0,\n",
    "         \"AZ\": 0,\n",
    "         \"BZ\": 6,\n",
    "         \"CZ\": 3}"
   ]
  },
  {
   "cell_type": "code",
   "execution_count": 39,
   "id": "8bc08e6c-babd-412a-84d0-ecae154a9504",
   "metadata": {},
   "outputs": [],
   "source": [
    "def get_final_results(games):\n",
    "    games_1 = [[g, g[1]] for g in games]\n",
    "    results = [result[g[0]]+played[g[1]] for g in games_1]\n",
    "    return sum(results)"
   ]
  },
  {
   "cell_type": "code",
   "execution_count": 40,
   "id": "27822d08-ffec-4cd1-be3e-1eb2f5b14d35",
   "metadata": {},
   "outputs": [
    {
     "data": {
      "text/plain": [
       "12855"
      ]
     },
     "execution_count": 40,
     "metadata": {},
     "output_type": "execute_result"
    }
   ],
   "source": [
    "get_final_results(games)"
   ]
  },
  {
   "cell_type": "markdown",
   "id": "befd0134-ab4c-476a-b33a-ba0ed84b2a7c",
   "metadata": {},
   "source": [
    "#### Two stars"
   ]
  },
  {
   "cell_type": "code",
   "execution_count": 45,
   "id": "c7f2e2ba-876f-4292-bb53-59ebfa78a9f7",
   "metadata": {},
   "outputs": [],
   "source": [
    "what_to_play = {\"AX\": \"AZ\",\n",
    "         \"BX\": \"BX\",\n",
    "         \"CX\": \"CY\",\n",
    "         \"AY\": \"AX\",\n",
    "         \"BY\": \"BY\",\n",
    "         \"CY\": \"CZ\",\n",
    "         \"AZ\": \"AY\",\n",
    "         \"BZ\": \"BZ\",\n",
    "         \"CZ\": \"CX\",}"
   ]
  },
  {
   "cell_type": "code",
   "execution_count": 46,
   "id": "61450247-9b14-4021-a001-2024ec4bb8a0",
   "metadata": {},
   "outputs": [
    {
     "data": {
      "text/plain": [
       "13726"
      ]
     },
     "execution_count": 46,
     "metadata": {},
     "output_type": "execute_result"
    }
   ],
   "source": [
    "def get_new_strategy(games):\n",
    "    games_1 = [[g, g[1]] for g in games]\n",
    "    results = [result[g[0]]+played[g[1]] for g in games_1]\n",
    "    return [what_to_play[g] for g in games]\n",
    "new_games = get_new_strategy(games)\n",
    "get_final_results(new_games)"
   ]
  },
  {
   "cell_type": "code",
   "execution_count": 47,
   "id": "30f39778-6241-4111-ab04-3666d3144aaf",
   "metadata": {},
   "outputs": [
    {
     "data": {
      "text/plain": [
       "['AZ', 'AZ', 'CY', 'AX', 'AX', 'AZ', 'CX', 'AX', 'CY', 'AZ']"
      ]
     },
     "execution_count": 47,
     "metadata": {},
     "output_type": "execute_result"
    }
   ],
   "source": [
    "games[0:10]"
   ]
  },
  {
   "cell_type": "code",
   "execution_count": 48,
   "id": "790171f0-95b7-4e51-801d-4998695bf6db",
   "metadata": {},
   "outputs": [
    {
     "data": {
      "text/plain": [
       "['AY', 'AY', 'CZ', 'AZ', 'AZ', 'AY', 'CY', 'AZ', 'CZ', 'AY']"
      ]
     },
     "execution_count": 48,
     "metadata": {},
     "output_type": "execute_result"
    }
   ],
   "source": [
    "new_games[0:10]"
   ]
  },
  {
   "cell_type": "code",
   "execution_count": null,
   "id": "7cff324d-3aad-4b2a-99e4-01dbed79d867",
   "metadata": {},
   "outputs": [],
   "source": [
    "rock - paper\n",
    "paper - scissors\n",
    "scissors - rock"
   ]
  }
 ],
 "metadata": {
  "kernelspec": {
   "display_name": "Python 3 (ipykernel)",
   "language": "python",
   "name": "python3"
  },
  "language_info": {
   "codemirror_mode": {
    "name": "ipython",
    "version": 3
   },
   "file_extension": ".py",
   "mimetype": "text/x-python",
   "name": "python",
   "nbconvert_exporter": "python",
   "pygments_lexer": "ipython3",
   "version": "3.9.12"
  }
 },
 "nbformat": 4,
 "nbformat_minor": 5
}
