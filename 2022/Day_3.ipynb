{
 "cells": [
  {
   "cell_type": "markdown",
   "id": "849ed987-4a29-46d9-9afc-ae23ed9a4f73",
   "metadata": {},
   "source": [
    "#### One star"
   ]
  },
  {
   "cell_type": "code",
   "execution_count": 41,
   "id": "d3eadf5d-5a92-4ff5-9794-1ed0cd47e5ec",
   "metadata": {},
   "outputs": [
    {
     "data": {
      "text/plain": [
       "8233"
      ]
     },
     "execution_count": 41,
     "metadata": {},
     "output_type": "execute_result"
    }
   ],
   "source": [
    "file1 = open('input_3', 'r')\n",
    "Lines = file1.readlines()\n",
    "\n",
    "def get_priority(x):\n",
    "    x = list(x)[0]\n",
    "    if x.lower()==x:\n",
    "        return ord(x)-96\n",
    "    else:\n",
    "        return ord(x)-38\n",
    "\n",
    "backpacks = []\n",
    "for line in Lines:\n",
    "    midpoint = (len(line)-1)//2\n",
    "    backpacks.append(get_priority(set(line[:midpoint]).intersection(set(line[midpoint:-1]))))\n",
    "    \n",
    "sum(backpacks)"
   ]
  },
  {
   "cell_type": "markdown",
   "id": "00ec818c-81f3-4bd5-a2aa-f899de6f59f8",
   "metadata": {},
   "source": [
    "#### Two stars"
   ]
  },
  {
   "cell_type": "code",
   "execution_count": 67,
   "id": "893510a6-f96f-4f3a-b137-7e441b8671a5",
   "metadata": {},
   "outputs": [
    {
     "data": {
      "text/plain": [
       "2821"
      ]
     },
     "execution_count": 67,
     "metadata": {},
     "output_type": "execute_result"
    }
   ],
   "source": [
    "group = []\n",
    "counter = 0\n",
    "res = 0\n",
    "for line in Lines:\n",
    "    line = line.replace(\"\\n\", \"\")\n",
    "    if counter <= 2:\n",
    "        group.append(line)\n",
    "        counter+=1\n",
    "    else:\n",
    "        counter = 1\n",
    "        common = set(group[0]).intersection(set(group[1])).intersection(set(group[2]))\n",
    "        res += get_priority(common)\n",
    "        group = [line]\n",
    "common = set(group[0]).intersection(set(group[1])).intersection(set(group[2]))\n",
    "res += get_priority(common)\n",
    "res"
   ]
  },
  {
   "cell_type": "code",
   "execution_count": null,
   "id": "4552c728-0920-4ea0-9a6a-88b8bc6fa767",
   "metadata": {},
   "outputs": [],
   "source": []
  }
 ],
 "metadata": {
  "kernelspec": {
   "display_name": "Python 3 (ipykernel)",
   "language": "python",
   "name": "python3"
  },
  "language_info": {
   "codemirror_mode": {
    "name": "ipython",
    "version": 3
   },
   "file_extension": ".py",
   "mimetype": "text/x-python",
   "name": "python",
   "nbconvert_exporter": "python",
   "pygments_lexer": "ipython3",
   "version": "3.9.12"
  }
 },
 "nbformat": 4,
 "nbformat_minor": 5
}
