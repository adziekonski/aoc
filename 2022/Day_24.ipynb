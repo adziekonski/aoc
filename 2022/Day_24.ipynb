{
 "cells": [
  {
   "cell_type": "code",
   "execution_count": 1,
   "id": "d5ceef84-f219-4441-961e-d8a129cabb61",
   "metadata": {},
   "outputs": [],
   "source": [
    "from collections import defaultdict\n",
    "def read_and_process_file(filename='input'):\n",
    "    file = open(f'{filename}_24', 'r')\n",
    "    lines = [[c for c in l.rstrip()] for l in file.readlines()]\n",
    "    \n",
    "    _dir_map = {\">\":(0,1),\n",
    "           \"<\":(0,-1),\n",
    "           \"^\":(-1,0),\n",
    "           \"v\":(1,0),}\n",
    "    blizzards = {}\n",
    "    blizzards_id = 0\n",
    "    for r_id, r in enumerate(lines):\n",
    "        for c_id, c in enumerate(r):\n",
    "            if c in _dir_map.keys():\n",
    "                blizzards[blizzards_id] = ((r_id,c_id),_dir_map[c])\n",
    "                blizzards_id+=1\n",
    "    return lines,blizzards"
   ]
  },
  {
   "cell_type": "code",
   "execution_count": 2,
   "id": "70aad7ed-ffb3-4a62-9735-5af3762c8ce0",
   "metadata": {},
   "outputs": [],
   "source": [
    "def get_occupied(_blizzards):\n",
    "    occupied = set()\n",
    "    for k,v in _blizzards.items():\n",
    "        occupied.add(v[0])\n",
    "    return occupied"
   ]
  },
  {
   "cell_type": "code",
   "execution_count": 3,
   "id": "67913640-7bfd-4351-bf5b-63c9c513403e",
   "metadata": {},
   "outputs": [],
   "source": [
    "def calc_lcm(a, b):\n",
    "    if a > b:\n",
    "        greater = a\n",
    "    else:\n",
    "        greater = b\n",
    "    while(True):\n",
    "        if((greater % a == 0) and (greater % b == 0)):\n",
    "            lcm = greater\n",
    "            break\n",
    "        greater += 1\n",
    "    return lcm"
   ]
  },
  {
   "cell_type": "code",
   "execution_count": 4,
   "id": "7540a4bf-a2b8-4c9c-b5c1-399f3ae3c1c3",
   "metadata": {},
   "outputs": [],
   "source": [
    "def get_blizzard_positions(_blizzards,_height,_width,_map):\n",
    "    blizzard_options = calc_lcm(_height,_width)\n",
    "    blizzard_occupied = {}\n",
    "    for i in range(blizzard_options):\n",
    "        for blizz_id, blizz in _blizzards.items():\n",
    "            new_pos = (blizz[0][0]+blizz[1][0],blizz[0][1]+blizz[1][1])\n",
    "            if (new_pos[0]==0) or (new_pos[0]==(len(_map)-1)) or (new_pos[1]==0) or (new_pos[1]==(len(_map[0])-1)):\n",
    "                new_pos = (blizz[0][0]-(_height-1)*blizz[1][0],blizz[0][1]-(_width-1)*blizz[1][1])\n",
    "            _blizzards[blizz_id] = (new_pos, blizz[1])\n",
    "        occupied = get_occupied(_blizzards)\n",
    "        blizzard_occupied[i] = occupied\n",
    "    return blizzard_occupied"
   ]
  },
  {
   "cell_type": "code",
   "execution_count": 5,
   "id": "2969c5b9-100f-4e15-a72e-41c37f3f702f",
   "metadata": {},
   "outputs": [],
   "source": [
    "def reach_the_end(start_point, end_point, current_step):\n",
    "    options = [(start_point,current_step)]\n",
    "    current_point = None\n",
    "    best_steps = 99999999999\n",
    "    while (True):\n",
    "        if len(options)==0:\n",
    "            break\n",
    "        current_point, current_steps = options.pop(0)\n",
    "\n",
    "        if current_point == end_point:\n",
    "            best_steps = min(best_steps, current_steps)\n",
    "            continue\n",
    "\n",
    "        if current_steps > best_steps:\n",
    "            continue\n",
    "\n",
    "        occupied = blizzard_occupied[(current_steps)%len(blizzard_occupied)]\n",
    "\n",
    "        #check possible movements\n",
    "        for p in possible_movements:\n",
    "            new_pos = (current_point[0]+p[0], current_point[1]+p[1])\n",
    "            if (new_pos[0]<0) or (new_pos[0]>(len(_map)-1)) or (new_pos[1]<0) or (new_pos[1]>(len(_map[0])-1)):\n",
    "                continue\n",
    "            if (new_pos not in occupied) and (_map[new_pos[0]][new_pos[1]]!=\"#\"):\n",
    "                if (new_pos, current_steps+1) not in options:\n",
    "                    options.append((new_pos, current_steps+1))\n",
    "    return best_steps"
   ]
  },
  {
   "cell_type": "code",
   "execution_count": 8,
   "id": "d93749be-dc77-4bdd-a2e4-b8b244362d5e",
   "metadata": {},
   "outputs": [],
   "source": [
    "_map, _blizzards = read_and_process_file('input')\n",
    "start_point = (0,1)\n",
    "end_point = (len(_map)-1, len(_map[0])-2)\n",
    "possible_movements = [(0,0), (0,1), (1,0), (0,-1), (-1,0)]\n",
    "_height = len(_map)-2\n",
    "_width = len(_map[0])-2\n",
    "blizzard_occupied = get_blizzard_positions(_blizzards,_height,_width,_map)"
   ]
  },
  {
   "cell_type": "markdown",
   "id": "d368a1ac-77ee-4d8a-8d20-1219d2886171",
   "metadata": {},
   "source": [
    "#### One star"
   ]
  },
  {
   "cell_type": "code",
   "execution_count": 9,
   "id": "0d9a53c2-50f1-42bb-8819-34d9f6dee101",
   "metadata": {},
   "outputs": [
    {
     "name": "stdout",
     "output_type": "stream",
     "text": [
      "The end point is reachabe in 274 minutes.\n"
     ]
    }
   ],
   "source": [
    "steps = reach_the_end(start_point, end_point, 0)\n",
    "print(f\"The end point is reachabe in {steps} minutes.\")"
   ]
  },
  {
   "cell_type": "markdown",
   "id": "cc6f7b66-33b1-40a1-b686-7e0a85416a8b",
   "metadata": {},
   "source": [
    "#### Two stars"
   ]
  },
  {
   "cell_type": "code",
   "execution_count": 10,
   "id": "a3e4e175-5a61-4c26-ac56-63d0429dd59e",
   "metadata": {},
   "outputs": [
    {
     "name": "stdout",
     "output_type": "stream",
     "text": [
      "The end point is reachabe in 839 minutes.\n"
     ]
    }
   ],
   "source": [
    "steps = reach_the_end(start_point, end_point, 0)\n",
    "steps = reach_the_end(end_point, start_point, steps)\n",
    "steps = reach_the_end(start_point, end_point, steps)\n",
    "print(f\"The end point is reachabe in {steps} minutes.\")"
   ]
  },
  {
   "cell_type": "code",
   "execution_count": null,
   "id": "c8fd87be-87cb-468a-b103-f3f193ae0d49",
   "metadata": {},
   "outputs": [],
   "source": []
  }
 ],
 "metadata": {
  "kernelspec": {
   "display_name": "Python 3 (ipykernel)",
   "language": "python",
   "name": "python3"
  },
  "language_info": {
   "codemirror_mode": {
    "name": "ipython",
    "version": 3
   },
   "file_extension": ".py",
   "mimetype": "text/x-python",
   "name": "python",
   "nbconvert_exporter": "python",
   "pygments_lexer": "ipython3",
   "version": "3.9.12"
  }
 },
 "nbformat": 4,
 "nbformat_minor": 5
}
