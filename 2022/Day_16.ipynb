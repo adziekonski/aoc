{
 "cells": [
  {
   "cell_type": "code",
   "execution_count": 24,
   "id": "d191b4fc-5ce1-433a-bf8f-ae23590229a6",
   "metadata": {},
   "outputs": [],
   "source": [
    "from itertools import permutations\n",
    "from collections import defaultdict\n",
    "def read_and_process_file(filename='input'):\n",
    "    file1 = open(f'{filename}_16', 'r')\n",
    "    Lines = [l.rstrip() for l in file1.readlines()]\n",
    "    flows = {}\n",
    "    connections = {}\n",
    "    for l in Lines:\n",
    "        current, l = l.replace(\"Valve \", \"\").split(\" has flow rate=\")\n",
    "        flow, cnx = l.split(\"; \")\n",
    "        flow = int(flow)\n",
    "        if flow > 0:\n",
    "            flows[current] = flow\n",
    "        connections[current] = [c.rstrip().lstrip() for c in cnx.replace(\"tunnels lead to valves \", \"\").replace(\"tunnel leads to valve \",\"\").split(\",\")]\n",
    "    return flows, connections"
   ]
  },
  {
   "cell_type": "code",
   "execution_count": 180,
   "id": "488a528a-11a3-47a3-a383-7af0a063d1af",
   "metadata": {},
   "outputs": [],
   "source": [
    "def create_graph(connections):\n",
    "    graph = {}\n",
    "    for c, neighbors in connections.items():\n",
    "        graph[c] = defaultdict(lambda: 999999999)\n",
    "        for n in neighbors:\n",
    "            graph[c][n] = 1\n",
    "    \n",
    "    all_nodes = connections.keys()\n",
    "    for n1 in all_nodes:\n",
    "        for n2 in all_nodes:\n",
    "            for n3 in all_nodes:\n",
    "                graph[n2][n3] = min(graph[n2][n3], graph[n2][n1] + graph[n1][n3])\n",
    "    return graph"
   ]
  },
  {
   "cell_type": "code",
   "execution_count": 189,
   "id": "c0d648b6-ee0a-4c4c-b528-9e5da5956d7d",
   "metadata": {},
   "outputs": [],
   "source": [
    "def calculate_benefit(path, flows, graph, time_limit):\n",
    "    benefit = 0\n",
    "    path = path.copy()\n",
    "    current = path.pop(0)\n",
    "    for next_step in path:\n",
    "        time_limit -= graph[current][next_step] + 1 #go and open\n",
    "        #print(f\"New benefit: {current}-{next_step} adds {flows[next_step]*max(0,time_limit)}\")\n",
    "        benefit += flows[next_step]*max(0,time_limit)\n",
    "        if time_limit <0:\n",
    "            return benefit\n",
    "        current = next_step\n",
    "    return benefit"
   ]
  },
  {
   "cell_type": "code",
   "execution_count": 190,
   "id": "c5bf5901-aefa-4e25-b93c-8101b08eba05",
   "metadata": {},
   "outputs": [],
   "source": [
    "def find_all_combinations(current, all_options, graph, time_limit):\n",
    "    current_node = current[-1]\n",
    "    for next_step in all_options:\n",
    "        if next_step in current:\n",
    "            continue\n",
    "        #print(f\"Outer: {current} | time: {time_limit}\")\n",
    "        new_time_limit = time_limit - (graph[current_node][next_step] + 1)\n",
    "        if new_time_limit >= 0:\n",
    "            #print(f'Adding new combination: {current+[next_step]} (time remaining: {new_time_limit}) | nodes remaining: {remaining}')\n",
    "            combinations.append(current+[next_step])\n",
    "            find_all_combinations(current.copy()+[next_step], all_options, graph, new_time_limit)\n",
    "        else:\n",
    "            continue"
   ]
  },
  {
   "cell_type": "code",
   "execution_count": 262,
   "id": "d634fe1b-4a1e-4982-934e-fa4d53c775a3",
   "metadata": {},
   "outputs": [],
   "source": [
    "flows, connections = read_and_process_file('input')\n",
    "graph = create_graph(connections)"
   ]
  },
  {
   "cell_type": "markdown",
   "id": "635293d4-3577-4d9a-8887-7c7ed875040d",
   "metadata": {},
   "source": [
    "#### One star"
   ]
  },
  {
   "cell_type": "code",
   "execution_count": 263,
   "id": "76251ed4-6350-4c30-a7dc-9136e53c1993",
   "metadata": {},
   "outputs": [
    {
     "name": "stdout",
     "output_type": "stream",
     "text": [
      "The benefit in 30min is: 2265\n"
     ]
    }
   ],
   "source": [
    "combinations = []\n",
    "flows[\"AA\"] = 0\n",
    "time = 30\n",
    "\n",
    "find_all_combinations(['AA'], list(flows.keys()), graph, time)\n",
    "res = max([calculate_benefit(c, flows, graph, time) for c in combinations])\n",
    "print(f\"The benefit in {time}min is: {res}\")"
   ]
  },
  {
   "cell_type": "markdown",
   "id": "28c5a981-183d-4632-9169-adfc380cc993",
   "metadata": {},
   "source": [
    "#### Two stars"
   ]
  },
  {
   "cell_type": "code",
   "execution_count": 264,
   "id": "7ed0188b-a87a-40ed-9c72-232dda7ecce0",
   "metadata": {},
   "outputs": [],
   "source": [
    "combinations = []\n",
    "def find_best_paths(flows, graph, time):\n",
    "    find_all_combinations(['AA'], list(flows.keys()), graph, time)\n",
    "    best_res = 0\n",
    "    \n",
    "    for c1 in combinations:\n",
    "        for c2 in combinations:\n",
    "            if len(list(set(c1+c2))) == (len(c1)+len(c2)-1):\n",
    "                best_res = max(best_res, calculate_benefit(c1, flows, graph, time)+calculate_benefit(c2, flows, graph, time))\n",
    "            else:\n",
    "                continue\n",
    "    return best_res"
   ]
  },
  {
   "cell_type": "code",
   "execution_count": 265,
   "id": "6e1dd432-3d92-4ca3-af9a-94a03a8b7dfa",
   "metadata": {},
   "outputs": [],
   "source": [
    "def get_key(c):\n",
    "    return \" \".join(sorted(c))\n",
    "\n",
    "def check_keys_unique(c1, c2):\n",
    "    c1 = c1.split(\" \")\n",
    "    c2 = c2.split(\" \")\n",
    "    return len(list(set(c1+c2))) == (len(c1)+len(c2)-1)"
   ]
  },
  {
   "cell_type": "code",
   "execution_count": 266,
   "id": "51d042f8-9ff7-4e05-b80c-5b4dac356fc0",
   "metadata": {},
   "outputs": [],
   "source": [
    "combinations = []\n",
    "def find_best_paths(flows, graph, time):\n",
    "    find_all_combinations(['AA'], list(flows.keys()), graph, time)\n",
    "    best_res = 0\n",
    "    \n",
    "    combination_gain = defaultdict(int)\n",
    "    for c in combinations:\n",
    "        combination_gain[get_key(c)] = max(combination_gain[get_key(c)], calculate_benefit(c, flows, graph, time))\n",
    "    \n",
    "    combination_sets = list(combination_gain.keys())\n",
    "    for c1 in combination_sets:\n",
    "        for c2 in combination_sets:\n",
    "            if check_keys_unique(c1,c2):\n",
    "                best_res = max(best_res, combination_gain[c1]+combination_gain[c2])\n",
    "    return best_res"
   ]
  },
  {
   "cell_type": "code",
   "execution_count": 267,
   "id": "0f0bd7da-80cc-490d-82bb-dd0b72d6c58c",
   "metadata": {},
   "outputs": [
    {
     "name": "stdout",
     "output_type": "stream",
     "text": [
      "The benefit in 30 min using 2 explorers is: 2811\n"
     ]
    }
   ],
   "source": [
    "res = find_best_paths(flows, graph, 26)\n",
    "print(f\"The benefit in {time} min using 2 explorers is: {res}\")"
   ]
  },
  {
   "cell_type": "code",
   "execution_count": null,
   "id": "ee4e53b0-ed69-46d3-8dda-32ed05650c2d",
   "metadata": {},
   "outputs": [],
   "source": []
  },
  {
   "cell_type": "code",
   "execution_count": null,
   "id": "2f6388e3-97c1-4ffa-9f4a-cba3cf97234c",
   "metadata": {},
   "outputs": [],
   "source": []
  },
  {
   "cell_type": "code",
   "execution_count": null,
   "id": "a2c81763-9f34-4479-9275-f4ffb867df56",
   "metadata": {},
   "outputs": [],
   "source": []
  },
  {
   "cell_type": "code",
   "execution_count": null,
   "id": "d163a411-28d7-4b68-b139-94973c64c164",
   "metadata": {},
   "outputs": [],
   "source": []
  },
  {
   "cell_type": "code",
   "execution_count": null,
   "id": "e1cd042d-fc55-4418-a73d-fc32c31f84df",
   "metadata": {},
   "outputs": [],
   "source": []
  },
  {
   "cell_type": "code",
   "execution_count": null,
   "id": "7c16267d-76b7-4294-b896-69ef7fe316d0",
   "metadata": {},
   "outputs": [],
   "source": []
  },
  {
   "cell_type": "markdown",
   "id": "90f590c8-fc66-4f35-8d5d-412b4148f154",
   "metadata": {},
   "source": [
    "#### First ideas (worse)"
   ]
  },
  {
   "cell_type": "code",
   "execution_count": null,
   "id": "7e4c1b25-9b41-4c55-98b5-3277f6301d12",
   "metadata": {},
   "outputs": [],
   "source": [
    "def BFS_SP(graph, start, goal):\n",
    "    explored = []\n",
    "     \n",
    "    # Queue for traversing the\n",
    "    # graph in the BFS\n",
    "    queue = [[start]]\n",
    "     \n",
    "    # If the desired node is\n",
    "    # reached\n",
    "    if start == goal:\n",
    "        #print(\"Same Node\")\n",
    "        return 0\n",
    "     \n",
    "    # Loop to traverse the graph\n",
    "    # with the help of the queue\n",
    "    while queue:\n",
    "        path = queue.pop(0)\n",
    "        node = path[-1]\n",
    "         \n",
    "        # Condition to check if the\n",
    "        # current node is not visited\n",
    "        if node not in explored:\n",
    "            neighbours = graph[node]\n",
    "             \n",
    "            # Loop to iterate over the\n",
    "            # neighbours of the node\n",
    "            for neighbour in neighbours:\n",
    "                new_path = list(path)\n",
    "                new_path.append(neighbour)\n",
    "                queue.append(new_path)\n",
    "                 \n",
    "                # Condition to check if the\n",
    "                # neighbour node is the goal\n",
    "                if neighbour == goal:\n",
    "                    #print(\"Shortest path = \", *new_path)\n",
    "                    return len(new_path)-1\n",
    "            explored.append(node)\n",
    " \n",
    "    # Condition when the nodes\n",
    "    # are not connected\n",
    "    print(f\"So sorry, but a connecting path doesn't exist {start} - {goal}\")\n",
    "    return -1"
   ]
  },
  {
   "cell_type": "code",
   "execution_count": 99,
   "id": "b120f919-3f3c-4435-87e0-0509f25a1b23",
   "metadata": {},
   "outputs": [],
   "source": [
    "flows, connections = read_and_process_file('input')\n",
    "flows = {k:v for k,v in sorted(flows.items(), key=lambda item: item[1], reverse=True) if v>0}"
   ]
  },
  {
   "cell_type": "code",
   "execution_count": 102,
   "id": "63f57bb2-5a69-4891-b356-8ba3e268de49",
   "metadata": {
    "tags": []
   },
   "outputs": [
    {
     "data": {
      "text/plain": [
       "2265"
      ]
     },
     "execution_count": 102,
     "metadata": {},
     "output_type": "execute_result"
    }
   ],
   "source": [
    "res = 0\n",
    "\n",
    "#current_node - remaining_nodes - _time - _res\n",
    "\n",
    "current_node = \"AA\"\n",
    "remaining_nodes = list(flows.keys())\n",
    "_time = 30\n",
    "_res = 0\n",
    "\n",
    "def explore(current_node, remaining_nodes, _time, _res):\n",
    "    best_res = _res\n",
    "    if remaining_nodes is None:\n",
    "        return best_res\n",
    "    for n in remaining_nodes:\n",
    "        time_required = BFS_SP(connections, current_node, n)\n",
    "        _new_time = _time - time_required - 1\n",
    "        if _new_time <= 0:\n",
    "            best_res = max(_res,best_res)\n",
    "        else:\n",
    "            new_remaining = remaining_nodes.copy()\n",
    "            new_remaining.remove(n)\n",
    "            best_res = max(best_res, explore(n, new_remaining, _new_time, _res+(flows[n]*(_new_time))))\n",
    "    return best_res\n",
    "explore(current_node, remaining_nodes, _time, _res)"
   ]
  },
  {
   "cell_type": "code",
   "execution_count": null,
   "id": "865f5543-f638-472b-bd7c-db9e383e769f",
   "metadata": {},
   "outputs": [],
   "source": [
    "#2228 - too low"
   ]
  },
  {
   "cell_type": "code",
   "execution_count": null,
   "id": "cbceaed9-174f-471d-9d0e-3de1fb10a5e1",
   "metadata": {},
   "outputs": [],
   "source": []
  },
  {
   "cell_type": "code",
   "execution_count": null,
   "id": "2311d17b-d13d-400a-aafb-cbebd60d93ea",
   "metadata": {},
   "outputs": [],
   "source": []
  },
  {
   "cell_type": "code",
   "execution_count": null,
   "id": "20031cdf-bf6d-4f9c-bb5b-b8768762c3b3",
   "metadata": {},
   "outputs": [],
   "source": []
  },
  {
   "cell_type": "code",
   "execution_count": null,
   "id": "44eed3f1-2dad-4da2-91ed-ec8eeb2fb904",
   "metadata": {},
   "outputs": [],
   "source": [
    "res = 0\n",
    "best_path = \"\"\n",
    "case = 0\n",
    "for p in permutations(flows.keys(), 15):\n",
    "    case += 1\n",
    "    if (case%100000)==0:\n",
    "        print(f\"Done ({case})\")\n",
    "    per_res = 0\n",
    "    current = \"AA\"\n",
    "    time = 30\n",
    "    for n in p:\n",
    "        time_required = BFS_SP(connections, current, n)\n",
    "        time -= time_required #travel\n",
    "        time -= 1 #open valve\n",
    "        if time<0:\n",
    "            break\n",
    "        per_res += flows[n]*time\n",
    "        current = n\n",
    "    if res < per_res:\n",
    "        res = per_res\n",
    "        best_path = p\n",
    "res"
   ]
  },
  {
   "cell_type": "code",
   "execution_count": null,
   "id": "2ab84c38-e0e2-4f5a-ad41-8c6c98de37a4",
   "metadata": {},
   "outputs": [],
   "source": []
  },
  {
   "cell_type": "code",
   "execution_count": null,
   "id": "bffd433d-dbf6-46fd-b513-86ceeb029c6c",
   "metadata": {},
   "outputs": [],
   "source": []
  },
  {
   "cell_type": "code",
   "execution_count": null,
   "id": "fc6a162e-3e05-4c81-99fb-eb8c0bb0a3e2",
   "metadata": {},
   "outputs": [],
   "source": []
  },
  {
   "cell_type": "code",
   "execution_count": null,
   "id": "a0226797-28a6-41e4-b346-2b60682240ba",
   "metadata": {},
   "outputs": [],
   "source": []
  }
 ],
 "metadata": {
  "kernelspec": {
   "display_name": "Python 3 (ipykernel)",
   "language": "python",
   "name": "python3"
  },
  "language_info": {
   "codemirror_mode": {
    "name": "ipython",
    "version": 3
   },
   "file_extension": ".py",
   "mimetype": "text/x-python",
   "name": "python",
   "nbconvert_exporter": "python",
   "pygments_lexer": "ipython3",
   "version": "3.9.12"
  }
 },
 "nbformat": 4,
 "nbformat_minor": 5
}
