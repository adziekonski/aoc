{
 "cells": [
  {
   "cell_type": "code",
   "execution_count": 1,
   "id": "40e7380b-7363-483d-88b6-73adb9a5094b",
   "metadata": {},
   "outputs": [],
   "source": [
    "import re\n",
    "from collections import defaultdict\n",
    "def read_and_process_file(filename='input'):\n",
    "    file = open(f'{filename}_22', 'r')\n",
    "    lines = [l.rstrip() for l in file.readlines()]\n",
    "    \n",
    "    instructions = lines[-1]\n",
    "    instructions = re.split('(\\d+)',instructions)[:-1]\n",
    "    instructions = [(instructions[i], int(instructions[i+1])) for i in range(0, len(instructions), 2)]\n",
    "        \n",
    "    \n",
    "    num_cols = max(len(x) for x in lines[:-2])\n",
    "    num_rows = len(lines[:-2])\n",
    "    board = [[0 for c in range(num_cols)] for r in range(num_rows)]\n",
    "    \n",
    "    for r in range(num_rows):\n",
    "        for i,c in enumerate(lines[r]):\n",
    "            if c == '.':\n",
    "                board[r][i] = 1\n",
    "            elif c == '#':\n",
    "                board[r][i] = 9\n",
    "                \n",
    "    return board, instructions"
   ]
  },
  {
   "cell_type": "code",
   "execution_count": 2,
   "id": "8dae01eb-eea6-4f11-ae24-272b9f5519c7",
   "metadata": {},
   "outputs": [],
   "source": [
    "turning = {\n",
    "    \"\" : 0,\n",
    "    \"R\": 1,\n",
    "    \"L\": -1\n",
    "}\n",
    "\n",
    "movement = {\n",
    "    0: (0,1),\n",
    "    2: (0,-1),\n",
    "    3: (-1,0),\n",
    "    1: (1,0)\n",
    "}\n",
    "\n",
    "printable = {\n",
    "    0: \">\",\n",
    "    1: \"v\",\n",
    "    2: \"<\",\n",
    "    3: \"ˆ\"\n",
    "}"
   ]
  },
  {
   "cell_type": "code",
   "execution_count": 3,
   "id": "713ef2d1-278b-4e82-b258-a856bfade21b",
   "metadata": {},
   "outputs": [],
   "source": [
    "def get_jump_cells_and_walls(board):\n",
    "    limits = {}\n",
    "    walls = set()\n",
    "    num_rows = len(board)\n",
    "    num_cols = len(board[0])\n",
    "    \n",
    "    for r in range(num_rows):\n",
    "        non_empty_idx = [i for i,v in enumerate(board[r]) if v>0]\n",
    "        limits[(r,min(non_empty_idx)),2] = ((r,max(non_empty_idx)),2)\n",
    "        limits[(r,max(non_empty_idx)),0] = ((r,min(non_empty_idx)),0)\n",
    "        \n",
    "    for c in range(num_cols):\n",
    "        non_empty_idx = [i for i,v in enumerate(board) if v[c]>0]\n",
    "        limits[(min(non_empty_idx), c),3] = ((max(non_empty_idx), c),3)\n",
    "        limits[(max(non_empty_idx), c),1] = ((min(non_empty_idx), c),1)\n",
    "        \n",
    "    for r in range(num_rows):\n",
    "        for c in range(num_cols):\n",
    "            if board[r][c] == 9:\n",
    "                walls.add((r,c))\n",
    "        \n",
    "    return limits, set(walls)\n",
    "\n",
    "def get_start_id(board):\n",
    "    return (0,min([c for c in range(len(board[0])) if board[0][c] == 1]))"
   ]
  },
  {
   "cell_type": "code",
   "execution_count": 4,
   "id": "bd0cd999-8348-49d4-b751-544e8f59eec3",
   "metadata": {},
   "outputs": [],
   "source": [
    "def calculate_result(position, direction):\n",
    "    return 1000*(position[0]+1) + 4*(position[1]+1) + direction"
   ]
  },
  {
   "cell_type": "code",
   "execution_count": 5,
   "id": "a0889932-d88a-47ca-acef-939b8fd7e1ce",
   "metadata": {},
   "outputs": [],
   "source": [
    "def get_position_after_step(position, direction, limits, walls):\n",
    "    _r, _c = position\n",
    "    new_position = None\n",
    "    current_move = movement[direction]\n",
    "\n",
    "    limit_key = (position, direction)\n",
    "    \n",
    "    debug = False\n",
    "    \n",
    "    if debug:    \n",
    "        print(f\"Position: {position} | direction: {direction} | movement: {current_move}\")\n",
    "        print(f\"Key: {limit_key}\")\n",
    "        \n",
    "    #check if jump to another side\n",
    "    if limit_key in limits:\n",
    "        if debug:\n",
    "            print(f'Jump to another side (direction: {direction})')\n",
    "        new_position, new_direction = limits[limit_key]\n",
    "    else:\n",
    "        if debug:    \n",
    "            print(f\"Normal step\")\n",
    "        new_position, new_direction = (_r+current_move[0],_c+current_move[1]), direction\n",
    "     \n",
    "    #if new position is not a stone return it, otherwise do not move\n",
    "    if new_position in walls:\n",
    "        return position, direction, True\n",
    "    else:\n",
    "        return new_position, new_direction, False"
   ]
  },
  {
   "cell_type": "code",
   "execution_count": 6,
   "id": "818871a8-ef2c-48c9-9570-436b6f121a6a",
   "metadata": {},
   "outputs": [],
   "source": [
    "def explore_board(board, instructions, limits, walls):\n",
    "    current_position = get_start_id(board)\n",
    "    current_direction = 0\n",
    "    for current_instruction in instructions:\n",
    "        current_direction = (current_direction + turning[current_instruction[0]])%4\n",
    "        for step in range(current_instruction[1]):\n",
    "            new_position, new_direction, blocked = get_position_after_step(current_position,current_direction, limits, walls)\n",
    "            if blocked:\n",
    "                break\n",
    "            else:\n",
    "                #print(f\"New position: {new_position} | Direction: {current_direction}\")\n",
    "                board[new_position[0]][new_position[1]] = printable[current_direction]\n",
    "            current_position = new_position\n",
    "            current_direction = new_direction\n",
    "\n",
    "    res = calculate_result(current_position, current_direction)\n",
    "    print(f\"Stopped at {(current_position[0]+1, current_position[1]+1)} and the direction is {current_direction}\")\n",
    "    print(f\"The final value after exploring the board is {res}\")\n",
    "    return res"
   ]
  },
  {
   "cell_type": "markdown",
   "id": "1b8e9209-e967-4f2f-8a08-b57c61325ea1",
   "metadata": {},
   "source": [
    "#### One star"
   ]
  },
  {
   "cell_type": "code",
   "execution_count": 7,
   "id": "43e5d837-bb1c-4608-9a7b-6bcc48541637",
   "metadata": {},
   "outputs": [
    {
     "name": "stdout",
     "output_type": "stream",
     "text": [
      "Stopped at (13, 141) and the direction is 2\n",
      "The final value after exploring the board is 13566\n"
     ]
    }
   ],
   "source": [
    "board, instructions = read_and_process_file('input')\n",
    "limits, walls = get_jump_cells_and_walls(board)\n",
    "res = explore_board(board, instructions, limits, walls)"
   ]
  },
  {
   "cell_type": "markdown",
   "id": "6558a28c-83dd-45b7-8412-f263efced2a1",
   "metadata": {},
   "source": [
    "#### Two stars"
   ]
  },
  {
   "cell_type": "code",
   "execution_count": 9,
   "id": "9d1ad90f-cf3e-442b-9f07-402d555a6202",
   "metadata": {},
   "outputs": [],
   "source": [
    "def detect_cubes(board, cube_size):\n",
    "    cube_id = 1\n",
    "    cubes = {}\n",
    "    b = board.copy()\n",
    "    current_pos = get_start_id(b)\n",
    "    while len(cubes)<6:\n",
    "        if board[current_pos[0]][current_pos[1]]!=0:\n",
    "            cubes[cube_id] = current_pos\n",
    "            cube_id+=1\n",
    "        while ((current_pos[1])+cube_size < len(board[0])):\n",
    "            new_pos = (current_pos[0],current_pos[1]+cube_size)\n",
    "            if (board[new_pos[0]][new_pos[1]]!=0):\n",
    "                cubes[cube_id] = new_pos\n",
    "                cube_id+=1\n",
    "            current_pos = new_pos\n",
    "        current_pos = (current_pos[0]+cube_size, 0)\n",
    "    return cubes"
   ]
  },
  {
   "cell_type": "code",
   "execution_count": 10,
   "id": "f810d018-c592-434c-8ce5-af6cd47bfd5c",
   "metadata": {},
   "outputs": [],
   "source": [
    "def calculate_cube_neighbors(cubes, cube_size):\n",
    "    neighbors = defaultdict(dict)\n",
    "    for cube_id in range(1,7):\n",
    "        _cur = cubes[cube_id]\n",
    "        for n_id in range(cube_id+1, 7):\n",
    "            _next = cubes[n_id]\n",
    "            if (_cur[0]==_next[0]) and (_cur[1]+cube_size == _next[1]):\n",
    "                neighbors[cube_id][0] = n_id\n",
    "                neighbors[n_id][2] = cube_id\n",
    "\n",
    "            if (_cur[1]==_next[1]) and (_cur[0]+cube_size == _next[0]):\n",
    "                neighbors[cube_id][1] = n_id\n",
    "                neighbors[n_id][3] = cube_id\n",
    "    for _dir in (0,1,2,3):\n",
    "        for _cur in range(1,7):\n",
    "            if _dir in neighbors[_cur]:\n",
    "                # L connections\n",
    "                _joiner = neighbors[_cur][_dir]\n",
    "                _joiner_incoming_dir = [k for k,v in neighbors[_joiner].items() if v==_cur][0]\n",
    "\n",
    "                incoming_shifts = (1,-1)\n",
    "                for _shift in incoming_shifts:\n",
    "                    _joiner_outgoing_dir = (_joiner_incoming_dir+_shift)%4\n",
    "                    if _joiner_outgoing_dir in neighbors[_joiner]:\n",
    "                        _tail = neighbors[_joiner][_joiner_outgoing_dir]\n",
    "                        _tail_incoming_dir = [k for k,v in neighbors[_tail].items() if v==_joiner][0]\n",
    "\n",
    "                        neighbors[_cur][(_dir + (-1)*_shift)%4] = _tail\n",
    "                        neighbors[_tail][(_tail_incoming_dir + _shift)%4] = _cur\n",
    "\n",
    "    return neighbors"
   ]
  },
  {
   "cell_type": "code",
   "execution_count": 11,
   "id": "a0588dd9-7cba-413c-ac56-860c26e84a1d",
   "metadata": {},
   "outputs": [],
   "source": [
    "def get_jump_cells_and_walls_for_a_cube(board, cubes, neighbors, cube_size):\n",
    "    limits = []\n",
    "    walls = set()\n",
    "    num_rows = len(board)\n",
    "    num_cols = len(board[0])\n",
    "    \n",
    "    cubes_limits = {k:{\"r_s\": v[0], \"r_e\": v[0]+cube_size-1, \"c_s\": v[1], \"c_e\": v[1]+cube_size-1} for k,v in cubes.items()}\n",
    "    all_ranges = {}\n",
    "    for k,v in cubes_limits.items():\n",
    "        all_ranges[k] = {0: [(r,v[\"c_e\"]) for r in range(v[\"r_s\"], v[\"r_e\"]+1)],\n",
    "                  1: [(v[\"r_e\"],c) for c in range(v[\"c_e\"], v[\"c_s\"]-1, -1)],\n",
    "                  2: [(r,v[\"c_s\"]) for r in range(v[\"r_e\"], v[\"r_s\"]-1, -1)],\n",
    "                  3: [(v[\"r_s\"],c) for c in range(v[\"c_s\"], v[\"c_e\"]+1)],\n",
    "                     }\n",
    "    \n",
    "    for cube_id in range(1,7):\n",
    "        for _dir in range(4):\n",
    "            neighbor = neighbors[cube_id][_dir]\n",
    "            neighbor_dir = [k for k,v in neighbors[neighbor].items() if v==cube_id][0]\n",
    "            \n",
    "            _from = [(x,_dir)for x in all_ranges[cube_id][_dir]]\n",
    "            _to = [(x,(neighbor_dir+2)%4)for x in all_ranges[neighbor][neighbor_dir]]\n",
    "            jump_cells = list(zip(_from,reversed(_to)))\n",
    "            limits.extend(jump_cells)\n",
    "             \n",
    "    limits = {pair[0]:pair[1] for pair in limits}\n",
    "        \n",
    "    for r in range(num_rows):\n",
    "        for c in range(num_cols):\n",
    "            if board[r][c] == 9:\n",
    "                walls.add((r,c))\n",
    "        \n",
    "    return limits, set(walls)"
   ]
  },
  {
   "cell_type": "code",
   "execution_count": 12,
   "id": "a4b2e410-a858-45df-9c57-5fd19ca9053b",
   "metadata": {},
   "outputs": [
    {
     "name": "stdout",
     "output_type": "stream",
     "text": [
      "Stopped at (11, 112) and the direction is 3\n",
      "The final value after exploring the board is 11451\n"
     ]
    }
   ],
   "source": [
    "cube_size = 50\n",
    "board, instructions = read_and_process_file('input')\n",
    "cubes = detect_cubes(board, cube_size)\n",
    "neighbors = calculate_cube_neighbors(cubes, cube_size)\n",
    "\n",
    "\n",
    "limits, walls = get_jump_cells_and_walls_for_a_cube(board, cubes, neighbors, cube_size)\n",
    "res = explore_board(board, instructions, limits, walls)"
   ]
  },
  {
   "cell_type": "code",
   "execution_count": null,
   "id": "0621fbc2-3dd9-473a-9a52-f4c5b29da23a",
   "metadata": {},
   "outputs": [],
   "source": []
  }
 ],
 "metadata": {
  "kernelspec": {
   "display_name": "Python 3 (ipykernel)",
   "language": "python",
   "name": "python3"
  },
  "language_info": {
   "codemirror_mode": {
    "name": "ipython",
    "version": 3
   },
   "file_extension": ".py",
   "mimetype": "text/x-python",
   "name": "python",
   "nbconvert_exporter": "python",
   "pygments_lexer": "ipython3",
   "version": "3.9.12"
  }
 },
 "nbformat": 4,
 "nbformat_minor": 5
}
