{
 "cells": [
  {
   "cell_type": "code",
   "execution_count": 16,
   "id": "f306e600-cf81-4386-863a-1d5ddf3a0751",
   "metadata": {},
   "outputs": [],
   "source": [
    "def read_and_process_file():\n",
    "    file1 = open('input_6', 'r')\n",
    "    text = [l.rstrip() for l in file1.readlines()]\n",
    "    return text[0]\n",
    "\n",
    "def get_end_of_marker_index(text, k):\n",
    "    current = []\n",
    "    for i,c in enumerate(text):\n",
    "        if len(current)<k:\n",
    "            current.append(c)\n",
    "        else:\n",
    "            #print(\"\".join(current))\n",
    "            if len(current) == len(set(current)):\n",
    "                return i\n",
    "            current.pop(0)\n",
    "            current.append(c)\n",
    "    return None\n"
   ]
  },
  {
   "cell_type": "code",
   "execution_count": 17,
   "id": "119406e4-aedb-4eaf-a557-4f7897391126",
   "metadata": {},
   "outputs": [],
   "source": [
    "text = read_and_process_file()"
   ]
  },
  {
   "cell_type": "markdown",
   "id": "bfac4691-6593-46a6-ae03-47ea92fc11d9",
   "metadata": {},
   "source": [
    "#### One star"
   ]
  },
  {
   "cell_type": "code",
   "execution_count": 33,
   "id": "2b4a2b79-00f4-4769-b580-dae9fdbb49e4",
   "metadata": {},
   "outputs": [
    {
     "data": {
      "text/plain": [
       "1804"
      ]
     },
     "execution_count": 33,
     "metadata": {},
     "output_type": "execute_result"
    }
   ],
   "source": [
    "get_end_of_marker_index(text,4)"
   ]
  },
  {
   "cell_type": "markdown",
   "id": "3997c5b4-518d-4910-bc87-42387a6a51e2",
   "metadata": {},
   "source": [
    "#### Two stars"
   ]
  },
  {
   "cell_type": "code",
   "execution_count": 34,
   "id": "3499fbc3-eebd-4d3e-a765-1c27ee02d7de",
   "metadata": {},
   "outputs": [
    {
     "data": {
      "text/plain": [
       "2508"
      ]
     },
     "execution_count": 34,
     "metadata": {},
     "output_type": "execute_result"
    }
   ],
   "source": [
    "get_end_of_marker_index(text,14)"
   ]
  }
 ],
 "metadata": {
  "kernelspec": {
   "display_name": "Python 3 (ipykernel)",
   "language": "python",
   "name": "python3"
  },
  "language_info": {
   "codemirror_mode": {
    "name": "ipython",
    "version": 3
   },
   "file_extension": ".py",
   "mimetype": "text/x-python",
   "name": "python",
   "nbconvert_exporter": "python",
   "pygments_lexer": "ipython3",
   "version": "3.9.12"
  }
 },
 "nbformat": 4,
 "nbformat_minor": 5
}
