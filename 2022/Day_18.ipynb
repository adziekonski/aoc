{
 "cells": [
  {
   "cell_type": "code",
   "execution_count": 152,
   "id": "a79747c6-0a3d-4022-b7d7-d654087faa00",
   "metadata": {},
   "outputs": [],
   "source": [
    "def read_and_process_file(filename='input'):\n",
    "    file1 = open(f'{filename}_18', 'r')\n",
    "    data = [[int(c) for c in l.split(\",\")] for l in file1.readlines()]\n",
    "    return data"
   ]
  },
  {
   "cell_type": "code",
   "execution_count": 153,
   "id": "d765cce9-1cae-430b-b359-d0cc36b03361",
   "metadata": {},
   "outputs": [],
   "source": [
    "data = read_and_process_file('input')"
   ]
  },
  {
   "cell_type": "markdown",
   "id": "26f272b5-2a9c-43af-862e-5b5d492c052d",
   "metadata": {},
   "source": [
    "#### One star"
   ]
  },
  {
   "cell_type": "code",
   "execution_count": 132,
   "id": "1871a248-4aaa-435b-8668-b92d7ce5263a",
   "metadata": {},
   "outputs": [],
   "source": [
    "dims = (max([c[0] for c in data]),max([c[1] for c in data]),max([c[2] for c in data]))\n",
    "matrix = [[[0 for z in range(dims[2]+1)] for y in range(dims[1]+1)] for x in range(dims[0]+1)]\n",
    "\n",
    "num_cubes = 0\n",
    "for d in data:\n",
    "    matrix[d[0]][d[1]][d[2]] = 1\n",
    "    num_cubes+=1"
   ]
  },
  {
   "cell_type": "code",
   "execution_count": 133,
   "id": "79b4c552-fbc2-40f6-9f89-a2cfa075f44c",
   "metadata": {},
   "outputs": [],
   "source": [
    "def get_number_of_walls(matrix, num_cubes):\n",
    "    remove = 0\n",
    "    for x in range(dims[0]+1):\n",
    "        for y in range(dims[1]+1):\n",
    "            for z in range(dims[2]+1):\n",
    "                #print(f\"x - y - z {x} - {y} - {z}\")\n",
    "                if ((x+1)<=dims[0]) and (matrix[x][y][z] == 1) and (matrix[x+1][y][z] == 1):\n",
    "                    remove += 2\n",
    "                if ((y+1)<=dims[1]) and (matrix[x][y][z] == 1) and (matrix[x][y+1][z] == 1):\n",
    "                    remove += 2  \n",
    "                if ((z+1)<=dims[2]) and (matrix[x][y][z] == 1) and (matrix[x][y][z+1] == 1):\n",
    "                    remove += 2\n",
    "    return num_cubes*6-remove"
   ]
  },
  {
   "cell_type": "code",
   "execution_count": 135,
   "id": "9dd27756-1148-4ef9-8eef-dc951ae4d2bc",
   "metadata": {},
   "outputs": [
    {
     "name": "stdout",
     "output_type": "stream",
     "text": [
      "The number of outside walls: 64\n"
     ]
    }
   ],
   "source": [
    "res = get_number_of_walls(matrix, num_cubes)\n",
    "print(f\"The number of outside walls: {res}\")"
   ]
  },
  {
   "cell_type": "markdown",
   "id": "4b3c6961-2b46-4bf0-bc76-5cde199c9869",
   "metadata": {},
   "source": [
    "#### Two stars"
   ]
  },
  {
   "cell_type": "code",
   "execution_count": 178,
   "id": "12d03a6e-4510-46a4-9aaa-a53b5f9464a6",
   "metadata": {},
   "outputs": [],
   "source": [
    "dims = (max([c[0] for c in data])+2,max([c[1] for c in data])+2,max([c[2] for c in data])+2)\n",
    "matrix = [[[0 for z in range(dims[2])] for y in range(dims[1])] for x in range(dims[0])]\n",
    "num_cubes = 0\n",
    "for d in data:\n",
    "    matrix[d[0]][d[1]][d[2]] = 1\n",
    "    num_cubes+=1"
   ]
  },
  {
   "cell_type": "code",
   "execution_count": 179,
   "id": "b717a470-676d-4487-9fca-4e25d60ab37f",
   "metadata": {},
   "outputs": [],
   "source": [
    "water = [(0,0,0)]\n",
    "while(water):\n",
    "    current = water.pop()\n",
    "    if matrix[current[0]][current[1]][current[2]]==0:\n",
    "        matrix[current[0]][current[1]][current[2]] = 8\n",
    "        for _dir in ((0,0,1), (0,0,-1), (0,1,0), (0,-1,0), (1,0,0), (-1,0,0)):\n",
    "            x = current[0]+_dir[0]\n",
    "            y = current[1]+_dir[1]\n",
    "            z = current[2]+_dir[2]\n",
    "            if (x>=0) and (y>=0) and (z>=0) and (x<dims[0]) and (y<dims[1]) and (z<dims[2]):\n",
    "                water.append((x,y,z))"
   ]
  },
  {
   "cell_type": "code",
   "execution_count": 180,
   "id": "984fd116-b088-47b5-9d34-a7bd8af49f5b",
   "metadata": {},
   "outputs": [],
   "source": [
    "for x in range(dims[0]):\n",
    "    for y in range(dims[1]):\n",
    "        for z in range(dims[2]):\n",
    "            if matrix[x][y][z]==0:\n",
    "                matrix[x][y][z] = 2"
   ]
  },
  {
   "cell_type": "code",
   "execution_count": 181,
   "id": "c7d0ab2a-8449-4da0-9ab4-ce66982d5e66",
   "metadata": {},
   "outputs": [
    {
     "name": "stdout",
     "output_type": "stream",
     "text": [
      "The number of outside walls: 2466\n"
     ]
    }
   ],
   "source": [
    "def get_number_of_walls(matrix, num_cubes):\n",
    "    remove = 0\n",
    "    for x in range(dims[0]):\n",
    "        for y in range(dims[1]):\n",
    "            for z in range(dims[2]):\n",
    "                if ((x+1)<=dims[0]) and (matrix[x][y][z] == 1) and (matrix[x+1][y][z] != 8):\n",
    "                    remove += 2\n",
    "                if ((y+1)<=dims[1]) and (matrix[x][y][z] == 1) and (matrix[x][y+1][z] != 8):\n",
    "                    remove += 2  \n",
    "                if ((z+1)<=dims[2]) and (matrix[x][y][z] == 1) and (matrix[x][y][z+1] != 8):\n",
    "                    remove += 2\n",
    "    return num_cubes*6-remove\n",
    "\n",
    "res = get_number_of_walls(matrix, num_cubes)\n",
    "print(f\"The number of outside walls: {res}\")"
   ]
  }
 ],
 "metadata": {
  "kernelspec": {
   "display_name": "Python 3 (ipykernel)",
   "language": "python",
   "name": "python3"
  },
  "language_info": {
   "codemirror_mode": {
    "name": "ipython",
    "version": 3
   },
   "file_extension": ".py",
   "mimetype": "text/x-python",
   "name": "python",
   "nbconvert_exporter": "python",
   "pygments_lexer": "ipython3",
   "version": "3.9.12"
  }
 },
 "nbformat": 4,
 "nbformat_minor": 5
}
