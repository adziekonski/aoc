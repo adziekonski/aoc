{
 "cells": [
  {
   "cell_type": "code",
   "execution_count": 90,
   "id": "92bf2b4a-a92d-47b5-8f50-f03e83bbc00b",
   "metadata": {},
   "outputs": [],
   "source": [
    "from collections import defaultdict\n",
    "\n",
    "def read_and_process_file():\n",
    "    file1 = open('input_7', 'r')\n",
    "    text = [l.rstrip() for l in file1.readlines()]\n",
    "    return text"
   ]
  },
  {
   "cell_type": "code",
   "execution_count": 91,
   "id": "6392effe-960f-4e83-bf18-fb0bb37b6e09",
   "metadata": {},
   "outputs": [],
   "source": [
    "def calculate_filesystem_sizes():\n",
    "    filesystem_files = defaultdict(int)\n",
    "    current_dir = \"\"\n",
    "\n",
    "    for line in text:\n",
    "        if line[:4]==\"$ cd\":\n",
    "            if line == \"$ cd /\":\n",
    "                current_dir = [\"/\"]\n",
    "            elif line == \"$ cd ..\":\n",
    "                current_dir.pop()\n",
    "            else:\n",
    "                new_dir = line[4:]\n",
    "                current_dir.append(new_dir)\n",
    "        elif line[:4]==\"$ ls\":\n",
    "            continue\n",
    "        elif line[:4]==\"dir \":\n",
    "            continue\n",
    "        else:\n",
    "            file_size, file_name = line.split(\" \")\n",
    "            filesystem_files[\"//\".join(current_dir)] += int(file_size)\n",
    "            for i in range(len(current_dir)):\n",
    "                filesystem_files[\"//\".join(current_dir[:-i])] += int(file_size)\n",
    "    return filesystem_files"
   ]
  },
  {
   "cell_type": "code",
   "execution_count": 96,
   "id": "0e00de25-e715-4256-90c3-d63773a14b85",
   "metadata": {},
   "outputs": [],
   "source": [
    "def get_size_of_all_dirs_smaller_than_n(filesystem, n = 100000):\n",
    "    return sum([v for k,v in filesystem.items() if v<=n])"
   ]
  },
  {
   "cell_type": "code",
   "execution_count": 97,
   "id": "766f220a-cc38-4426-9ae8-0783e06fa80f",
   "metadata": {},
   "outputs": [],
   "source": [
    "def get_size_of_directory_to_delete(filesystem, available_space=70000000, required_space=30000000):\n",
    "    to_be_freed = filesystem_files[\"/\"] - (available_space-required_space)\n",
    "    possible_options = [[k,v] for k,v in filesystem.items() if v>=to_be_freed]\n",
    "    return sorted(possible_options, key = lambda x: x[1])[0][1]"
   ]
  },
  {
   "cell_type": "code",
   "execution_count": null,
   "id": "546c82d7-0632-4ebe-9a8f-95d0c7a34ca2",
   "metadata": {},
   "outputs": [],
   "source": []
  },
  {
   "cell_type": "code",
   "execution_count": 98,
   "id": "7f4cfb57-6e0f-4099-9a7e-0f3f6d6f5dcc",
   "metadata": {},
   "outputs": [],
   "source": [
    "text = read_and_process_file()\n",
    "filesystem = calculate_filesystem_sizes()"
   ]
  },
  {
   "cell_type": "markdown",
   "id": "87dd0f3f-ed95-4407-aff8-030ab18c9327",
   "metadata": {},
   "source": [
    "#### One star"
   ]
  },
  {
   "cell_type": "code",
   "execution_count": 99,
   "id": "dc4948fb-f96f-41a5-abe4-9c6179356d30",
   "metadata": {},
   "outputs": [
    {
     "data": {
      "text/plain": [
       "1543140"
      ]
     },
     "execution_count": 99,
     "metadata": {},
     "output_type": "execute_result"
    }
   ],
   "source": [
    "get_size_of_all_dirs_smaller_than_n(filesystem)"
   ]
  },
  {
   "cell_type": "markdown",
   "id": "2d3d1c09-934f-4e8e-a335-c24f69c5cf55",
   "metadata": {},
   "source": [
    "#### Two stars"
   ]
  },
  {
   "cell_type": "code",
   "execution_count": 101,
   "id": "b3ec560e-c1f8-457e-b172-de87fece92f8",
   "metadata": {},
   "outputs": [
    {
     "data": {
      "text/plain": [
       "1117448"
      ]
     },
     "execution_count": 101,
     "metadata": {},
     "output_type": "execute_result"
    }
   ],
   "source": [
    "get_size_of_directory_to_delete(filesystem)"
   ]
  }
 ],
 "metadata": {
  "kernelspec": {
   "display_name": "Python 3 (ipykernel)",
   "language": "python",
   "name": "python3"
  },
  "language_info": {
   "codemirror_mode": {
    "name": "ipython",
    "version": 3
   },
   "file_extension": ".py",
   "mimetype": "text/x-python",
   "name": "python",
   "nbconvert_exporter": "python",
   "pygments_lexer": "ipython3",
   "version": "3.9.12"
  }
 },
 "nbformat": 4,
 "nbformat_minor": 5
}
