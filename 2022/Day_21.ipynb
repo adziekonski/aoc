{
 "cells": [
  {
   "cell_type": "code",
   "execution_count": 101,
   "id": "88f94534-ed7d-4400-9ec2-0e7dc3f41faf",
   "metadata": {},
   "outputs": [],
   "source": [
    "from collections import defaultdict\n",
    "def read_and_process_file(filename='input'):\n",
    "    file1 = open(f'{filename}_21', 'r')\n",
    "    _vals = {}\n",
    "    _operations = {}\n",
    "    for l in file1.readlines():\n",
    "        _key, _value = l.rstrip().split(\": \")\n",
    "        if \" \" in _value:\n",
    "            _operations[_key] = _value.split(\" \")\n",
    "        else:\n",
    "            _vals[_key] = int(_value)\n",
    "    return _vals, _operations"
   ]
  },
  {
   "cell_type": "code",
   "execution_count": null,
   "id": "b68f7c42-f2a2-44da-81ec-08706c96b52b",
   "metadata": {},
   "outputs": [],
   "source": []
  },
  {
   "cell_type": "markdown",
   "id": "c4fa7d8b-b440-43a6-998e-eef811f9713f",
   "metadata": {},
   "source": [
    "#### One star"
   ]
  },
  {
   "cell_type": "code",
   "execution_count": 127,
   "id": "56b41440-3df6-4bcd-8fc1-957dd16c25e1",
   "metadata": {},
   "outputs": [
    {
     "name": "stdout",
     "output_type": "stream",
     "text": [
      "The value for root is 309248622142100\n"
     ]
    }
   ],
   "source": [
    "_vals, _operations = read_and_process_file(filename='input')\n",
    "main = \"root\"\n",
    "\n",
    "_wait = defaultdict(list)\n",
    "while(main not in _vals):\n",
    "    all_keys = list(_operations.keys())\n",
    "    for k in all_keys:\n",
    "        v = _operations[k]\n",
    "        if v[0] not in _vals:\n",
    "            _wait[v[0]].append(k)\n",
    "        if v[1] not in _vals:\n",
    "            _wait[v[2]].append(k)\n",
    "        if (v[0] in _vals)&(v[2] in _vals):\n",
    "            operation = f\"_vals['{v[0]}'] {v[1]} _vals['{v[2]}']\"\n",
    "            res = eval(operation)\n",
    "            _vals[k] = res\n",
    "            _operations.pop(k,None)\n",
    "print(f\"The value for {main} is {int(_vals[main])}\")       "
   ]
  },
  {
   "cell_type": "markdown",
   "id": "ade813b0-29c1-430a-a33d-abafbda7e004",
   "metadata": {},
   "source": [
    "#### Two stars"
   ]
  },
  {
   "cell_type": "code",
   "execution_count": 287,
   "id": "9653e3a0-c0f3-4d91-89d9-25bad8416148",
   "metadata": {},
   "outputs": [],
   "source": [
    "_vals, _operations = read_and_process_file(filename='input')\n",
    "start = \"humn\"\n",
    "end = \"root\"   \n",
    "equal = (_operations[end][0], _operations[end][2]) "
   ]
  },
  {
   "cell_type": "code",
   "execution_count": 288,
   "id": "3a6bbcc0-c9ff-46c8-b719-d55a0f3aec64",
   "metadata": {},
   "outputs": [],
   "source": [
    "_vals.pop(start, None)\n",
    "\n",
    "prev_len = 0\n",
    "while(len(_operations)!=prev_len):\n",
    "    prev_len = len(_operations)\n",
    "    all_keys = list(_operations.keys())\n",
    "    for k in all_keys:\n",
    "        v = _operations[k]\n",
    "        if (v[0] in _vals)&(v[2] in _vals):\n",
    "            operation = f\"_vals['{v[0]}'] {v[1]} _vals['{v[2]}']\"\n",
    "            res = eval(operation)\n",
    "            _vals[k] = res\n",
    "            _operations.pop(k,None)"
   ]
  },
  {
   "cell_type": "code",
   "execution_count": 289,
   "id": "b7a52b20-b4fc-4cac-b7aa-d63fcc6e6445",
   "metadata": {},
   "outputs": [],
   "source": [
    "expected = \"\"\n",
    "to_calculate = \"\"\n",
    "if _operations[end][0] in _vals:\n",
    "    to_calculate = _operations[end][2]\n",
    "    expected = _vals[_operations[end][0]]\n",
    "else:\n",
    "    to_calculate = _operations[end][0]\n",
    "    expected = _vals[_operations[end][2]]"
   ]
  },
  {
   "cell_type": "code",
   "execution_count": 290,
   "id": "d91c354e-c065-44e1-a800-1092b63e48f3",
   "metadata": {},
   "outputs": [],
   "source": [
    "def get_formula(key):\n",
    "    if key == start:\n",
    "        return \"XXX\"\n",
    "    if key in _vals:\n",
    "        return str(_vals[key])\n",
    "    else:\n",
    "        oper = _operations[key]\n",
    "        return f\"({get_formula(oper[0])} {oper[1]} {get_formula(oper[2])})\""
   ]
  },
  {
   "cell_type": "code",
   "execution_count": 398,
   "id": "ec979757-a42f-4001-a44a-bfa587fa95aa",
   "metadata": {},
   "outputs": [],
   "source": [
    "def binary_search_formula(_formula, expected):\n",
    "    _min = -10000000000000\n",
    "    _max =  10000000000000\n",
    "    direction = 0\n",
    "    counter = 0\n",
    "\n",
    "    val_min = eval(_formula.replace(\"XXX\", str(_min)))\n",
    "    val_max = eval(_formula.replace(\"XXX\", str(_max)))\n",
    "\n",
    "    new_val = val_max\n",
    "\n",
    "    if val_min < val_max:\n",
    "        direction = 1\n",
    "    else:\n",
    "        direction = -1\n",
    "\n",
    "    while ((new_val != expected) and (counter<100000)):\n",
    "        counter+=1\n",
    "        new_param = (_max + _min)//2\n",
    "        val_new = eval(_formula.replace(\"XXX\", str(new_param)))\n",
    "        if (val_new-expected) > 0:\n",
    "            if direction == 1:\n",
    "                _max = new_param\n",
    "            else:\n",
    "                _min = new_param\n",
    "        else:\n",
    "            if direction == 1:\n",
    "                _min = new_param\n",
    "            else:\n",
    "                _max = new_param\n",
    "\n",
    "        if eval(_formula.replace(\"XXX\", str(_min)))-expected == 0:\n",
    "            return _min\n",
    "        elif eval(_formula.replace(\"XXX\", str(_max)))-expected == 0:\n",
    "            return _max"
   ]
  },
  {
   "cell_type": "code",
   "execution_count": 399,
   "id": "593774d2-fd90-4431-81e8-7c5fd3527604",
   "metadata": {},
   "outputs": [],
   "source": [
    "_formula = get_formula(to_calculate)"
   ]
  },
  {
   "cell_type": "code",
   "execution_count": 400,
   "id": "eb20ce0c-d497-4bd9-acbd-74ddeb8d8151",
   "metadata": {
    "tags": []
   },
   "outputs": [
    {
     "name": "stdout",
     "output_type": "stream",
     "text": [
      "Humn value is: 3757272361782\n"
     ]
    }
   ],
   "source": [
    "res = binary_search_formula(_formula, expected)\n",
    "print(f\"Humn value is: {res}\")"
   ]
  },
  {
   "cell_type": "code",
   "execution_count": null,
   "id": "badc5eb8-fb89-4a2d-a1b3-7eb011495a40",
   "metadata": {},
   "outputs": [],
   "source": []
  },
  {
   "cell_type": "code",
   "execution_count": null,
   "id": "866eec43-c97b-4d15-a8e7-69b51891d59e",
   "metadata": {},
   "outputs": [],
   "source": []
  }
 ],
 "metadata": {
  "kernelspec": {
   "display_name": "Python 3 (ipykernel)",
   "language": "python",
   "name": "python3"
  },
  "language_info": {
   "codemirror_mode": {
    "name": "ipython",
    "version": 3
   },
   "file_extension": ".py",
   "mimetype": "text/x-python",
   "name": "python",
   "nbconvert_exporter": "python",
   "pygments_lexer": "ipython3",
   "version": "3.9.12"
  }
 },
 "nbformat": 4,
 "nbformat_minor": 5
}
