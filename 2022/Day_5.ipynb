{
 "cells": [
  {
   "cell_type": "code",
   "execution_count": 104,
   "id": "a3c90d86-dd56-4554-95f5-8b2ab7c9fa85",
   "metadata": {
    "tags": []
   },
   "outputs": [],
   "source": [
    "from collections import defaultdict\n",
    "\n",
    "def read_and_process_file():\n",
    "    file1 = open('input_5', 'r')\n",
    "    Lines = [l.rstrip() for l in file1.readlines()]\n",
    "\n",
    "    desc_stack = True\n",
    "    stacks = defaultdict(list)\n",
    "    instructions = []\n",
    "\n",
    "    for line in Lines:\n",
    "        if len(line) == 0:\n",
    "            desc_stack = False\n",
    "            for k in stacks.keys():\n",
    "                stacks[k].pop(0)\n",
    "            continue\n",
    "        if desc_stack:\n",
    "            line = line + \"  \"\n",
    "            for step in range(len(line)//4):\n",
    "                current_letter = line[step*4:(step+1)*4].replace('[',\"\").replace(']',\"\").rstrip().lstrip()\n",
    "                if current_letter != '':\n",
    "                    stacks[step].insert(0, current_letter)\n",
    "        else:\n",
    "            line = [int(c) for c in line.replace(\"move \", \"\").replace(\"from \", \"\").replace(\"to \", \"\").split()]\n",
    "            instructions.append(line)\n",
    "    return stacks, instructions"
   ]
  },
  {
   "cell_type": "markdown",
   "id": "8bb2dfa8-28ff-408e-8cfe-0cf1c18b46cc",
   "metadata": {},
   "source": [
    "#### One star"
   ]
  },
  {
   "cell_type": "code",
   "execution_count": 105,
   "id": "6fafe2ee-d56e-4643-b853-9fb04c4298a7",
   "metadata": {},
   "outputs": [],
   "source": [
    "stacks, instructions = read_and_process_file()"
   ]
  },
  {
   "cell_type": "code",
   "execution_count": 106,
   "id": "9218245a-243e-4ead-b207-56341c8cc8b5",
   "metadata": {},
   "outputs": [],
   "source": [
    "for num_crates, from_stack, to_stack in instructions:\n",
    "    for crate in range(num_crates):\n",
    "        stacks[to_stack-1].append(stacks[from_stack-1].pop())"
   ]
  },
  {
   "cell_type": "code",
   "execution_count": 107,
   "id": "5f38d07c-6dec-4c25-8e60-0ecc6fc9e8fd",
   "metadata": {},
   "outputs": [
    {
     "data": {
      "text/plain": [
       "'JDTMRWCQJ'"
      ]
     },
     "execution_count": 107,
     "metadata": {},
     "output_type": "execute_result"
    }
   ],
   "source": [
    "res = []\n",
    "for k in sorted(stacks.keys()):\n",
    "    res.append(stacks[k][-1])\n",
    "\"\".join(res)"
   ]
  },
  {
   "cell_type": "markdown",
   "id": "f33d1815-ceb4-4240-863a-8bfe75ebdbac",
   "metadata": {},
   "source": [
    "#### Two stars"
   ]
  },
  {
   "cell_type": "code",
   "execution_count": 108,
   "id": "5b0966a0-c255-4bfd-9045-d563f9f00088",
   "metadata": {},
   "outputs": [],
   "source": [
    "stacks, instructions = read_and_process_file()"
   ]
  },
  {
   "cell_type": "code",
   "execution_count": 109,
   "id": "e480da1e-e7b8-4cf8-9b2b-5de0467aa375",
   "metadata": {
    "tags": []
   },
   "outputs": [],
   "source": [
    "for num_crates, from_stack, to_stack in instructions:\n",
    "    temp = []\n",
    "    for crate in range(num_crates):\n",
    "        temp.append(stacks[from_stack-1].pop())\n",
    "    for t in temp[::-1]:\n",
    "        stacks[to_stack-1].append(t)"
   ]
  },
  {
   "cell_type": "code",
   "execution_count": 110,
   "id": "ef610fa1-0b6f-4c64-82d9-e33856aae828",
   "metadata": {},
   "outputs": [
    {
     "data": {
      "text/plain": [
       "'VHJDDCWRD'"
      ]
     },
     "execution_count": 110,
     "metadata": {},
     "output_type": "execute_result"
    }
   ],
   "source": [
    "res = []\n",
    "for k in sorted(stacks.keys()):\n",
    "    res.append(stacks[k][-1])\n",
    "\"\".join(res)"
   ]
  }
 ],
 "metadata": {
  "kernelspec": {
   "display_name": "Python 3 (ipykernel)",
   "language": "python",
   "name": "python3"
  },
  "language_info": {
   "codemirror_mode": {
    "name": "ipython",
    "version": 3
   },
   "file_extension": ".py",
   "mimetype": "text/x-python",
   "name": "python",
   "nbconvert_exporter": "python",
   "pygments_lexer": "ipython3",
   "version": "3.9.12"
  }
 },
 "nbformat": 4,
 "nbformat_minor": 5
}
