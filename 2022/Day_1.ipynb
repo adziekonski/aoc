{
 "cells": [
  {
   "cell_type": "markdown",
   "id": "9c021ab8-a096-414c-b6ad-975c1fc339b5",
   "metadata": {},
   "source": [
    "#### One star"
   ]
  },
  {
   "cell_type": "code",
   "execution_count": 17,
   "id": "f81262b4-fecc-458b-b49d-53fe4b0f4520",
   "metadata": {},
   "outputs": [],
   "source": [
    "file1 = open('input_1', 'r')\n",
    "Lines = file1.readlines()\n",
    "  \n",
    "elfs = []\n",
    "current_elf = 0\n",
    "for line in Lines:\n",
    "    if line == \"\\n\":\n",
    "        elfs.append(current_elf)\n",
    "        current_elf = 0\n",
    "    else:\n",
    "        current_elf += int(line)"
   ]
  },
  {
   "cell_type": "code",
   "execution_count": 18,
   "id": "f1af34f3-d694-4903-95f9-be79984e0227",
   "metadata": {},
   "outputs": [
    {
     "data": {
      "text/plain": [
       "67450"
      ]
     },
     "execution_count": 18,
     "metadata": {},
     "output_type": "execute_result"
    }
   ],
   "source": [
    "max(elfs)"
   ]
  },
  {
   "cell_type": "markdown",
   "id": "481fa80f-8d64-44ad-ad71-54401fdc5be1",
   "metadata": {},
   "source": [
    "#### Two stars"
   ]
  },
  {
   "cell_type": "code",
   "execution_count": 19,
   "id": "3924893c-768b-4eb4-b0cb-db4f6698dd28",
   "metadata": {},
   "outputs": [
    {
     "data": {
      "text/plain": [
       "199357"
      ]
     },
     "execution_count": 19,
     "metadata": {},
     "output_type": "execute_result"
    }
   ],
   "source": [
    "sum(sorted(elfs)[-3:])"
   ]
  },
  {
   "cell_type": "code",
   "execution_count": null,
   "id": "31719c38-70d5-440d-b4c2-1fac7656d99b",
   "metadata": {},
   "outputs": [],
   "source": []
  }
 ],
 "metadata": {
  "kernelspec": {
   "display_name": "Python 3 (ipykernel)",
   "language": "python",
   "name": "python3"
  },
  "language_info": {
   "codemirror_mode": {
    "name": "ipython",
    "version": 3
   },
   "file_extension": ".py",
   "mimetype": "text/x-python",
   "name": "python",
   "nbconvert_exporter": "python",
   "pygments_lexer": "ipython3",
   "version": "3.9.12"
  }
 },
 "nbformat": 4,
 "nbformat_minor": 5
}
