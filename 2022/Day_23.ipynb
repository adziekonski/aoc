{
 "cells": [
  {
   "cell_type": "code",
   "execution_count": 201,
   "id": "559fe8ff-d590-44cb-861c-ee0c1173dbe4",
   "metadata": {},
   "outputs": [],
   "source": [
    "from collections import defaultdict\n",
    "def read_and_process_file(filename='input'):\n",
    "    file = open(f'{filename}_23', 'r')\n",
    "    lines = [[\"_\"]+[c for c in l.rstrip()]+[\"_\"] for l in file.readlines()]\n",
    "    empty_row = [\"_\" for _ in range(len(lines[0]))]\n",
    "    lines.insert(0, empty_row)\n",
    "    lines.append(empty_row)\n",
    "    elfs = {}\n",
    "    elf_id = 0\n",
    "    for r_id, r in enumerate(lines):\n",
    "        for c_id, c in enumerate(r):\n",
    "            if c==\"#\":\n",
    "                elfs[elf_id] = (r_id,c_id)\n",
    "                elf_id+=1\n",
    "    return lines,elfs"
   ]
  },
  {
   "cell_type": "code",
   "execution_count": 202,
   "id": "88b7ff83-52c7-4fdd-9018-20dbed6e4df1",
   "metadata": {},
   "outputs": [],
   "source": [
    "def print_table(data):\n",
    "    data = ([\"\".join([str(c) for c in r]) for r in data])\n",
    "    for r in data:\n",
    "        print(r)"
   ]
  },
  {
   "cell_type": "code",
   "execution_count": 203,
   "id": "23020a63-2b1e-45cc-90f7-b1267409a04e",
   "metadata": {},
   "outputs": [],
   "source": [
    "DIRECTIONS = [\n",
    "    ((-1,0),(-1,-1),(-1,1)), #north\n",
    "    ((1,0),(1,-1),(1,1)),    #south\n",
    "    ((0,-1),(-1,-1),(1,-1)), #west\n",
    "    ((0,1),(-1,1),(1,1))     #east\n",
    "]\n",
    "\n",
    "ALL_DIMS = [(-1,-1),(-1,0),(-1,1),(0,1),(1,1),(1,0),(1,-1),(0,-1)]"
   ]
  },
  {
   "cell_type": "code",
   "execution_count": 273,
   "id": "4b0ed39e-3088-43cf-862d-4705ba9f1ce2",
   "metadata": {},
   "outputs": [],
   "source": [
    "def extend_map(_map, _elfs):\n",
    "    if any([ch=='#' for ch in _map[1]]):\n",
    "        empty_row = [\".\" for _ in range(len(_map[0]))]\n",
    "        _map.insert(1, empty_row)\n",
    "        _elfs = {k:(v[0]+1,v[1]) for k,v in _elfs.items()}\n",
    "    if any([ch=='#' for ch in _map[-2]]):\n",
    "        empty_row = [\".\" for _ in range(len(_map[0]))]\n",
    "        _map.insert(len(_map)-1, empty_row)\n",
    "           \n",
    "    if any([_map[r][1]=='#' for r in range(len(_map))]):\n",
    "        _map = [[x[0]]+[\".\"]+x[1:] for x in _map]\n",
    "        _elfs = {k:(v[0],v[1]+1) for k,v in _elfs.items()}\n",
    "    if any([_map[r][-2]=='#' for r in range(len(_map))]):\n",
    "        _map = [x[:-1]+[\".\"]+[x[-1]] for x in _map]\n",
    "        \n",
    "    for r in range(len(_map)):\n",
    "        _map[r][0] = \"_\"\n",
    "        _map[r][-1] = \"_\"\n",
    "    for c in range(len(_map[0])):\n",
    "        _map[0][c] = \"_\"\n",
    "        _map[-1][c] = \"_\"\n",
    "        \n",
    "    return _map, _elfs"
   ]
  },
  {
   "cell_type": "code",
   "execution_count": 279,
   "id": "326b4b84-7212-49b7-9d85-d4e2a497a20c",
   "metadata": {},
   "outputs": [],
   "source": [
    "def perform_rounds(_map, _elfs, limit):\n",
    "    r = 0\n",
    "    while(True):\n",
    "        if limit is not None:\n",
    "            if r>=limit:\n",
    "                return _map, _elfs\n",
    "        planned_movements = defaultdict(list)\n",
    "        _map,_elfs = extend_map(_map,_elfs)\n",
    "\n",
    "        for elf_id, elf_coord in _elfs.items():\n",
    "            #Check if elf will do anything this round\n",
    "            has_neighbor = False\n",
    "            for _r, _c in ALL_DIMS:\n",
    "                if _map[elf_coord[0]+_r][elf_coord[1]+_c]==\"#\":\n",
    "                    has_neighbor = True\n",
    "                    break\n",
    "\n",
    "            #Create plan for movements\n",
    "            if has_neighbor:\n",
    "                move_added = False\n",
    "                for order in range(4):\n",
    "                    current_dir = DIRECTIONS[(r+order)%4]\n",
    "                    all_empty = True\n",
    "                    for _r,_c in current_dir:\n",
    "                        if _map[elf_coord[0]+_r][elf_coord[1]+_c]!=\".\":\n",
    "                            all_empty = False\n",
    "                            break\n",
    "                    if all_empty:\n",
    "                        move_added = True\n",
    "                        planned_movements[(elf_coord[0]+current_dir[0][0], elf_coord[1]+current_dir[0][1])].append(elf_id)\n",
    "                        break\n",
    "\n",
    "        #Perform movements\n",
    "        movements = 0\n",
    "        for new_pos, candidates in planned_movements.items():\n",
    "            if len(candidates)>1:\n",
    "                continue\n",
    "            elf_id = candidates[0]\n",
    "            cur_pos = _elfs[elf_id]\n",
    "            _map[cur_pos[0]][cur_pos[1]] = \".\"\n",
    "            _map[new_pos[0]][new_pos[1]] = \"#\"\n",
    "            _elfs[elf_id] = new_pos\n",
    "            movements += 1\n",
    "        \n",
    "        if movements == 0:\n",
    "            print(f\"No movements of elves in round {r+1}\")\n",
    "            return _map, _elfs\n",
    "        r+=1\n",
    "    return _map, _elfs"
   ]
  },
  {
   "cell_type": "code",
   "execution_count": 280,
   "id": "5342b61d-e8c4-47b8-86c7-3c398efaee6f",
   "metadata": {},
   "outputs": [],
   "source": [
    "def calculate_empty_area(_elfs):\n",
    "    rows = [v[0] for k,v in _elfs.items()]\n",
    "    cols = [v[1] for k,v in _elfs.items()]\n",
    "    area = (max(rows)-min(rows)+1)*(max(cols)-min(cols)+1)-len(_elfs)\n",
    "    return area"
   ]
  },
  {
   "cell_type": "markdown",
   "id": "b7915a7d-2df4-4f1d-bc2b-553de421745f",
   "metadata": {},
   "source": [
    "#### One star"
   ]
  },
  {
   "cell_type": "code",
   "execution_count": 281,
   "id": "4705f182-da0d-4924-998f-7fca620afbfa",
   "metadata": {},
   "outputs": [
    {
     "name": "stdout",
     "output_type": "stream",
     "text": [
      "The empty area is 3812\n"
     ]
    }
   ],
   "source": [
    "_map, _elfs = read_and_process_file('input')\n",
    "_map, _elfs = perform_rounds(_map, _elfs, 10)\n",
    "area = calculate_empty_area(_elfs)\n",
    "print(f\"The empty area is {area}\")"
   ]
  },
  {
   "cell_type": "markdown",
   "id": "24913212-2f10-4089-b8a4-65fe3c133115",
   "metadata": {},
   "source": [
    "#### Two stars"
   ]
  },
  {
   "cell_type": "code",
   "execution_count": 282,
   "id": "dcc5b745-afe2-49df-a17e-c89bc7e8cdad",
   "metadata": {},
   "outputs": [
    {
     "name": "stdout",
     "output_type": "stream",
     "text": [
      "No movements of elves in round 1003\n"
     ]
    }
   ],
   "source": [
    "_map, _elfs = read_and_process_file('input')\n",
    "_map, _elfs = perform_rounds(_map, _elfs, None)"
   ]
  },
  {
   "cell_type": "code",
   "execution_count": null,
   "id": "484d10d1-055c-46bf-a48c-5dd03e7a6db3",
   "metadata": {},
   "outputs": [],
   "source": []
  }
 ],
 "metadata": {
  "kernelspec": {
   "display_name": "Python 3 (ipykernel)",
   "language": "python",
   "name": "python3"
  },
  "language_info": {
   "codemirror_mode": {
    "name": "ipython",
    "version": 3
   },
   "file_extension": ".py",
   "mimetype": "text/x-python",
   "name": "python",
   "nbconvert_exporter": "python",
   "pygments_lexer": "ipython3",
   "version": "3.9.12"
  }
 },
 "nbformat": 4,
 "nbformat_minor": 5
}
