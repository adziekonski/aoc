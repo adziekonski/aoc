{
 "cells": [
  {
   "cell_type": "code",
   "execution_count": 446,
   "id": "a4728bb7-a7fd-4188-b261-711b33c230dc",
   "metadata": {},
   "outputs": [],
   "source": [
    "from collections import defaultdict\n",
    "\n",
    "def read_and_process_file():\n",
    "    file1 = open('input_8', 'r')\n",
    "    text = [l.rstrip() for l in file1.readlines()]\n",
    "    return text"
   ]
  },
  {
   "cell_type": "code",
   "execution_count": 447,
   "id": "8beb3dd2-198e-44d6-8c83-c11d103982ed",
   "metadata": {},
   "outputs": [],
   "source": [
    "text = read_and_process_file()\n",
    "size_of_matrix = len(text)"
   ]
  },
  {
   "cell_type": "markdown",
   "id": "a20b4bc3-25ff-4c99-999d-d23940a0f8d2",
   "metadata": {},
   "source": [
    "#### One star"
   ]
  },
  {
   "cell_type": "code",
   "execution_count": 448,
   "id": "dc9dd9d1-d746-4770-92fc-7276ab1b6a2f",
   "metadata": {},
   "outputs": [],
   "source": [
    "visible = [[0 for r in range(size_of_matrix)] for r in range(size_of_matrix)]"
   ]
  },
  {
   "cell_type": "code",
   "execution_count": 449,
   "id": "0dddeba9-26ac-455c-9549-dfab6ecc35e3",
   "metadata": {},
   "outputs": [],
   "source": [
    "for r in range(size_of_matrix):\n",
    "    current_max = -1\n",
    "    for c in range(size_of_matrix):\n",
    "        if int(text[r][c])>current_max:\n",
    "            visible[r][c] = 1\n",
    "            current_max = int(text[r][c])\n",
    "            \n",
    "for r in range(size_of_matrix):\n",
    "    current_max = -1\n",
    "    for c in range(size_of_matrix-1, 0, -1):\n",
    "        if int(text[r][c])>current_max:\n",
    "            visible[r][c] = 1\n",
    "            current_max = int(text[r][c])\n",
    "            \n",
    "for c in range(size_of_matrix):\n",
    "    current_max = -1\n",
    "    for r in range(size_of_matrix):\n",
    "        if int(text[r][c])>current_max:\n",
    "            visible[r][c] = 1\n",
    "            current_max = int(text[r][c])\n",
    "            \n",
    "for c in range(size_of_matrix):\n",
    "    current_max = -1\n",
    "    for r in range(size_of_matrix-1, 0, -1):\n",
    "        if int(text[r][c])>current_max:\n",
    "            visible[r][c] = 1\n",
    "            current_max = int(text[r][c])"
   ]
  },
  {
   "cell_type": "code",
   "execution_count": 450,
   "id": "91855639-b8be-497b-bc70-da3b36ee30da",
   "metadata": {},
   "outputs": [
    {
     "data": {
      "text/plain": [
       "1676"
      ]
     },
     "execution_count": 450,
     "metadata": {},
     "output_type": "execute_result"
    }
   ],
   "source": [
    "sum([sum(r) for r in visible])"
   ]
  },
  {
   "cell_type": "markdown",
   "id": "37acf796-b5d4-48a1-b5e0-26a000f43f56",
   "metadata": {},
   "source": [
    "#### Two stars"
   ]
  },
  {
   "cell_type": "code",
   "execution_count": 451,
   "id": "d6c4b57f-2bd2-48ab-bd8e-e60d777e25a5",
   "metadata": {},
   "outputs": [],
   "source": [
    "def find_left(text, r, c):\n",
    "    if c==0:\n",
    "        return 0\n",
    "    res = 0\n",
    "    for i in range(c-1, -1, -1):\n",
    "        if int(text[r][i])<int(text[r][c]):\n",
    "            res+=1\n",
    "        else:\n",
    "            return res + 1\n",
    "    return res\n",
    "\n",
    "def find_right(text, r, c):\n",
    "    if c==(len(text[0])-1):\n",
    "        return 0\n",
    "    res = 0\n",
    "    for i in range(c+1, len(text[0]), 1):\n",
    "        if int(text[r][i])<int(text[r][c]):\n",
    "            res+=1\n",
    "        else:\n",
    "            return res + 1\n",
    "    return res\n",
    "\n",
    "def find_up(text, r, c):\n",
    "    if r==0:\n",
    "        return 0\n",
    "    res = 0\n",
    "    cur_max = -1\n",
    "    for i in range(r-1, -1, -1):\n",
    "        if int(text[i][c])<int(text[r][c]):\n",
    "            res+=1\n",
    "        else:\n",
    "            return res + 1\n",
    "    return res\n",
    "\n",
    "def find_down(text, r, c):\n",
    "    if r==(len(text[0])-1):\n",
    "        return 0\n",
    "    res = 0\n",
    "    cur_max = -1\n",
    "    for i in range(r+1, len(text[0]), 1):\n",
    "        if int(text[i][c])<int(text[r][c]):\n",
    "            res+=1\n",
    "        else:\n",
    "            return res + 1\n",
    "    return res"
   ]
  },
  {
   "cell_type": "code",
   "execution_count": 452,
   "id": "bc0088f6-7518-4e16-8fa2-ece6a3ae7ae1",
   "metadata": {},
   "outputs": [],
   "source": [
    "scenic_score = [[0 for r in range(size_of_matrix)] for r in range(size_of_matrix)]\n",
    "for r in range(size_of_matrix):\n",
    "    for c in range(size_of_matrix):\n",
    "        scenic_score[r][c] = find_left(text,r,c)*find_right(text,r,c)*find_up(text,r,c)*find_down(text,r,c)"
   ]
  },
  {
   "cell_type": "code",
   "execution_count": 453,
   "id": "687b0a29-1c77-4c6c-ac53-2c6419586cf1",
   "metadata": {},
   "outputs": [
    {
     "data": {
      "text/plain": [
       "313200"
      ]
     },
     "execution_count": 453,
     "metadata": {},
     "output_type": "execute_result"
    }
   ],
   "source": [
    "max([max(ss) for ss in scenic_score])"
   ]
  }
 ],
 "metadata": {
  "kernelspec": {
   "display_name": "Python 3 (ipykernel)",
   "language": "python",
   "name": "python3"
  },
  "language_info": {
   "codemirror_mode": {
    "name": "ipython",
    "version": 3
   },
   "file_extension": ".py",
   "mimetype": "text/x-python",
   "name": "python",
   "nbconvert_exporter": "python",
   "pygments_lexer": "ipython3",
   "version": "3.9.12"
  }
 },
 "nbformat": 4,
 "nbformat_minor": 5
}
