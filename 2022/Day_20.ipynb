{
 "cells": [
  {
   "cell_type": "code",
   "execution_count": 235,
   "id": "5de02e3e-d4de-4fa2-a1e1-b2c43a3f57f7",
   "metadata": {},
   "outputs": [],
   "source": [
    "def read_and_process_file(filename='input'):\n",
    "    file1 = open(f'{filename}_20', 'r')\n",
    "    return [int(l.rstrip()) for l in file1.readlines()]"
   ]
  },
  {
   "cell_type": "code",
   "execution_count": 236,
   "id": "d9f75f26-2e5d-41b8-afd1-bd84ba458330",
   "metadata": {},
   "outputs": [],
   "source": [
    "def transform_idx(idx, data):\n",
    "    res = [-999 for _ in range(len(idx))]\n",
    "    for element, position in enumerate(idx):\n",
    "        res[position] = data[element]\n",
    "    return res"
   ]
  },
  {
   "cell_type": "code",
   "execution_count": 375,
   "id": "ae9f8982-5fad-4545-9ad7-9be5816dac49",
   "metadata": {},
   "outputs": [],
   "source": [
    "def decrypt_document(data, number_of_rounds=1, elements_of_interest = [1000,2000,3000]):\n",
    "    size = len(data)\n",
    "    idx = [_ for _ in range(size)]\n",
    "    _order = 0\n",
    "    for i in range(size*number_of_rounds):\n",
    "        current_id = idx[_order]\n",
    "        value = data[_order]\n",
    "        value_mod = value%(size-1)\n",
    "\n",
    "        if value_mod==0:\n",
    "            _order = (_order+1)%size\n",
    "            continue\n",
    "\n",
    "        new_position = (current_id + value_mod)\n",
    "        new_position = new_position%(size-1)\n",
    "        \n",
    "        \n",
    "        if (new_position == 0) and (value<0):\n",
    "            new_position = size-1\n",
    "\n",
    "        if new_position > current_id:\n",
    "            for element, position in enumerate(idx):\n",
    "                if (position > current_id) and (position <= new_position):\n",
    "                    idx[element] -= 1\n",
    "        elif new_position < current_id:\n",
    "            for element, position in enumerate(idx):\n",
    "                if (position < current_id) and (position >= new_position):\n",
    "                    idx[element] += 1\n",
    "\n",
    "        idx[_order] = new_position\n",
    "        _order = (_order+1)%size\n",
    "    \n",
    "    final_sequence = transform_idx(idx,data)\n",
    "    sequence_start = idx[data.index(0)]\n",
    "    res = 0\n",
    "    for el in elements_of_interest:\n",
    "        selected = (sequence_start+el)%size\n",
    "        res += final_sequence[selected]\n",
    "        print(f\"---Selected idx {selected} with value {final_sequence[selected]}\")\n",
    "    print(f\"The decrypted message is: {res}\")\n",
    "    \n",
    "    return final_sequence"
   ]
  },
  {
   "cell_type": "markdown",
   "id": "a475fca3-f3c2-4e11-a110-82df9ee920d9",
   "metadata": {},
   "source": [
    "#### One star"
   ]
  },
  {
   "cell_type": "code",
   "execution_count": 376,
   "id": "ad5dd542-c00a-42a9-b021-80bdde652e96",
   "metadata": {},
   "outputs": [
    {
     "name": "stdout",
     "output_type": "stream",
     "text": [
      "---Selected idx 3 with value 4\n",
      "---Selected idx 2 with value -3\n",
      "---Selected idx 1 with value 2\n",
      "The decrypted message is: 3\n"
     ]
    }
   ],
   "source": [
    "data = read_and_process_file('test')\n",
    "res = decrypt_document(data)"
   ]
  },
  {
   "cell_type": "markdown",
   "id": "70f674bf-7904-4f50-aeb2-b743641466b1",
   "metadata": {},
   "source": [
    "#### Two stars"
   ]
  },
  {
   "cell_type": "code",
   "execution_count": 378,
   "id": "eb2db88a-9f9a-4d1a-9fe7-527bf9351c7e",
   "metadata": {},
   "outputs": [
    {
     "name": "stdout",
     "output_type": "stream",
     "text": [
      "---Selected idx 1283 with value 4833824995268\n",
      "---Selected idx 2283 with value 5708718102202\n",
      "---Selected idx 3283 with value 2541897227196\n",
      "The decrypted message is: 13084440324666\n"
     ]
    }
   ],
   "source": [
    "data = read_and_process_file('input')\n",
    "data = [i*811589153 for i in data]\n",
    "res = decrypt_document(data, 10)"
   ]
  },
  {
   "cell_type": "code",
   "execution_count": null,
   "id": "77fba993-625a-4a1d-9c4a-e038a10193be",
   "metadata": {},
   "outputs": [],
   "source": []
  },
  {
   "cell_type": "code",
   "execution_count": null,
   "id": "345bbdd8-441a-461a-ba68-2ce074ed5ab1",
   "metadata": {},
   "outputs": [],
   "source": []
  },
  {
   "cell_type": "code",
   "execution_count": null,
   "id": "93910d0f-3cd5-4070-8d02-0d90d73a1540",
   "metadata": {},
   "outputs": [],
   "source": []
  },
  {
   "cell_type": "code",
   "execution_count": null,
   "id": "3935cf1e-193a-4044-9b32-521d4ceaea1b",
   "metadata": {},
   "outputs": [],
   "source": []
  },
  {
   "cell_type": "code",
   "execution_count": null,
   "id": "189ca50d-dc1f-4590-bbc6-13ce45ee676d",
   "metadata": {},
   "outputs": [],
   "source": []
  },
  {
   "cell_type": "code",
   "execution_count": null,
   "id": "e6019cf2-e2d2-4612-91b6-5191ac01672c",
   "metadata": {},
   "outputs": [],
   "source": []
  },
  {
   "cell_type": "markdown",
   "id": "6886b6ff-39cb-4508-b05d-1d3ec8abf8d2",
   "metadata": {},
   "source": [
    "#### First tries"
   ]
  },
  {
   "cell_type": "code",
   "execution_count": null,
   "id": "65c635c3-26b9-4ee4-8114-e0f222fe8950",
   "metadata": {},
   "outputs": [],
   "source": [
    "value = 3\n",
    "current_id = 4\n",
    "new_position = 8\n",
    "idx = [0,1,2,3,4,5,6]\n",
    "data = [_+100 for _ in idx]\n",
    "size = len(data)\n",
    "\n",
    "_min = min(current_id, new_position)\n",
    "_max = max(current_id, new_position)\n",
    "_diff = new_position - current_id\n",
    "_range = _max - _min + 1\n",
    "\n",
    "for element, position in enumerate(idx):\n",
    "    if value > 0: #shift right\n",
    "        if _max > size:\n",
    "            #harder\n",
    "            if (position >= _min) or (position <= (_max%size)):\n",
    "                new_pos = (_min + ((idx[element]-_min)%size-1)%_range)%size\n",
    "                #print(f\"Shift right: Element {element} at position {position} to {new_pos}\")\n",
    "                idx[element] = new_pos\n",
    "        else:\n",
    "            #easier\n",
    "            if (position >= _min) and (position <= _max):\n",
    "                new_pos = _min + (idx[element]-_min-1)%_range\n",
    "                #print(f\"Shift right: Element {element} at position {position} to {new_pos}\")\n",
    "                idx[element] = new_pos\n",
    "\n",
    "    elif value < 0: #shift left\n",
    "        if _min < 0:\n",
    "            #harder\n",
    "            if (position <= _max) or (position >= (_min%size)):\n",
    "                new_pos = _min + ((idx[element]-_min)%size+1)%_range\n",
    "                #print(f\"Shift right: Element {element} at position {position} to {new_pos}\")\n",
    "                idx[element] = new_pos%size\n",
    "            \n",
    "        else:\n",
    "            #easier\n",
    "            if (position >= _min) and (position <= _max):\n",
    "                new_pos = _min + (idx[element]-_min+1)%_range\n",
    "                #print(f\"Shift right: Element {element} at position {position} to {new_pos}\")\n",
    "                idx[element] = new_pos\n"
   ]
  },
  {
   "cell_type": "code",
   "execution_count": null,
   "id": "f68b1291-c905-40f9-a839-c3b29e01fea8",
   "metadata": {},
   "outputs": [],
   "source": []
  },
  {
   "cell_type": "code",
   "execution_count": null,
   "id": "eb1670f9-be79-47df-9830-da681a13f333",
   "metadata": {},
   "outputs": [],
   "source": [
    "#GOOD IF SHIFTING AND NOT ONLY POSITION CHANGING\n",
    "data = read_and_process_file('test')\n",
    "idx = [_ for _ in range(size)]\n",
    "size = len(data)\n",
    "_order = 0\n",
    "\n",
    "number_of_shifts = 7\n",
    "\n",
    "for i in range(number_of_shifts):\n",
    "    current_id = idx[_order]\n",
    "    value = data[_order]\n",
    "    new_position = (current_id + value)\n",
    "\n",
    "    _min = min(current_id, new_position)\n",
    "    _max = max(current_id, new_position)\n",
    "    _range = _max - _min + 1\n",
    "    \n",
    "    print(f\"Min - Max {_min} - {_max}\")\n",
    "\n",
    "    for element, position in enumerate(idx):\n",
    "        if value > 0: #shift right\n",
    "            if _max > size:\n",
    "                #harder\n",
    "                if (position >= _min) or (position <= (_max%size)):\n",
    "                    new_pos = (_min + ((idx[element]-_min)%size-1)%_range)%size\n",
    "                    #print(f\"Shift right: Element {element} at position {position} to {new_pos}\")\n",
    "                    idx[element] = new_pos\n",
    "            else:\n",
    "                #easier\n",
    "                if (position >= _min) and (position <= _max):\n",
    "                    new_pos = _min + (idx[element]-_min-1)%_range\n",
    "                    #print(f\"Shift right: Element {element} at position {position} to {new_pos}\")\n",
    "                    idx[element] = new_pos\n",
    "\n",
    "        elif value < 0: #shift left\n",
    "            if _min < 0:\n",
    "                #harder\n",
    "                if (position <= _max) or (position >= (_min%size)):\n",
    "                    new_pos = _min + ((idx[element]-_min)%size+1)%_range\n",
    "                    #print(f\"Shift right: Element {element} at position {position} to {new_pos}\")\n",
    "                    idx[element] = new_pos%size\n",
    "\n",
    "            else:\n",
    "                #easier\n",
    "                if (position >= _min) and (position <= _max):\n",
    "                    new_pos = _min + (idx[element]-_min+1)%_range\n",
    "                    #print(f\"Shift right: Element {element} at position {position} to {new_pos}\")\n",
    "                    idx[element] = new_pos\n",
    "\n",
    "            \n",
    "    \n",
    "    print(f\"After moving {value}\")\n",
    "    print(idx)\n",
    "    print(transform_idx(idx,data))\n",
    "    print()\n",
    "    _order = (_order+1)%size"
   ]
  }
 ],
 "metadata": {
  "kernelspec": {
   "display_name": "Python 3 (ipykernel)",
   "language": "python",
   "name": "python3"
  },
  "language_info": {
   "codemirror_mode": {
    "name": "ipython",
    "version": 3
   },
   "file_extension": ".py",
   "mimetype": "text/x-python",
   "name": "python",
   "nbconvert_exporter": "python",
   "pygments_lexer": "ipython3",
   "version": "3.9.12"
  }
 },
 "nbformat": 4,
 "nbformat_minor": 5
}
