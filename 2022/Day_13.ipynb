{
 "cells": [
  {
   "cell_type": "code",
   "execution_count": 386,
   "id": "f910441d-81a0-4e61-95b1-d2489ccf1ec3",
   "metadata": {},
   "outputs": [],
   "source": [
    "import ast\n",
    "\n",
    "def read_and_process_file_one_star():\n",
    "    file1 = open('input_13', 'r')\n",
    "    text = [l.rstrip() for l in file1.readlines()]\n",
    "    text.append('') \n",
    "    data = {}\n",
    "    for packet_num in range(len(text)//3):\n",
    "        data[packet_num+1] = (ast.literal_eval(text[3*packet_num]), ast.literal_eval(text[3*packet_num+1])) #TODO TRY TO PARSE YOURSELF\n",
    "\n",
    "    return data\n",
    "\n",
    "def read_and_process_file_two_stars():\n",
    "    file1 = open('input_13', 'r')\n",
    "    text = [l.rstrip() for l in file1.readlines()]\n",
    "    data = []\n",
    "    for l in text:\n",
    "        if l=='':\n",
    "            continue\n",
    "        data.append(l)\n",
    "    data.append('[[2]]')\n",
    "    data.append('[[6]]')\n",
    "    data = [ast.literal_eval(d) for d in data]\n",
    "    return data"
   ]
  },
  {
   "cell_type": "code",
   "execution_count": 387,
   "id": "d9e558a6-3e3d-43fd-8ab6-f9503e4e6c40",
   "metadata": {},
   "outputs": [],
   "source": [
    "def compare_packets(_left, _right, debug=False):\n",
    "    _left = _left.copy()\n",
    "    _right = _right.copy()\n",
    "    while(_left):\n",
    "        _cur_l = _left.pop(0)\n",
    "        if len(_right)==0:\n",
    "            if debug:\n",
    "                print(\"RIGHT LIST: no elements\")\n",
    "            return False\n",
    "        _cur_r = _right.pop(0)\n",
    "        if debug:\n",
    "            print(f\"L: {_cur_l}\")\n",
    "            print(f\"R: {_cur_r}\")\n",
    "            print(\"-\")\n",
    "        \n",
    "        if (type(_cur_l)==int) and (type(_cur_r)==list):\n",
    "            _cur_l = [_cur_l]\n",
    "        elif (type(_cur_l)==list) and (type(_cur_r)==int):\n",
    "            _cur_r = [_cur_r]\n",
    "        \n",
    "        if (type(_cur_l)==int) & (type(_cur_r)==int):\n",
    "            if _cur_l < _cur_r:\n",
    "                if debug:\n",
    "                    print(\"[][][][][] CORRECT: left is smaller\")\n",
    "                return True\n",
    "            elif _cur_l > _cur_r:\n",
    "                if debug:\n",
    "                    print(\"RIGHT INT: smaller\")\n",
    "                return False\n",
    "        elif (type(_cur_l)==list) & (type(_cur_r)==list):\n",
    "            single_element = compare_packets(_cur_l, _cur_r)\n",
    "            if single_element is not None:\n",
    "                return single_element\n",
    "            if len(_cur_l) > len(_cur_r):\n",
    "                if debug:\n",
    "                    print(\"RIGHT LIST: shorter\")\n",
    "                return False\n",
    "            elif len(_cur_l) < len(_cur_r):\n",
    "                if debug:\n",
    "                    print(\"[][][][][] CORRECT: left has less elements\")\n",
    "                return True\n",
    "    if len(_right)>0:\n",
    "        if debug:\n",
    "            print(\"[][][][][] CORRECT: right has still some elements remaining\")\n",
    "        return True"
   ]
  },
  {
   "cell_type": "markdown",
   "id": "bfc98577-3f76-44ee-90e7-f65f7a7d3dff",
   "metadata": {},
   "source": [
    "#### One star"
   ]
  },
  {
   "cell_type": "code",
   "execution_count": 389,
   "id": "5e29af78-7f96-4c1c-b68d-a71138edf0f4",
   "metadata": {},
   "outputs": [
    {
     "name": "stdout",
     "output_type": "stream",
     "text": [
      "The resulting sum is: 5185\n"
     ]
    }
   ],
   "source": [
    "data = read_and_process_file_one_star()\n",
    "debug=False\n",
    "res = 0\n",
    "to_be_checked = []\n",
    "for packet_num, content in data.items():\n",
    "    if debug:\n",
    "        print(\"\\n\")\n",
    "        print(f\"_____Packet number: {packet_num}\")\n",
    "    _left = content[0]\n",
    "    _right = content[1]\n",
    "    if compare_packets(_left, _right, debug):\n",
    "        res += packet_num\n",
    "        #print(f\"Packet {packet_num} is succesful\")\n",
    "    else:\n",
    "        to_be_checked.append(packet_num)\n",
    "    \n",
    "        \n",
    "print(f\"The resulting sum is: {res}\")"
   ]
  },
  {
   "cell_type": "markdown",
   "id": "63f58c65-760b-4c9a-b1c6-5c7491b135fd",
   "metadata": {},
   "source": [
    "#### Two stars"
   ]
  },
  {
   "cell_type": "code",
   "execution_count": 390,
   "id": "56dea173-a7ad-40b3-b037-564ab5e298e7",
   "metadata": {},
   "outputs": [
    {
     "name": "stdout",
     "output_type": "stream",
     "text": [
      "The resulting sum is: 23751\n"
     ]
    }
   ],
   "source": [
    "data = read_and_process_file_two()\n",
    "res=[]\n",
    "for packet in data:\n",
    "    if len(res)==0:\n",
    "        res.append(packet)\n",
    "        continue\n",
    "    added=False\n",
    "    for i, c in enumerate(res):\n",
    "        if compare_packets(packet, c):\n",
    "            res.insert(i,packet)\n",
    "            added=True\n",
    "            break\n",
    "    if not added:\n",
    "        res.append(packet)\n",
    "        \n",
    "res = (res.index([[2]])+1)*(res.index([[6]])+1)\n",
    "print(f\"The resulting sum is: {res}\")"
   ]
  }
 ],
 "metadata": {
  "kernelspec": {
   "display_name": "Python 3 (ipykernel)",
   "language": "python",
   "name": "python3"
  },
  "language_info": {
   "codemirror_mode": {
    "name": "ipython",
    "version": 3
   },
   "file_extension": ".py",
   "mimetype": "text/x-python",
   "name": "python",
   "nbconvert_exporter": "python",
   "pygments_lexer": "ipython3",
   "version": "3.9.12"
  }
 },
 "nbformat": 4,
 "nbformat_minor": 5
}
