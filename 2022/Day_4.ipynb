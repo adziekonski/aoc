{
 "cells": [
  {
   "cell_type": "markdown",
   "id": "e5c015d5-02ad-4b24-8375-5558942e57e3",
   "metadata": {},
   "source": [
    "#### One star"
   ]
  },
  {
   "cell_type": "code",
   "execution_count": 31,
   "id": "cdc3f61f-650e-4b40-9cf5-b83ba99ba08b",
   "metadata": {},
   "outputs": [],
   "source": [
    "file1 = open('input_4', 'r')\n",
    "Lines = file1.readlines()\n",
    "\n",
    "tasks = []\n",
    "subset = 0\n",
    "check = []\n",
    "for line in Lines:\n",
    "    current = [[int(x) for x in c.split('-')] for c in line.rstrip().split(\",\")]\n",
    "    if (current[0][0] >= current[1][0])&(current[0][1] <= current[1][1]):\n",
    "        subset += 1\n",
    "        check.append(current)\n",
    "    elif (current[0][0] <= current[1][0])&(current[0][1] >= current[1][1]):\n",
    "        subset +=1\n",
    "        check.append(current)\n",
    "    tasks.append(current)\n",
    "subset "
   ]
  },
  {
   "cell_type": "markdown",
   "id": "b6baaaff-766f-432e-bef5-07c097652e9e",
   "metadata": {},
   "source": [
    "#### Two stars"
   ]
  },
  {
   "cell_type": "code",
   "execution_count": 33,
   "id": "35d005c3-245f-4807-86ff-90535604976f",
   "metadata": {},
   "outputs": [],
   "source": [
    "tasks = []\n",
    "subset = 0\n",
    "check = []\n",
    "for line in Lines:\n",
    "    current = [[int(x) for x in c.split('-')] for c in line.rstrip().split(\",\")]\n",
    "    if (current[0][0] >= current[1][0])&(current[1][1] >= current[0][0]):\n",
    "        subset += 1\n",
    "    elif (current[0][0] <= current[1][0])&(current[0][1] >= current[1][0]):\n",
    "        subset +=1\n",
    "    tasks.append(current)\n",
    "subset"
   ]
  },
  {
   "cell_type": "code",
   "execution_count": null,
   "id": "b671d5d5-3826-4feb-acb8-88e5066714b5",
   "metadata": {},
   "outputs": [],
   "source": []
  }
 ],
 "metadata": {
  "kernelspec": {
   "display_name": "Python 3 (ipykernel)",
   "language": "python",
   "name": "python3"
  },
  "language_info": {
   "codemirror_mode": {
    "name": "ipython",
    "version": 3
   },
   "file_extension": ".py",
   "mimetype": "text/x-python",
   "name": "python",
   "nbconvert_exporter": "python",
   "pygments_lexer": "ipython3",
   "version": "3.9.12"
  }
 },
 "nbformat": 4,
 "nbformat_minor": 5
}
